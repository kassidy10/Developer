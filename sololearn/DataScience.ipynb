{
 "cells": [
  {
   "cell_type": "markdown",
   "metadata": {},
   "source": [
    "Numpy\n",
    "numpy is short for Numerical Python.\n",
    "\n",
    "Numerical data\n",
    "Datasets come from a wide range of sources and formats: it could be collections of numerical measurements, text corpus, images, audio clips, or basically anything. No matter the format, the first step in data science is to transform it into array of numbers\n",
    "\n"
   ]
  },
  {
   "cell_type": "code",
   "execution_count": 1,
   "metadata": {},
   "outputs": [],
   "source": [
    "heights = [\n",
    "    189,150,135,135,165,123,142,163,135,\n",
    "    143,163,136,124,164,173,178,185,174,\n",
    "    182,142,122,183,181,191,193,102,192,\n",
    "    144,122,173,171,123,172,178,103,100,\n",
    "    136,193,123,161,171,177,142,122,128\n",
    "]"
   ]
  },
  {
   "cell_type": "markdown",
   "metadata": {},
   "source": [
    "to know the number of presidents that are taller than 188cm, we could iterate through the list, compare each element against 188, and increase the count by 1 as the criteria is met"
   ]
  },
  {
   "cell_type": "code",
   "execution_count": 4,
   "metadata": {},
   "outputs": [
    {
     "data": {
      "text/plain": [
       "([193], 1)"
      ]
     },
     "execution_count": 4,
     "metadata": {},
     "output_type": "execute_result"
    }
   ],
   "source": [
    "for i in heights:\n",
    "    if i >= 188:\n",
    "        count = []\n",
    "        counts = 0\n",
    "        counts += 1\n",
    "        count.append(i)\n",
    "        \n",
    "        \n",
    "count, counts"
   ]
  },
  {
   "cell_type": "code",
   "execution_count": 5,
   "metadata": {},
   "outputs": [],
   "source": [
    "import numpy as np"
   ]
  },
  {
   "cell_type": "code",
   "execution_count": 10,
   "metadata": {},
   "outputs": [],
   "source": [
    "heights_arr = np.array(heights)\n",
    "#print((heights_arr > 150).sum())"
   ]
  },
  {
   "cell_type": "code",
   "execution_count": 11,
   "metadata": {},
   "outputs": [
    {
     "data": {
      "text/plain": [
       "array([189, 150, 135, 135, 165, 123, 142, 163, 135, 143, 163, 136, 124,\n",
       "       164, 173, 178, 185, 174, 182, 142, 122, 183, 181, 191, 193, 102,\n",
       "       192, 144, 122, 173, 171, 123, 172, 178, 103, 100, 136, 193, 123,\n",
       "       161, 171, 177, 142, 122, 128])"
      ]
     },
     "execution_count": 11,
     "metadata": {},
     "output_type": "execute_result"
    }
   ],
   "source": [
    "heights_arr"
   ]
  },
  {
   "cell_type": "code",
   "execution_count": 14,
   "metadata": {},
   "outputs": [
    {
     "data": {
      "text/plain": [
       "23"
      ]
     },
     "execution_count": 14,
     "metadata": {},
     "output_type": "execute_result"
    }
   ],
   "source": [
    "total = (heights_arr > 150).sum()\n",
    "total"
   ]
  },
  {
   "cell_type": "markdown",
   "metadata": {},
   "source": [
    "size and shape"
   ]
  },
  {
   "cell_type": "markdown",
   "metadata": {},
   "source": [
    "size is to get the length of array"
   ]
  },
  {
   "cell_type": "code",
   "execution_count": 15,
   "metadata": {},
   "outputs": [
    {
     "data": {
      "text/plain": [
       "45"
      ]
     },
     "execution_count": 15,
     "metadata": {},
     "output_type": "execute_result"
    }
   ],
   "source": [
    "heights_arr.size"
   ]
  },
  {
   "cell_type": "markdown",
   "metadata": {},
   "source": [
    "for shape, the output is a tuple. shape is to get the dimension of array"
   ]
  },
  {
   "cell_type": "code",
   "execution_count": 16,
   "metadata": {},
   "outputs": [
    {
     "data": {
      "text/plain": [
       "(45,)"
      ]
     },
     "execution_count": 16,
     "metadata": {},
     "output_type": "execute_result"
    }
   ],
   "source": [
    "heights_arr.shape"
   ]
  },
  {
   "cell_type": "markdown",
   "metadata": {},
   "source": [
    "Reshape"
   ]
  },
  {
   "cell_type": "code",
   "execution_count": 17,
   "metadata": {},
   "outputs": [],
   "source": [
    "ages = [\n",
    "    53,34,23,56,36,33,76,45,74,\n",
    "    47,43,85,44,89,53,46,23,47,\n",
    "    85,43,68,57,85,42,35,78,58,\n",
    "    47,79,90,67,57,89,97,98,56,\n",
    "    75,46,78,99,76,43,36,67,47\n",
    "]"
   ]
  },
  {
   "cell_type": "markdown",
   "metadata": {},
   "source": []
  },
  {
   "cell_type": "code",
   "execution_count": 20,
   "metadata": {},
   "outputs": [
    {
     "data": {
      "text/plain": [
       "array([189, 150, 135, 135, 165, 123, 142, 163, 135, 143, 163, 136, 124,\n",
       "       164, 173, 178, 185, 174, 182, 142, 122, 183, 181, 191, 193, 102,\n",
       "       192, 144, 122, 173, 171, 123, 172, 178, 103, 100, 136, 193, 123,\n",
       "       161, 171, 177, 142, 122, 128,  53,  34,  23,  56,  36,  33,  76,\n",
       "        45,  74,  47,  43,  85,  44,  89,  53,  46,  23,  47,  85,  43,\n",
       "        68,  57,  85,  42,  35,  78,  58,  47,  79,  90,  67,  57,  89,\n",
       "        97,  98,  56,  75,  46,  78,  99,  76,  43,  36,  67,  47])"
      ]
     },
     "execution_count": 20,
     "metadata": {},
     "output_type": "execute_result"
    }
   ],
   "source": [
    "heights_and_ages = heights + ages\n",
    "heights_and_ages_arr = np.array(heights_and_ages)\n",
    "heights_and_ages_arr"
   ]
  },
  {
   "cell_type": "code",
   "execution_count": 21,
   "metadata": {},
   "outputs": [
    {
     "data": {
      "text/plain": [
       "(90,)"
      ]
     },
     "execution_count": 21,
     "metadata": {},
     "output_type": "execute_result"
    }
   ],
   "source": [
    "heights_and_ages_arr.shape"
   ]
  },
  {
   "cell_type": "markdown",
   "metadata": {},
   "source": [
    "this produces one long array. it would be clearer if we could align height and age for each president and reorganize the data into a 2 by 45 matrix where the first row contains all heights and the second row contains ages, to achieve this, a new array can be created by calling numpy.ndarray.reshape with new dimensions specified in a tuple"
   ]
  },
  {
   "cell_type": "code",
   "execution_count": 24,
   "metadata": {},
   "outputs": [
    {
     "data": {
      "text/plain": [
       "array([[189, 150, 135, 135, 165, 123, 142, 163, 135, 143, 163, 136, 124,\n",
       "        164, 173, 178, 185, 174, 182, 142, 122, 183, 181, 191, 193, 102,\n",
       "        192, 144, 122, 173, 171, 123, 172, 178, 103, 100, 136, 193, 123,\n",
       "        161, 171, 177, 142, 122, 128],\n",
       "       [ 53,  34,  23,  56,  36,  33,  76,  45,  74,  47,  43,  85,  44,\n",
       "         89,  53,  46,  23,  47,  85,  43,  68,  57,  85,  42,  35,  78,\n",
       "         58,  47,  79,  90,  67,  57,  89,  97,  98,  56,  75,  46,  78,\n",
       "         99,  76,  43,  36,  67,  47]])"
      ]
     },
     "execution_count": 24,
     "metadata": {},
     "output_type": "execute_result"
    }
   ],
   "source": [
    "heights_and_ages_arr.reshape(2,45)"
   ]
  },
  {
   "cell_type": "code",
   "execution_count": null,
   "metadata": {},
   "outputs": [],
   "source": []
  }
 ],
 "metadata": {
  "kernelspec": {
   "display_name": "Python 3",
   "language": "python",
   "name": "python3"
  },
  "language_info": {
   "codemirror_mode": {
    "name": "ipython",
    "version": 3
   },
   "file_extension": ".py",
   "mimetype": "text/x-python",
   "name": "python",
   "nbconvert_exporter": "python",
   "pygments_lexer": "ipython3",
   "version": "3.12.3"
  }
 },
 "nbformat": 4,
 "nbformat_minor": 2
}
