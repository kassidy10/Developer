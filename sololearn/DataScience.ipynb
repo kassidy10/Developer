{
 "cells": [
  {
   "cell_type": "markdown",
   "metadata": {},
   "source": [
    "Numpy\n",
    "numpy is short for Numerical Python.\n",
    "\n",
    "Numerical data\n",
    "Datasets come from a wide range of sources and formats: it could be collections of numerical measurements, text corpus, images, audio clips, or basically anything. No matter the format, the first step in data science is to transform it into array of numbers\n",
    "\n"
   ]
  },
  {
   "cell_type": "code",
   "execution_count": 186,
   "metadata": {},
   "outputs": [],
   "source": [
    "heights = [\n",
    "    189,150,135,135,165,123,142,163,135,\n",
    "    143,163,136,124,164,173,178,185,174,\n",
    "    182,142,122,183,181,191,193,102,192,\n",
    "    144,122,173,171,123,172,178,103,100,\n",
    "    136,193,123,161,171,177,142,122,128\n",
    "]"
   ]
  },
  {
   "cell_type": "markdown",
   "metadata": {},
   "source": [
    "to know the number of presidents that are taller than 188cm, we could iterate through the list, compare each element against 188, and increase the count by 1 as the criteria is met"
   ]
  },
  {
   "cell_type": "code",
   "execution_count": 187,
   "metadata": {},
   "outputs": [
    {
     "data": {
      "text/plain": [
       "([193], 1)"
      ]
     },
     "execution_count": 187,
     "metadata": {},
     "output_type": "execute_result"
    }
   ],
   "source": [
    "for i in heights:\n",
    "    if i >= 188:\n",
    "        count = []\n",
    "        counts = 0\n",
    "        counts += 1\n",
    "        count.append(i)\n",
    "        \n",
    "        \n",
    "count, counts"
   ]
  },
  {
   "cell_type": "code",
   "execution_count": 188,
   "metadata": {},
   "outputs": [],
   "source": [
    "import numpy as np"
   ]
  },
  {
   "cell_type": "code",
   "execution_count": 189,
   "metadata": {},
   "outputs": [],
   "source": [
    "heights_arr = np.array(heights)\n",
    "#print((heights_arr > 150).sum())"
   ]
  },
  {
   "cell_type": "code",
   "execution_count": 190,
   "metadata": {},
   "outputs": [
    {
     "data": {
      "text/plain": [
       "array([189, 150, 135, 135, 165, 123, 142, 163, 135, 143, 163, 136, 124,\n",
       "       164, 173, 178, 185, 174, 182, 142, 122, 183, 181, 191, 193, 102,\n",
       "       192, 144, 122, 173, 171, 123, 172, 178, 103, 100, 136, 193, 123,\n",
       "       161, 171, 177, 142, 122, 128])"
      ]
     },
     "execution_count": 190,
     "metadata": {},
     "output_type": "execute_result"
    }
   ],
   "source": [
    "heights_arr"
   ]
  },
  {
   "cell_type": "code",
   "execution_count": 191,
   "metadata": {},
   "outputs": [
    {
     "data": {
      "text/plain": [
       "23"
      ]
     },
     "execution_count": 191,
     "metadata": {},
     "output_type": "execute_result"
    }
   ],
   "source": [
    "total = (heights_arr > 150).sum()\n",
    "total"
   ]
  },
  {
   "cell_type": "markdown",
   "metadata": {},
   "source": [
    "size and shape"
   ]
  },
  {
   "cell_type": "markdown",
   "metadata": {},
   "source": [
    "size is to get the length of array"
   ]
  },
  {
   "cell_type": "code",
   "execution_count": 192,
   "metadata": {},
   "outputs": [
    {
     "data": {
      "text/plain": [
       "45"
      ]
     },
     "execution_count": 192,
     "metadata": {},
     "output_type": "execute_result"
    }
   ],
   "source": [
    "heights_arr.size"
   ]
  },
  {
   "cell_type": "markdown",
   "metadata": {},
   "source": [
    "for shape, the output is a tuple. shape is to get the dimension of array"
   ]
  },
  {
   "cell_type": "code",
   "execution_count": 193,
   "metadata": {},
   "outputs": [
    {
     "data": {
      "text/plain": [
       "(45,)"
      ]
     },
     "execution_count": 193,
     "metadata": {},
     "output_type": "execute_result"
    }
   ],
   "source": [
    "heights_arr.shape"
   ]
  },
  {
   "cell_type": "markdown",
   "metadata": {},
   "source": [
    "Reshape"
   ]
  },
  {
   "cell_type": "code",
   "execution_count": 194,
   "metadata": {},
   "outputs": [],
   "source": [
    "ages = [\n",
    "    53,34,23,56,36,33,76,45,74,\n",
    "    47,43,85,44,89,53,46,23,47,\n",
    "    85,43,68,57,85,42,35,78,58,\n",
    "    47,79,90,67,57,89,97,98,56,\n",
    "    75,46,78,99,76,43,36,67,47\n",
    "]"
   ]
  },
  {
   "cell_type": "markdown",
   "metadata": {},
   "source": []
  },
  {
   "cell_type": "code",
   "execution_count": 195,
   "metadata": {},
   "outputs": [
    {
     "data": {
      "text/plain": [
       "array([189, 150, 135, 135, 165, 123, 142, 163, 135, 143, 163, 136, 124,\n",
       "       164, 173, 178, 185, 174, 182, 142, 122, 183, 181, 191, 193, 102,\n",
       "       192, 144, 122, 173, 171, 123, 172, 178, 103, 100, 136, 193, 123,\n",
       "       161, 171, 177, 142, 122, 128,  53,  34,  23,  56,  36,  33,  76,\n",
       "        45,  74,  47,  43,  85,  44,  89,  53,  46,  23,  47,  85,  43,\n",
       "        68,  57,  85,  42,  35,  78,  58,  47,  79,  90,  67,  57,  89,\n",
       "        97,  98,  56,  75,  46,  78,  99,  76,  43,  36,  67,  47])"
      ]
     },
     "execution_count": 195,
     "metadata": {},
     "output_type": "execute_result"
    }
   ],
   "source": [
    "heights_and_ages = heights + ages\n",
    "heights_and_ages_arr = np.array(heights_and_ages)\n",
    "heights_and_ages_arr"
   ]
  },
  {
   "cell_type": "code",
   "execution_count": 196,
   "metadata": {},
   "outputs": [
    {
     "data": {
      "text/plain": [
       "(90,)"
      ]
     },
     "execution_count": 196,
     "metadata": {},
     "output_type": "execute_result"
    }
   ],
   "source": [
    "heights_and_ages_arr.shape"
   ]
  },
  {
   "cell_type": "markdown",
   "metadata": {},
   "source": [
    "this produces one long array. it would be clearer if we could align height and age for each president and reorganize the data into a 2 by 45 matrix where the first row contains all heights and the second row contains ages, to achieve this, a new array can be created by calling numpy.ndarray.reshape with new dimensions specified in a tuple"
   ]
  },
  {
   "cell_type": "code",
   "execution_count": 197,
   "metadata": {},
   "outputs": [
    {
     "data": {
      "text/plain": [
       "array([[189, 150, 135, 135, 165, 123, 142, 163, 135, 143, 163, 136, 124,\n",
       "        164, 173, 178, 185, 174, 182, 142, 122, 183, 181, 191, 193, 102,\n",
       "        192, 144, 122, 173, 171, 123, 172, 178, 103, 100, 136, 193, 123,\n",
       "        161, 171, 177, 142, 122, 128],\n",
       "       [ 53,  34,  23,  56,  36,  33,  76,  45,  74,  47,  43,  85,  44,\n",
       "         89,  53,  46,  23,  47,  85,  43,  68,  57,  85,  42,  35,  78,\n",
       "         58,  47,  79,  90,  67,  57,  89,  97,  98,  56,  75,  46,  78,\n",
       "         99,  76,  43,  36,  67,  47]])"
      ]
     },
     "execution_count": 197,
     "metadata": {},
     "output_type": "execute_result"
    }
   ],
   "source": [
    "heights_and_ages_arr.reshape(2,45)"
   ]
  },
  {
   "cell_type": "markdown",
   "metadata": {},
   "source": [
    "data type\n",
    "another characteristic about numpy array is that it is homogenous, meaning each element must be of the same data type.\n",
    "for example, in heights_arr, we recorded all heights in whole numbers, thus each element is stored as an integer in  the array. to check the data type, use numpy.ndarray.dtype"
   ]
  },
  {
   "cell_type": "code",
   "execution_count": 198,
   "metadata": {},
   "outputs": [
    {
     "data": {
      "text/plain": [
       "dtype('int32')"
      ]
     },
     "execution_count": 198,
     "metadata": {},
     "output_type": "execute_result"
    }
   ],
   "source": [
    "heights_and_ages_arr.dtype"
   ]
  },
  {
   "cell_type": "code",
   "execution_count": 199,
   "metadata": {},
   "outputs": [
    {
     "data": {
      "text/plain": [
       "(4,)"
      ]
     },
     "execution_count": 199,
     "metadata": {},
     "output_type": "execute_result"
    }
   ],
   "source": [
    "a = np.array([1,2,3,4])\n",
    "a.shape"
   ]
  },
  {
   "cell_type": "code",
   "execution_count": 200,
   "metadata": {},
   "outputs": [
    {
     "data": {
      "text/plain": [
       "array([[1],\n",
       "       [2],\n",
       "       [3],\n",
       "       [4]])"
      ]
     },
     "execution_count": 200,
     "metadata": {},
     "output_type": "execute_result"
    }
   ],
   "source": [
    "a.reshape(4,1)"
   ]
  },
  {
   "cell_type": "markdown",
   "metadata": {},
   "source": [
    "Pandas vs Numpy\n",
    "what if we want to inspect the data on Abraham Lincoln in height_age_arr but cannot remember his integer position. is there a convenient way to access the data by indexing the name of the president like:\n",
    "\n",
    "height_age_arr['Abraham Lincoln']\n",
    "\n",
    "unfortunately, we will receive an error message. however, it is possible to do this in pandas. the pandas library is built on top of numpy, meaning a lot of features, methods, and functions are shared\n",
    "\n",
    "by convention, import the library under a short time name 'pd'\n",
    "\n",
    "import pandas as pd\n",
    "\n",
    "Series\n",
    "\n",
    "the series is one building block in pandas. Pandas Series is a non-dimensional labeled array that can hold data of any type (integer, string, float, python objects etc), similar to a column in an excel spreadsheet. the axis labels are collectively called index\n",
    "\n",
    "if we are given a bag of letters a,b,c, and count how many of each we have, we find that there are 1a,2b's, and 3c's. we could create a series by supplying a list of counts and their corresponding lables"
   ]
  },
  {
   "cell_type": "code",
   "execution_count": 201,
   "metadata": {},
   "outputs": [],
   "source": [
    "import pandas as pd"
   ]
  },
  {
   "cell_type": "code",
   "execution_count": 202,
   "metadata": {},
   "outputs": [
    {
     "data": {
      "text/plain": [
       "a    1\n",
       "b    2\n",
       "c    3\n",
       "dtype: int32"
      ]
     },
     "execution_count": 202,
     "metadata": {},
     "output_type": "execute_result"
    }
   ],
   "source": [
    "pd.Series(np.array([1,2,3]), index=['a','b','c'])"
   ]
  },
  {
   "cell_type": "markdown",
   "metadata": {},
   "source": [
    "series can either be represented in list with index"
   ]
  },
  {
   "cell_type": "code",
   "execution_count": 203,
   "metadata": {},
   "outputs": [
    {
     "data": {
      "text/plain": [
       "a    1\n",
       "b    2\n",
       "c    3\n",
       "dtype: int64"
      ]
     },
     "execution_count": 203,
     "metadata": {},
     "output_type": "execute_result"
    }
   ],
   "source": [
    "pd.Series([1,2,3], index=['a','b','c'])"
   ]
  },
  {
   "cell_type": "markdown",
   "metadata": {},
   "source": [
    "or the use of object"
   ]
  },
  {
   "cell_type": "code",
   "execution_count": 204,
   "metadata": {},
   "outputs": [
    {
     "data": {
      "text/plain": [
       "a    1\n",
       "b    2\n",
       "c    3\n",
       "dtype: int64"
      ]
     },
     "execution_count": 204,
     "metadata": {},
     "output_type": "execute_result"
    }
   ],
   "source": [
    "pd.Series({'a':1,'b':2,'c':3})"
   ]
  },
  {
   "cell_type": "code",
   "execution_count": 205,
   "metadata": {},
   "outputs": [
    {
     "data": {
      "text/plain": [
       "1"
      ]
     },
     "execution_count": 205,
     "metadata": {},
     "output_type": "execute_result"
    }
   ],
   "source": [
    "series = pd.Series({'a':1,'b':2,'c':3})\n",
    "series['a']"
   ]
  },
  {
   "cell_type": "markdown",
   "metadata": {},
   "source": [
    "accessing the values by its index, rather than the integer position comes in handy when the dataset is of thousands, if not millions, of rows. Series is the building block for the DataFrame we will introduce next"
   ]
  },
  {
   "cell_type": "markdown",
   "metadata": {},
   "source": [
    "DataFrames\n",
    "in data science, data is usually more than one-dimensional, and of different data types; thus Series is not sufficient. DataFrames are 2darrays with both row and column labels. one way to create DataFrame from scratch is to pass in a dict. for example, this week, we sold 3 bottles of red wine to Adam, 6 to Bob and 10 to Charles. we can organize the data into DataFrame by creating a dict 'wine_dict' with the number of bottles of each wine type we sold, then pass it along with the customer names as index to create a DataFrame 'Sales'"
   ]
  },
  {
   "cell_type": "code",
   "execution_count": 206,
   "metadata": {},
   "outputs": [
    {
     "data": {
      "text/html": [
       "<div>\n",
       "<style scoped>\n",
       "    .dataframe tbody tr th:only-of-type {\n",
       "        vertical-align: middle;\n",
       "    }\n",
       "\n",
       "    .dataframe tbody tr th {\n",
       "        vertical-align: top;\n",
       "    }\n",
       "\n",
       "    .dataframe thead th {\n",
       "        text-align: right;\n",
       "    }\n",
       "</style>\n",
       "<table border=\"1\" class=\"dataframe\">\n",
       "  <thead>\n",
       "    <tr style=\"text-align: right;\">\n",
       "      <th></th>\n",
       "      <th>red_wine</th>\n",
       "      <th>white_wine</th>\n",
       "    </tr>\n",
       "  </thead>\n",
       "  <tbody>\n",
       "    <tr>\n",
       "      <th>adam</th>\n",
       "      <td>3</td>\n",
       "      <td>5</td>\n",
       "    </tr>\n",
       "    <tr>\n",
       "      <th>bob</th>\n",
       "      <td>6</td>\n",
       "      <td>0</td>\n",
       "    </tr>\n",
       "    <tr>\n",
       "      <th>charles</th>\n",
       "      <td>5</td>\n",
       "      <td>10</td>\n",
       "    </tr>\n",
       "  </tbody>\n",
       "</table>\n",
       "</div>"
      ],
      "text/plain": [
       "         red_wine  white_wine\n",
       "adam            3           5\n",
       "bob             6           0\n",
       "charles         5          10"
      ]
     },
     "execution_count": 206,
     "metadata": {},
     "output_type": "execute_result"
    }
   ],
   "source": [
    "wine_dict ={\n",
    "    'red_wine' : [3,6,5],\n",
    "    'white_wine' : [5,0,10]\n",
    "}\n",
    "\n",
    "sales = pd.DataFrame(wine_dict, index = ['adam','bob','charles'])\n",
    "sales"
   ]
  },
  {
   "cell_type": "code",
   "execution_count": 207,
   "metadata": {},
   "outputs": [
    {
     "data": {
      "text/plain": [
       "adam       3\n",
       "bob        6\n",
       "charles    5\n",
       "Name: red_wine, dtype: int64"
      ]
     },
     "execution_count": 207,
     "metadata": {},
     "output_type": "execute_result"
    }
   ],
   "source": [
    "sales['red_wine']"
   ]
  },
  {
   "cell_type": "code",
   "execution_count": 208,
   "metadata": {},
   "outputs": [
    {
     "data": {
      "text/plain": [
       "adam        5\n",
       "bob         0\n",
       "charles    10\n",
       "Name: white_wine, dtype: int64"
      ]
     },
     "execution_count": 208,
     "metadata": {},
     "output_type": "execute_result"
    }
   ],
   "source": [
    "sales['white_wine']"
   ]
  },
  {
   "cell_type": "markdown",
   "metadata": {},
   "source": [
    "Inspect a DataFrame- shape and size\n",
    "let's take a look at a new DataFrame, in addition to heights and ages of the presidents, there is information on the order, names and parties. the DataFrame presidents_df is read from a CSV files as follows"
   ]
  },
  {
   "cell_type": "code",
   "execution_count": 209,
   "metadata": {},
   "outputs": [
    {
     "data": {
      "text/html": [
       "<div>\n",
       "<style scoped>\n",
       "    .dataframe tbody tr th:only-of-type {\n",
       "        vertical-align: middle;\n",
       "    }\n",
       "\n",
       "    .dataframe tbody tr th {\n",
       "        vertical-align: top;\n",
       "    }\n",
       "\n",
       "    .dataframe thead th {\n",
       "        text-align: right;\n",
       "    }\n",
       "</style>\n",
       "<table border=\"1\" class=\"dataframe\">\n",
       "  <thead>\n",
       "    <tr style=\"text-align: right;\">\n",
       "      <th></th>\n",
       "      <th>order</th>\n",
       "      <th>age</th>\n",
       "      <th>height</th>\n",
       "      <th>party</th>\n",
       "    </tr>\n",
       "    <tr>\n",
       "      <th>name</th>\n",
       "      <th></th>\n",
       "      <th></th>\n",
       "      <th></th>\n",
       "      <th></th>\n",
       "    </tr>\n",
       "  </thead>\n",
       "  <tbody>\n",
       "    <tr>\n",
       "      <th>George Washington</th>\n",
       "      <td>1</td>\n",
       "      <td>57</td>\n",
       "      <td>189</td>\n",
       "      <td>none</td>\n",
       "    </tr>\n",
       "    <tr>\n",
       "      <th>John Adams</th>\n",
       "      <td>2</td>\n",
       "      <td>61</td>\n",
       "      <td>170</td>\n",
       "      <td>federalist</td>\n",
       "    </tr>\n",
       "    <tr>\n",
       "      <th>Thomas Jefferson</th>\n",
       "      <td>3</td>\n",
       "      <td>57</td>\n",
       "      <td>189</td>\n",
       "      <td>democratic-republican</td>\n",
       "    </tr>\n",
       "    <tr>\n",
       "      <th>James Madison</th>\n",
       "      <td>4</td>\n",
       "      <td>57</td>\n",
       "      <td>163</td>\n",
       "      <td>democratic-republican</td>\n",
       "    </tr>\n",
       "    <tr>\n",
       "      <th>James Monroe</th>\n",
       "      <td>5</td>\n",
       "      <td>58</td>\n",
       "      <td>183</td>\n",
       "      <td>democratic-republican</td>\n",
       "    </tr>\n",
       "    <tr>\n",
       "      <th>John Quincy Adams</th>\n",
       "      <td>6</td>\n",
       "      <td>57</td>\n",
       "      <td>171</td>\n",
       "      <td>democratic-republican</td>\n",
       "    </tr>\n",
       "    <tr>\n",
       "      <th>Andrew Jackson</th>\n",
       "      <td>7</td>\n",
       "      <td>61</td>\n",
       "      <td>185</td>\n",
       "      <td>democratic</td>\n",
       "    </tr>\n",
       "    <tr>\n",
       "      <th>Martin Van Buren</th>\n",
       "      <td>8</td>\n",
       "      <td>54</td>\n",
       "      <td>168</td>\n",
       "      <td>democratic</td>\n",
       "    </tr>\n",
       "    <tr>\n",
       "      <th>William Henry Harrison</th>\n",
       "      <td>9</td>\n",
       "      <td>68</td>\n",
       "      <td>173</td>\n",
       "      <td>whig</td>\n",
       "    </tr>\n",
       "    <tr>\n",
       "      <th>John Tyler</th>\n",
       "      <td>10</td>\n",
       "      <td>51</td>\n",
       "      <td>183</td>\n",
       "      <td>whig</td>\n",
       "    </tr>\n",
       "    <tr>\n",
       "      <th>James K. Polk</th>\n",
       "      <td>11</td>\n",
       "      <td>49</td>\n",
       "      <td>173</td>\n",
       "      <td>democratic</td>\n",
       "    </tr>\n",
       "    <tr>\n",
       "      <th>Zachary Taylor</th>\n",
       "      <td>12</td>\n",
       "      <td>64</td>\n",
       "      <td>173</td>\n",
       "      <td>whig</td>\n",
       "    </tr>\n",
       "    <tr>\n",
       "      <th>Millard Fillmore</th>\n",
       "      <td>13</td>\n",
       "      <td>50</td>\n",
       "      <td>175</td>\n",
       "      <td>whig</td>\n",
       "    </tr>\n",
       "    <tr>\n",
       "      <th>Franklin Pierce</th>\n",
       "      <td>14</td>\n",
       "      <td>48</td>\n",
       "      <td>178</td>\n",
       "      <td>democratic</td>\n",
       "    </tr>\n",
       "    <tr>\n",
       "      <th>James Buchanan</th>\n",
       "      <td>15</td>\n",
       "      <td>65</td>\n",
       "      <td>183</td>\n",
       "      <td>democratic</td>\n",
       "    </tr>\n",
       "    <tr>\n",
       "      <th>Abraham Lincoln</th>\n",
       "      <td>16</td>\n",
       "      <td>52</td>\n",
       "      <td>193</td>\n",
       "      <td>republican</td>\n",
       "    </tr>\n",
       "    <tr>\n",
       "      <th>Andrew Johnson</th>\n",
       "      <td>17</td>\n",
       "      <td>56</td>\n",
       "      <td>178</td>\n",
       "      <td>national union</td>\n",
       "    </tr>\n",
       "    <tr>\n",
       "      <th>Ulysses S. Grant</th>\n",
       "      <td>18</td>\n",
       "      <td>46</td>\n",
       "      <td>173</td>\n",
       "      <td>republican</td>\n",
       "    </tr>\n",
       "    <tr>\n",
       "      <th>Rutherford B. Hayes</th>\n",
       "      <td>19</td>\n",
       "      <td>54</td>\n",
       "      <td>174</td>\n",
       "      <td>republican</td>\n",
       "    </tr>\n",
       "    <tr>\n",
       "      <th>James A. Garfield</th>\n",
       "      <td>20</td>\n",
       "      <td>49</td>\n",
       "      <td>183</td>\n",
       "      <td>republican</td>\n",
       "    </tr>\n",
       "    <tr>\n",
       "      <th>Chester A. Arthur</th>\n",
       "      <td>21</td>\n",
       "      <td>51</td>\n",
       "      <td>183</td>\n",
       "      <td>republican</td>\n",
       "    </tr>\n",
       "    <tr>\n",
       "      <th>Grover Cleveland</th>\n",
       "      <td>22</td>\n",
       "      <td>47</td>\n",
       "      <td>180</td>\n",
       "      <td>democratic</td>\n",
       "    </tr>\n",
       "    <tr>\n",
       "      <th>Benjamin Harrison</th>\n",
       "      <td>23</td>\n",
       "      <td>55</td>\n",
       "      <td>168</td>\n",
       "      <td>republican</td>\n",
       "    </tr>\n",
       "    <tr>\n",
       "      <th>Grover Cleveland</th>\n",
       "      <td>25</td>\n",
       "      <td>55</td>\n",
       "      <td>180</td>\n",
       "      <td>democratic</td>\n",
       "    </tr>\n",
       "    <tr>\n",
       "      <th>William McKinley</th>\n",
       "      <td>25</td>\n",
       "      <td>54</td>\n",
       "      <td>170</td>\n",
       "      <td>republican</td>\n",
       "    </tr>\n",
       "    <tr>\n",
       "      <th>Theodore Roosevelt</th>\n",
       "      <td>26</td>\n",
       "      <td>42</td>\n",
       "      <td>178</td>\n",
       "      <td>republican</td>\n",
       "    </tr>\n",
       "    <tr>\n",
       "      <th>William Howard Taft</th>\n",
       "      <td>27</td>\n",
       "      <td>51</td>\n",
       "      <td>182</td>\n",
       "      <td>republican</td>\n",
       "    </tr>\n",
       "    <tr>\n",
       "      <th>Woodrow Wilson</th>\n",
       "      <td>28</td>\n",
       "      <td>56</td>\n",
       "      <td>180</td>\n",
       "      <td>democratic</td>\n",
       "    </tr>\n",
       "    <tr>\n",
       "      <th>Warren G. Harding</th>\n",
       "      <td>29</td>\n",
       "      <td>55</td>\n",
       "      <td>183</td>\n",
       "      <td>republican</td>\n",
       "    </tr>\n",
       "    <tr>\n",
       "      <th>Calvin Coolidge</th>\n",
       "      <td>30</td>\n",
       "      <td>51</td>\n",
       "      <td>178</td>\n",
       "      <td>republican</td>\n",
       "    </tr>\n",
       "    <tr>\n",
       "      <th>Herbert Hoover</th>\n",
       "      <td>31</td>\n",
       "      <td>54</td>\n",
       "      <td>182</td>\n",
       "      <td>republican</td>\n",
       "    </tr>\n",
       "    <tr>\n",
       "      <th>Franklin D. Roosevelt</th>\n",
       "      <td>32</td>\n",
       "      <td>51</td>\n",
       "      <td>188</td>\n",
       "      <td>democratic</td>\n",
       "    </tr>\n",
       "    <tr>\n",
       "      <th>Harry S. Truman</th>\n",
       "      <td>33</td>\n",
       "      <td>60</td>\n",
       "      <td>175</td>\n",
       "      <td>democratic</td>\n",
       "    </tr>\n",
       "    <tr>\n",
       "      <th>Dwight D. Eisenhower</th>\n",
       "      <td>34</td>\n",
       "      <td>62</td>\n",
       "      <td>179</td>\n",
       "      <td>republican</td>\n",
       "    </tr>\n",
       "    <tr>\n",
       "      <th>John F. Kennedy</th>\n",
       "      <td>35</td>\n",
       "      <td>43</td>\n",
       "      <td>183</td>\n",
       "      <td>democratic</td>\n",
       "    </tr>\n",
       "    <tr>\n",
       "      <th>Lyndon B. Johnson</th>\n",
       "      <td>36</td>\n",
       "      <td>55</td>\n",
       "      <td>193</td>\n",
       "      <td>democratic</td>\n",
       "    </tr>\n",
       "    <tr>\n",
       "      <th>Richard Nixon</th>\n",
       "      <td>37</td>\n",
       "      <td>56</td>\n",
       "      <td>182</td>\n",
       "      <td>republican</td>\n",
       "    </tr>\n",
       "    <tr>\n",
       "      <th>Gerald Ford</th>\n",
       "      <td>38</td>\n",
       "      <td>61</td>\n",
       "      <td>183</td>\n",
       "      <td>republican</td>\n",
       "    </tr>\n",
       "    <tr>\n",
       "      <th>Jimmy Carter</th>\n",
       "      <td>39</td>\n",
       "      <td>52</td>\n",
       "      <td>177</td>\n",
       "      <td>democratic</td>\n",
       "    </tr>\n",
       "    <tr>\n",
       "      <th>Ronald Reagan</th>\n",
       "      <td>40</td>\n",
       "      <td>69</td>\n",
       "      <td>185</td>\n",
       "      <td>republican</td>\n",
       "    </tr>\n",
       "    <tr>\n",
       "      <th>George H. W. Bush</th>\n",
       "      <td>41</td>\n",
       "      <td>64</td>\n",
       "      <td>188</td>\n",
       "      <td>republican</td>\n",
       "    </tr>\n",
       "    <tr>\n",
       "      <th>Bill Clinton</th>\n",
       "      <td>42</td>\n",
       "      <td>46</td>\n",
       "      <td>188</td>\n",
       "      <td>democratic</td>\n",
       "    </tr>\n",
       "    <tr>\n",
       "      <th>George W. Bush</th>\n",
       "      <td>43</td>\n",
       "      <td>54</td>\n",
       "      <td>182</td>\n",
       "      <td>republican</td>\n",
       "    </tr>\n",
       "    <tr>\n",
       "      <th>Barack Obama</th>\n",
       "      <td>44</td>\n",
       "      <td>47</td>\n",
       "      <td>185</td>\n",
       "      <td>democratic</td>\n",
       "    </tr>\n",
       "    <tr>\n",
       "      <th>Donald J. Trump</th>\n",
       "      <td>45</td>\n",
       "      <td>70</td>\n",
       "      <td>191</td>\n",
       "      <td>republican</td>\n",
       "    </tr>\n",
       "  </tbody>\n",
       "</table>\n",
       "</div>"
      ],
      "text/plain": [
       "                        order  age  height                  party\n",
       "name                                                             \n",
       "George Washington           1   57     189                   none\n",
       "John Adams                  2   61     170             federalist\n",
       "Thomas Jefferson            3   57     189  democratic-republican\n",
       "James Madison               4   57     163  democratic-republican\n",
       "James Monroe                5   58     183  democratic-republican\n",
       "John Quincy Adams           6   57     171  democratic-republican\n",
       "Andrew Jackson              7   61     185             democratic\n",
       "Martin Van Buren            8   54     168             democratic\n",
       "William Henry Harrison      9   68     173                   whig\n",
       "John Tyler                 10   51     183                   whig\n",
       "James K. Polk              11   49     173             democratic\n",
       "Zachary Taylor             12   64     173                   whig\n",
       "Millard Fillmore           13   50     175                   whig\n",
       "Franklin Pierce            14   48     178             democratic\n",
       "James Buchanan             15   65     183             democratic\n",
       "Abraham Lincoln            16   52     193             republican\n",
       "Andrew Johnson             17   56     178         national union\n",
       "Ulysses S. Grant           18   46     173             republican\n",
       "Rutherford B. Hayes        19   54     174             republican\n",
       "James A. Garfield          20   49     183             republican\n",
       "Chester A. Arthur          21   51     183             republican\n",
       "Grover Cleveland           22   47     180             democratic\n",
       "Benjamin Harrison          23   55     168             republican\n",
       "Grover Cleveland           25   55     180             democratic\n",
       "William McKinley           25   54     170             republican\n",
       "Theodore Roosevelt         26   42     178             republican\n",
       "William Howard Taft        27   51     182             republican\n",
       "Woodrow Wilson             28   56     180             democratic\n",
       "Warren G. Harding          29   55     183             republican\n",
       "Calvin Coolidge            30   51     178             republican\n",
       "Herbert Hoover             31   54     182             republican\n",
       "Franklin D. Roosevelt      32   51     188             democratic\n",
       "Harry S. Truman            33   60     175             democratic\n",
       "Dwight D. Eisenhower       34   62     179             republican\n",
       "John F. Kennedy            35   43     183             democratic\n",
       "Lyndon B. Johnson          36   55     193             democratic\n",
       "Richard Nixon              37   56     182             republican\n",
       "Gerald Ford                38   61     183             republican\n",
       "Jimmy Carter               39   52     177             democratic\n",
       "Ronald Reagan              40   69     185             republican\n",
       "George H. W. Bush          41   64     188             republican\n",
       "Bill Clinton               42   46     188             democratic\n",
       "George W. Bush             43   54     182             republican\n",
       "Barack Obama               44   47     185             democratic\n",
       "Donald J. Trump            45   70     191             republican"
      ]
     },
     "execution_count": 209,
     "metadata": {},
     "output_type": "execute_result"
    }
   ],
   "source": [
    "presidents_df = pd.read_csv('president_heights_party.csv', index_col='name')\n",
    "presidents_df"
   ]
  },
  {
   "cell_type": "markdown",
   "metadata": {},
   "source": [
    "similar to numpy, to get the dimensions of a DataFrame, use .shape"
   ]
  },
  {
   "cell_type": "markdown",
   "metadata": {},
   "source": [
    "there are 45 rows and 4 columns in the DataFrame. to get the number of rows we can access the first element in the tuple"
   ]
  },
  {
   "cell_type": "code",
   "execution_count": 210,
   "metadata": {},
   "outputs": [
    {
     "data": {
      "text/plain": [
       "45"
      ]
     },
     "execution_count": 210,
     "metadata": {},
     "output_type": "execute_result"
    }
   ],
   "source": [
    "presidents_df.shape[0]"
   ]
  },
  {
   "cell_type": "code",
   "execution_count": 211,
   "metadata": {},
   "outputs": [
    {
     "data": {
      "text/plain": [
       "(45, 4)"
      ]
     },
     "execution_count": 211,
     "metadata": {},
     "output_type": "execute_result"
    }
   ],
   "source": [
    "presidents_df.shape"
   ]
  },
  {
   "cell_type": "markdown",
   "metadata": {},
   "source": [
    "Inspect a DataFrame - info \n",
    "\n",
    "use .info() to get an overview of the DataFrame. its output includes index, column names, count of non-null values, dtypes, and memory usage"
   ]
  },
  {
   "cell_type": "code",
   "execution_count": 212,
   "metadata": {},
   "outputs": [
    {
     "name": "stdout",
     "output_type": "stream",
     "text": [
      "<class 'pandas.core.frame.DataFrame'>\n",
      "Index: 45 entries, George Washington to Donald J. Trump\n",
      "Data columns (total 4 columns):\n",
      " #   Column  Non-Null Count  Dtype \n",
      "---  ------  --------------  ----- \n",
      " 0   order   45 non-null     int64 \n",
      " 1   age     45 non-null     int64 \n",
      " 2   height  45 non-null     int64 \n",
      " 3   party   45 non-null     object\n",
      "dtypes: int64(3), object(1)\n",
      "memory usage: 1.8+ KB\n"
     ]
    }
   ],
   "source": [
    "presidents_df.info()"
   ]
  },
  {
   "cell_type": "markdown",
   "metadata": {},
   "source": [
    "Rows with .loc\n",
    "\n",
    "instead of memorizing the integer positions to locate the order, age, height, and party information of Abraham Lincoln, with DataFrame, we can access it by the name using .loc"
   ]
  },
  {
   "cell_type": "code",
   "execution_count": 213,
   "metadata": {},
   "outputs": [
    {
     "data": {
      "text/plain": [
       "order             16\n",
       "age               52\n",
       "height           193\n",
       "party     republican\n",
       "Name: Abraham Lincoln, dtype: object"
      ]
     },
     "execution_count": 213,
     "metadata": {},
     "output_type": "execute_result"
    }
   ],
   "source": [
    "presidents_df.loc['Abraham Lincoln']"
   ]
  },
  {
   "cell_type": "markdown",
   "metadata": {},
   "source": [
    "the result is a pandas Series of shape(4,)"
   ]
  },
  {
   "cell_type": "code",
   "execution_count": 214,
   "metadata": {},
   "outputs": [
    {
     "data": {
      "text/plain": [
       "pandas.core.series.Series"
      ]
     },
     "execution_count": 214,
     "metadata": {},
     "output_type": "execute_result"
    }
   ],
   "source": [
    "type(presidents_df.loc['Abraham Lincoln'])"
   ]
  },
  {
   "cell_type": "markdown",
   "metadata": {},
   "source": [
    "we can also slice by index. say we are interested in gathering information on all of the presidents between Abraham Lincoln and Ulysses S. Grant:"
   ]
  },
  {
   "cell_type": "code",
   "execution_count": 215,
   "metadata": {},
   "outputs": [
    {
     "data": {
      "text/html": [
       "<div>\n",
       "<style scoped>\n",
       "    .dataframe tbody tr th:only-of-type {\n",
       "        vertical-align: middle;\n",
       "    }\n",
       "\n",
       "    .dataframe tbody tr th {\n",
       "        vertical-align: top;\n",
       "    }\n",
       "\n",
       "    .dataframe thead th {\n",
       "        text-align: right;\n",
       "    }\n",
       "</style>\n",
       "<table border=\"1\" class=\"dataframe\">\n",
       "  <thead>\n",
       "    <tr style=\"text-align: right;\">\n",
       "      <th></th>\n",
       "      <th>order</th>\n",
       "      <th>age</th>\n",
       "      <th>height</th>\n",
       "      <th>party</th>\n",
       "    </tr>\n",
       "    <tr>\n",
       "      <th>name</th>\n",
       "      <th></th>\n",
       "      <th></th>\n",
       "      <th></th>\n",
       "      <th></th>\n",
       "    </tr>\n",
       "  </thead>\n",
       "  <tbody>\n",
       "    <tr>\n",
       "      <th>Abraham Lincoln</th>\n",
       "      <td>16</td>\n",
       "      <td>52</td>\n",
       "      <td>193</td>\n",
       "      <td>republican</td>\n",
       "    </tr>\n",
       "    <tr>\n",
       "      <th>Andrew Johnson</th>\n",
       "      <td>17</td>\n",
       "      <td>56</td>\n",
       "      <td>178</td>\n",
       "      <td>national union</td>\n",
       "    </tr>\n",
       "    <tr>\n",
       "      <th>Ulysses S. Grant</th>\n",
       "      <td>18</td>\n",
       "      <td>46</td>\n",
       "      <td>173</td>\n",
       "      <td>republican</td>\n",
       "    </tr>\n",
       "  </tbody>\n",
       "</table>\n",
       "</div>"
      ],
      "text/plain": [
       "                  order  age  height           party\n",
       "name                                                \n",
       "Abraham Lincoln      16   52     193      republican\n",
       "Andrew Johnson       17   56     178  national union\n",
       "Ulysses S. Grant     18   46     173      republican"
      ]
     },
     "execution_count": 215,
     "metadata": {},
     "output_type": "execute_result"
    }
   ],
   "source": [
    "presidents_df.loc['Abraham Lincoln':'Ulysses S. Grant']"
   ]
  },
  {
   "cell_type": "markdown",
   "metadata": {},
   "source": [
    "the result is a new DataFrame, a subset of presidents_df"
   ]
  },
  {
   "cell_type": "markdown",
   "metadata": {},
   "source": [
    "Rows with .iloc\n",
    "\n",
    "alternatively, if we do know the integer position(s), we can use .iloc to access the row(s)"
   ]
  },
  {
   "cell_type": "code",
   "execution_count": 216,
   "metadata": {},
   "outputs": [
    {
     "data": {
      "text/plain": [
       "order             16\n",
       "age               52\n",
       "height           193\n",
       "party     republican\n",
       "Name: Abraham Lincoln, dtype: object"
      ]
     },
     "execution_count": 216,
     "metadata": {},
     "output_type": "execute_result"
    }
   ],
   "source": [
    "presidents_df.iloc[15]"
   ]
  },
  {
   "cell_type": "markdown",
   "metadata": {},
   "source": [
    "to gather information from the 16th to 18th presidents, we can then"
   ]
  },
  {
   "cell_type": "code",
   "execution_count": 217,
   "metadata": {},
   "outputs": [
    {
     "data": {
      "text/html": [
       "<div>\n",
       "<style scoped>\n",
       "    .dataframe tbody tr th:only-of-type {\n",
       "        vertical-align: middle;\n",
       "    }\n",
       "\n",
       "    .dataframe tbody tr th {\n",
       "        vertical-align: top;\n",
       "    }\n",
       "\n",
       "    .dataframe thead th {\n",
       "        text-align: right;\n",
       "    }\n",
       "</style>\n",
       "<table border=\"1\" class=\"dataframe\">\n",
       "  <thead>\n",
       "    <tr style=\"text-align: right;\">\n",
       "      <th></th>\n",
       "      <th>order</th>\n",
       "      <th>age</th>\n",
       "      <th>height</th>\n",
       "      <th>party</th>\n",
       "    </tr>\n",
       "    <tr>\n",
       "      <th>name</th>\n",
       "      <th></th>\n",
       "      <th></th>\n",
       "      <th></th>\n",
       "      <th></th>\n",
       "    </tr>\n",
       "  </thead>\n",
       "  <tbody>\n",
       "    <tr>\n",
       "      <th>Abraham Lincoln</th>\n",
       "      <td>16</td>\n",
       "      <td>52</td>\n",
       "      <td>193</td>\n",
       "      <td>republican</td>\n",
       "    </tr>\n",
       "    <tr>\n",
       "      <th>Andrew Johnson</th>\n",
       "      <td>17</td>\n",
       "      <td>56</td>\n",
       "      <td>178</td>\n",
       "      <td>national union</td>\n",
       "    </tr>\n",
       "    <tr>\n",
       "      <th>Ulysses S. Grant</th>\n",
       "      <td>18</td>\n",
       "      <td>46</td>\n",
       "      <td>173</td>\n",
       "      <td>republican</td>\n",
       "    </tr>\n",
       "  </tbody>\n",
       "</table>\n",
       "</div>"
      ],
      "text/plain": [
       "                  order  age  height           party\n",
       "name                                                \n",
       "Abraham Lincoln      16   52     193      republican\n",
       "Andrew Johnson       17   56     178  national union\n",
       "Ulysses S. Grant     18   46     173      republican"
      ]
     },
     "execution_count": 217,
     "metadata": {},
     "output_type": "execute_result"
    }
   ],
   "source": [
    "presidents_df.iloc[15:18]"
   ]
  },
  {
   "cell_type": "markdown",
   "metadata": {},
   "source": [
    "Columns\n",
    "\n",
    "we can retrieve an entire column from presidents_df by name. first we access all the column names:"
   ]
  },
  {
   "cell_type": "code",
   "execution_count": 218,
   "metadata": {},
   "outputs": [
    {
     "data": {
      "text/plain": [
       "Index(['order', 'age', 'height', 'party'], dtype='object')"
      ]
     },
     "execution_count": 218,
     "metadata": {},
     "output_type": "execute_result"
    }
   ],
   "source": [
    "presidents_df.columns"
   ]
  },
  {
   "cell_type": "markdown",
   "metadata": {},
   "source": [
    "which returns an index object containing all column name. then we can access the column height by"
   ]
  },
  {
   "cell_type": "code",
   "execution_count": 219,
   "metadata": {},
   "outputs": [
    {
     "data": {
      "text/plain": [
       "name\n",
       "George Washington         189\n",
       "John Adams                170\n",
       "Thomas Jefferson          189\n",
       "James Madison             163\n",
       "James Monroe              183\n",
       "John Quincy Adams         171\n",
       "Andrew Jackson            185\n",
       "Martin Van Buren          168\n",
       "William Henry Harrison    173\n",
       "John Tyler                183\n",
       "James K. Polk             173\n",
       "Zachary Taylor            173\n",
       "Millard Fillmore          175\n",
       "Franklin Pierce           178\n",
       "James Buchanan            183\n",
       "Abraham Lincoln           193\n",
       "Andrew Johnson            178\n",
       "Ulysses S. Grant          173\n",
       "Rutherford B. Hayes       174\n",
       "James A. Garfield         183\n",
       "Chester A. Arthur         183\n",
       "Grover Cleveland          180\n",
       "Benjamin Harrison         168\n",
       "Grover Cleveland          180\n",
       "William McKinley          170\n",
       "Theodore Roosevelt        178\n",
       "William Howard Taft       182\n",
       "Woodrow Wilson            180\n",
       "Warren G. Harding         183\n",
       "Calvin Coolidge           178\n",
       "Herbert Hoover            182\n",
       "Franklin D. Roosevelt     188\n",
       "Harry S. Truman           175\n",
       "Dwight D. Eisenhower      179\n",
       "John F. Kennedy           183\n",
       "Lyndon B. Johnson         193\n",
       "Richard Nixon             182\n",
       "Gerald Ford               183\n",
       "Jimmy Carter              177\n",
       "Ronald Reagan             185\n",
       "George H. W. Bush         188\n",
       "Bill Clinton              188\n",
       "George W. Bush            182\n",
       "Barack Obama              185\n",
       "Donald J. Trump           191\n",
       "Name: height, dtype: int64"
      ]
     },
     "execution_count": 219,
     "metadata": {},
     "output_type": "execute_result"
    }
   ],
   "source": [
    "presidents_df['height']"
   ]
  },
  {
   "cell_type": "markdown",
   "metadata": {},
   "source": [
    "more with .loc\n",
    "\n",
    "if we wanted to access columns order, age, and height, we can do it with .loc. .loc allows us to access any of the columns. for example, if we wanted to access columns from order through height for the first three presidents"
   ]
  },
  {
   "cell_type": "code",
   "execution_count": 220,
   "metadata": {},
   "outputs": [
    {
     "data": {
      "text/html": [
       "<div>\n",
       "<style scoped>\n",
       "    .dataframe tbody tr th:only-of-type {\n",
       "        vertical-align: middle;\n",
       "    }\n",
       "\n",
       "    .dataframe tbody tr th {\n",
       "        vertical-align: top;\n",
       "    }\n",
       "\n",
       "    .dataframe thead th {\n",
       "        text-align: right;\n",
       "    }\n",
       "</style>\n",
       "<table border=\"1\" class=\"dataframe\">\n",
       "  <thead>\n",
       "    <tr style=\"text-align: right;\">\n",
       "      <th></th>\n",
       "      <th>order</th>\n",
       "      <th>age</th>\n",
       "      <th>height</th>\n",
       "    </tr>\n",
       "    <tr>\n",
       "      <th>name</th>\n",
       "      <th></th>\n",
       "      <th></th>\n",
       "      <th></th>\n",
       "    </tr>\n",
       "  </thead>\n",
       "  <tbody>\n",
       "    <tr>\n",
       "      <th>George Washington</th>\n",
       "      <td>1</td>\n",
       "      <td>57</td>\n",
       "      <td>189</td>\n",
       "    </tr>\n",
       "    <tr>\n",
       "      <th>John Adams</th>\n",
       "      <td>2</td>\n",
       "      <td>61</td>\n",
       "      <td>170</td>\n",
       "    </tr>\n",
       "    <tr>\n",
       "      <th>Thomas Jefferson</th>\n",
       "      <td>3</td>\n",
       "      <td>57</td>\n",
       "      <td>189</td>\n",
       "    </tr>\n",
       "  </tbody>\n",
       "</table>\n",
       "</div>"
      ],
      "text/plain": [
       "                   order  age  height\n",
       "name                                 \n",
       "George Washington      1   57     189\n",
       "John Adams             2   61     170\n",
       "Thomas Jefferson       3   57     189"
      ]
     },
     "execution_count": 220,
     "metadata": {},
     "output_type": "execute_result"
    }
   ],
   "source": [
    "presidents_df.loc[:,'order':'height'].head(n=3)"
   ]
  },
  {
   "cell_type": "markdown",
   "metadata": {},
   "source": [
    "the index in pandas makes retrieving information from rows or columns convenient and easy, especially when the data set is large or there are many columns. therefore, we don't have to memorize the integer positions of each row or column"
   ]
  },
  {
   "cell_type": "markdown",
   "metadata": {},
   "source": [
    "min/max/mean\n",
    "\n",
    "it's not practical to print out an entire dataset with a large sample size. instead, we want to summarize and characterize sample data using only a few values. Summary statistics include measures of location and measures of spread. Measures of location and measures of spread. Measures of location are quantities that represent the average value of a variable while measures of spread represent how similar or dissimilar the values of a variable are\n",
    "\n",
    "Measures of location - minimum, maximum, mean\n",
    "mesures of spread - range, variance, standard deviation\n",
    "\n",
    "the simplest summary statistics, which are measures of location, include the minimum, the smallest number"
   ]
  },
  {
   "cell_type": "code",
   "execution_count": 221,
   "metadata": {},
   "outputs": [
    {
     "data": {
      "text/plain": [
       "order              1\n",
       "age               42\n",
       "height           163\n",
       "party     democratic\n",
       "dtype: object"
      ]
     },
     "execution_count": 221,
     "metadata": {},
     "output_type": "execute_result"
    }
   ],
   "source": [
    "presidents_df.min()"
   ]
  },
  {
   "cell_type": "markdown",
   "metadata": {},
   "source": [
    "maximum, the largest number"
   ]
  },
  {
   "cell_type": "code",
   "execution_count": 222,
   "metadata": {},
   "outputs": [
    {
     "data": {
      "text/plain": [
       "order       45\n",
       "age         70\n",
       "height     193\n",
       "party     whig\n",
       "dtype: object"
      ]
     },
     "execution_count": 222,
     "metadata": {},
     "output_type": "execute_result"
    }
   ],
   "source": [
    "presidents_df.max()"
   ]
  },
  {
   "cell_type": "markdown",
   "metadata": {},
   "source": [
    "and mean, the average:"
   ]
  },
  {
   "cell_type": "code",
   "execution_count": 223,
   "metadata": {},
   "outputs": [
    {
     "data": {
      "text/plain": [
       "age        55.0\n",
       "height    180.0\n",
       "dtype: float64"
      ]
     },
     "execution_count": 223,
     "metadata": {},
     "output_type": "execute_result"
    }
   ],
   "source": [
    "presidents_df[['age','height']].mean()"
   ]
  },
  {
   "cell_type": "markdown",
   "metadata": {},
   "source": [
    "Quantiles\n",
    "\n",
    "quantiles are cut points dividing the range of data into continuous intervals with an equal number of observations. median is the only cut point in 2-quantiles, such that 50% of the data is below the median with other  half above it.\n",
    "\n",
    "Qaurtiles let us quickly divide a set of data into four groups, making it easy to see which of the four groups a particular data point is in. Quartiles are then 4-quantiles, that is, 25% of the data are between the minimum and first quartile, the next 25% between the first quartile and median, the next 25% is between the median and the third quartile, and the last 25% of the data lies between the third quartile and the maximum"
   ]
  },
  {
   "cell_type": "code",
   "execution_count": 224,
   "metadata": {},
   "outputs": [
    {
     "data": {
      "text/plain": [
       "55.0"
      ]
     },
     "execution_count": 224,
     "metadata": {},
     "output_type": "execute_result"
    }
   ],
   "source": [
    "presidents_df['age'].median()"
   ]
  },
  {
   "cell_type": "code",
   "execution_count": 225,
   "metadata": {},
   "outputs": [
    {
     "data": {
      "text/plain": [
       "0.25    51.0\n",
       "0.50    55.0\n",
       "0.75    58.0\n",
       "1.00    70.0\n",
       "Name: age, dtype: float64"
      ]
     },
     "execution_count": 225,
     "metadata": {},
     "output_type": "execute_result"
    }
   ],
   "source": [
    "presidents_df['age'].quantile([0.25,0.5,0.75,1])"
   ]
  },
  {
   "cell_type": "markdown",
   "metadata": {},
   "source": [
    "variance and standard deviation\n",
    "\n",
    "in probability and statistics, variance is the mean squared deviation of each point from the mean of the entire dataset\n",
    "you can think of it as how far apart a set of numbers are spread out from their average value. Standard deviation is the square root of variance. a high standard implies a large spread, and a low std indicates a small spread or most points are close to the mean"
   ]
  },
  {
   "cell_type": "code",
   "execution_count": 226,
   "metadata": {},
   "outputs": [
    {
     "data": {
      "text/plain": [
       "0.0"
      ]
     },
     "execution_count": 226,
     "metadata": {},
     "output_type": "execute_result"
    }
   ],
   "source": [
    "const = pd.Series([2,2,2])\n",
    "const.var()\n",
    "const.std()"
   ]
  },
  {
   "cell_type": "markdown",
   "metadata": {},
   "source": [
    "describe()\n",
    "\n",
    "describe() prints out almost all of the summary statistics mentioned previously except for the variance. in addition, it counts all non-null values of each column"
   ]
  },
  {
   "cell_type": "code",
   "execution_count": 227,
   "metadata": {},
   "outputs": [
    {
     "data": {
      "text/html": [
       "<div>\n",
       "<style scoped>\n",
       "    .dataframe tbody tr th:only-of-type {\n",
       "        vertical-align: middle;\n",
       "    }\n",
       "\n",
       "    .dataframe tbody tr th {\n",
       "        vertical-align: top;\n",
       "    }\n",
       "\n",
       "    .dataframe thead th {\n",
       "        text-align: right;\n",
       "    }\n",
       "</style>\n",
       "<table border=\"1\" class=\"dataframe\">\n",
       "  <thead>\n",
       "    <tr style=\"text-align: right;\">\n",
       "      <th></th>\n",
       "      <th>order</th>\n",
       "      <th>age</th>\n",
       "      <th>height</th>\n",
       "    </tr>\n",
       "  </thead>\n",
       "  <tbody>\n",
       "    <tr>\n",
       "      <th>count</th>\n",
       "      <td>45.000000</td>\n",
       "      <td>45.000000</td>\n",
       "      <td>45.000000</td>\n",
       "    </tr>\n",
       "    <tr>\n",
       "      <th>mean</th>\n",
       "      <td>23.022222</td>\n",
       "      <td>55.000000</td>\n",
       "      <td>180.000000</td>\n",
       "    </tr>\n",
       "    <tr>\n",
       "      <th>std</th>\n",
       "      <td>13.136502</td>\n",
       "      <td>6.595453</td>\n",
       "      <td>6.977236</td>\n",
       "    </tr>\n",
       "    <tr>\n",
       "      <th>min</th>\n",
       "      <td>1.000000</td>\n",
       "      <td>42.000000</td>\n",
       "      <td>163.000000</td>\n",
       "    </tr>\n",
       "    <tr>\n",
       "      <th>25%</th>\n",
       "      <td>12.000000</td>\n",
       "      <td>51.000000</td>\n",
       "      <td>175.000000</td>\n",
       "    </tr>\n",
       "    <tr>\n",
       "      <th>50%</th>\n",
       "      <td>23.000000</td>\n",
       "      <td>55.000000</td>\n",
       "      <td>182.000000</td>\n",
       "    </tr>\n",
       "    <tr>\n",
       "      <th>75%</th>\n",
       "      <td>34.000000</td>\n",
       "      <td>58.000000</td>\n",
       "      <td>183.000000</td>\n",
       "    </tr>\n",
       "    <tr>\n",
       "      <th>max</th>\n",
       "      <td>45.000000</td>\n",
       "      <td>70.000000</td>\n",
       "      <td>193.000000</td>\n",
       "    </tr>\n",
       "  </tbody>\n",
       "</table>\n",
       "</div>"
      ],
      "text/plain": [
       "           order        age      height\n",
       "count  45.000000  45.000000   45.000000\n",
       "mean   23.022222  55.000000  180.000000\n",
       "std    13.136502   6.595453    6.977236\n",
       "min     1.000000  42.000000  163.000000\n",
       "25%    12.000000  51.000000  175.000000\n",
       "50%    23.000000  55.000000  182.000000\n",
       "75%    34.000000  58.000000  183.000000\n",
       "max    45.000000  70.000000  193.000000"
      ]
     },
     "execution_count": 227,
     "metadata": {},
     "output_type": "execute_result"
    }
   ],
   "source": [
    "presidents_df.describe()"
   ]
  },
  {
   "cell_type": "markdown",
   "metadata": {},
   "source": []
  },
  {
   "cell_type": "code",
   "execution_count": 228,
   "metadata": {},
   "outputs": [
    {
     "data": {
      "text/plain": [
       "count    45.000000\n",
       "mean     55.000000\n",
       "std       6.595453\n",
       "min      42.000000\n",
       "25%      51.000000\n",
       "50%      55.000000\n",
       "75%      58.000000\n",
       "max      70.000000\n",
       "Name: age, dtype: float64"
      ]
     },
     "execution_count": 228,
     "metadata": {},
     "output_type": "execute_result"
    }
   ],
   "source": [
    "presidents_df['age'].describe()"
   ]
  },
  {
   "cell_type": "markdown",
   "metadata": {},
   "source": [
    "Groupby\n",
    "\n",
    "Summary statistics on an entire dataset provides a good overall view, but often we're interested in some calculation conditional upon a given  label or category. for example, what is the average height conditional of the presidents party?\n",
    "\n",
    "To find the value based on a condition, we can use the groupby operation. think of groupby doing three steps: split,apply, and continue. the split step breaks the DataFrame into multiple DataFrames based on the value of the specified key; the apply step is to perform the operation inside each smaller DataFrame; the last step combines the pieces back into the larger DataFrame"
   ]
  },
  {
   "cell_type": "code",
   "execution_count": 229,
   "metadata": {},
   "outputs": [
    {
     "data": {
      "text/plain": [
       "<pandas.core.groupby.generic.DataFrameGroupBy object at 0x000001F0B14E4560>"
      ]
     },
     "execution_count": 229,
     "metadata": {},
     "output_type": "execute_result"
    }
   ],
   "source": [
    "presidents_df.groupby('party')"
   ]
  },
  {
   "cell_type": "markdown",
   "metadata": {},
   "source": [
    "the .groupby('party') returns a DataFrameGroupBy object not a set of DataFrames. To produce a result, apply an aggregate(.mean()) to this DataFrameGroupBy object"
   ]
  },
  {
   "cell_type": "code",
   "execution_count": 230,
   "metadata": {},
   "outputs": [
    {
     "data": {
      "text/html": [
       "<div>\n",
       "<style scoped>\n",
       "    .dataframe tbody tr th:only-of-type {\n",
       "        vertical-align: middle;\n",
       "    }\n",
       "\n",
       "    .dataframe tbody tr th {\n",
       "        vertical-align: top;\n",
       "    }\n",
       "\n",
       "    .dataframe thead th {\n",
       "        text-align: right;\n",
       "    }\n",
       "</style>\n",
       "<table border=\"1\" class=\"dataframe\">\n",
       "  <thead>\n",
       "    <tr style=\"text-align: right;\">\n",
       "      <th></th>\n",
       "      <th>order</th>\n",
       "      <th>age</th>\n",
       "      <th>height</th>\n",
       "    </tr>\n",
       "    <tr>\n",
       "      <th>party</th>\n",
       "      <th></th>\n",
       "      <th></th>\n",
       "      <th></th>\n",
       "    </tr>\n",
       "  </thead>\n",
       "  <tbody>\n",
       "    <tr>\n",
       "      <th>democratic</th>\n",
       "      <td>26.066667</td>\n",
       "      <td>52.600000</td>\n",
       "      <td>181.066667</td>\n",
       "    </tr>\n",
       "    <tr>\n",
       "      <th>democratic-republican</th>\n",
       "      <td>4.500000</td>\n",
       "      <td>57.250000</td>\n",
       "      <td>176.500000</td>\n",
       "    </tr>\n",
       "    <tr>\n",
       "      <th>federalist</th>\n",
       "      <td>2.000000</td>\n",
       "      <td>61.000000</td>\n",
       "      <td>170.000000</td>\n",
       "    </tr>\n",
       "    <tr>\n",
       "      <th>national union</th>\n",
       "      <td>17.000000</td>\n",
       "      <td>56.000000</td>\n",
       "      <td>178.000000</td>\n",
       "    </tr>\n",
       "    <tr>\n",
       "      <th>none</th>\n",
       "      <td>1.000000</td>\n",
       "      <td>57.000000</td>\n",
       "      <td>189.000000</td>\n",
       "    </tr>\n",
       "    <tr>\n",
       "      <th>republican</th>\n",
       "      <td>29.631579</td>\n",
       "      <td>55.263158</td>\n",
       "      <td>180.894737</td>\n",
       "    </tr>\n",
       "    <tr>\n",
       "      <th>whig</th>\n",
       "      <td>11.000000</td>\n",
       "      <td>58.250000</td>\n",
       "      <td>176.000000</td>\n",
       "    </tr>\n",
       "  </tbody>\n",
       "</table>\n",
       "</div>"
      ],
      "text/plain": [
       "                           order        age      height\n",
       "party                                                  \n",
       "democratic             26.066667  52.600000  181.066667\n",
       "democratic-republican   4.500000  57.250000  176.500000\n",
       "federalist              2.000000  61.000000  170.000000\n",
       "national union         17.000000  56.000000  178.000000\n",
       "none                    1.000000  57.000000  189.000000\n",
       "republican             29.631579  55.263158  180.894737\n",
       "whig                   11.000000  58.250000  176.000000"
      ]
     },
     "execution_count": 230,
     "metadata": {},
     "output_type": "execute_result"
    }
   ],
   "source": [
    "presidents_df.groupby('party').mean()"
   ]
  },
  {
   "cell_type": "markdown",
   "metadata": {},
   "source": [
    "Aggregation\n",
    "\n",
    "we can also perform multiple operations on the grouby object using .agg() method. it takes a string, a function, or a list thereof. for example. we would like to obtain the min, median, and max values of heights grouped by party"
   ]
  },
  {
   "cell_type": "code",
   "execution_count": 231,
   "metadata": {},
   "outputs": [
    {
     "name": "stderr",
     "output_type": "stream",
     "text": [
      "C:\\Users\\HP\\AppData\\Local\\Temp\\ipykernel_16040\\2178381568.py:1: FutureWarning: The provided callable <built-in function min> is currently using SeriesGroupBy.min. In a future version of pandas, the provided callable will be used directly. To keep current behavior pass the string \"min\" instead.\n",
      "  presidents_df.groupby('party')['height'].agg([min,np.median, max])\n",
      "C:\\Users\\HP\\AppData\\Local\\Temp\\ipykernel_16040\\2178381568.py:1: FutureWarning: The provided callable <function median at 0x000001F0FF815080> is currently using SeriesGroupBy.median. In a future version of pandas, the provided callable will be used directly. To keep current behavior pass the string \"median\" instead.\n",
      "  presidents_df.groupby('party')['height'].agg([min,np.median, max])\n",
      "C:\\Users\\HP\\AppData\\Local\\Temp\\ipykernel_16040\\2178381568.py:1: FutureWarning: The provided callable <built-in function max> is currently using SeriesGroupBy.max. In a future version of pandas, the provided callable will be used directly. To keep current behavior pass the string \"max\" instead.\n",
      "  presidents_df.groupby('party')['height'].agg([min,np.median, max])\n"
     ]
    },
    {
     "data": {
      "text/html": [
       "<div>\n",
       "<style scoped>\n",
       "    .dataframe tbody tr th:only-of-type {\n",
       "        vertical-align: middle;\n",
       "    }\n",
       "\n",
       "    .dataframe tbody tr th {\n",
       "        vertical-align: top;\n",
       "    }\n",
       "\n",
       "    .dataframe thead th {\n",
       "        text-align: right;\n",
       "    }\n",
       "</style>\n",
       "<table border=\"1\" class=\"dataframe\">\n",
       "  <thead>\n",
       "    <tr style=\"text-align: right;\">\n",
       "      <th></th>\n",
       "      <th>min</th>\n",
       "      <th>median</th>\n",
       "      <th>max</th>\n",
       "    </tr>\n",
       "    <tr>\n",
       "      <th>party</th>\n",
       "      <th></th>\n",
       "      <th></th>\n",
       "      <th></th>\n",
       "    </tr>\n",
       "  </thead>\n",
       "  <tbody>\n",
       "    <tr>\n",
       "      <th>democratic</th>\n",
       "      <td>168</td>\n",
       "      <td>180.0</td>\n",
       "      <td>193</td>\n",
       "    </tr>\n",
       "    <tr>\n",
       "      <th>democratic-republican</th>\n",
       "      <td>163</td>\n",
       "      <td>177.0</td>\n",
       "      <td>189</td>\n",
       "    </tr>\n",
       "    <tr>\n",
       "      <th>federalist</th>\n",
       "      <td>170</td>\n",
       "      <td>170.0</td>\n",
       "      <td>170</td>\n",
       "    </tr>\n",
       "    <tr>\n",
       "      <th>national union</th>\n",
       "      <td>178</td>\n",
       "      <td>178.0</td>\n",
       "      <td>178</td>\n",
       "    </tr>\n",
       "    <tr>\n",
       "      <th>none</th>\n",
       "      <td>189</td>\n",
       "      <td>189.0</td>\n",
       "      <td>189</td>\n",
       "    </tr>\n",
       "    <tr>\n",
       "      <th>republican</th>\n",
       "      <td>168</td>\n",
       "      <td>182.0</td>\n",
       "      <td>193</td>\n",
       "    </tr>\n",
       "    <tr>\n",
       "      <th>whig</th>\n",
       "      <td>173</td>\n",
       "      <td>174.0</td>\n",
       "      <td>183</td>\n",
       "    </tr>\n",
       "  </tbody>\n",
       "</table>\n",
       "</div>"
      ],
      "text/plain": [
       "                       min  median  max\n",
       "party                                  \n",
       "democratic             168   180.0  193\n",
       "democratic-republican  163   177.0  189\n",
       "federalist             170   170.0  170\n",
       "national union         178   178.0  178\n",
       "none                   189   189.0  189\n",
       "republican             168   182.0  193\n",
       "whig                   173   174.0  183"
      ]
     },
     "execution_count": 231,
     "metadata": {},
     "output_type": "execute_result"
    }
   ],
   "source": [
    "presidents_df.groupby('party')['height'].agg([min,np.median, max])"
   ]
  },
  {
   "cell_type": "markdown",
   "metadata": {},
   "source": [
    "from the output we can see, the heights of the democratic presidents range from 168 to 193cm, with a median at 180cm.\n",
    "\n",
    "often time we are interested in different summary statistics for multiple columns. for instance, we would like to check the median and mean of heights, but minimum and maximum for ages, grouped by party. in this case, we can pass a dict with key indicate the column name and value indicate the functions"
   ]
  },
  {
   "cell_type": "code",
   "execution_count": 232,
   "metadata": {},
   "outputs": [
    {
     "name": "stderr",
     "output_type": "stream",
     "text": [
      "C:\\Users\\HP\\AppData\\Local\\Temp\\ipykernel_16040\\2193529212.py:1: FutureWarning: The provided callable <function mean at 0x000001F0FD6EE480> is currently using SeriesGroupBy.mean. In a future version of pandas, the provided callable will be used directly. To keep current behavior pass the string \"mean\" instead.\n",
      "  presidents_df.groupby('party').agg({'height': [np.mean,np.median,min,max]})\n",
      "C:\\Users\\HP\\AppData\\Local\\Temp\\ipykernel_16040\\2193529212.py:1: FutureWarning: The provided callable <function median at 0x000001F0FF815080> is currently using SeriesGroupBy.median. In a future version of pandas, the provided callable will be used directly. To keep current behavior pass the string \"median\" instead.\n",
      "  presidents_df.groupby('party').agg({'height': [np.mean,np.median,min,max]})\n",
      "C:\\Users\\HP\\AppData\\Local\\Temp\\ipykernel_16040\\2193529212.py:1: FutureWarning: The provided callable <built-in function min> is currently using SeriesGroupBy.min. In a future version of pandas, the provided callable will be used directly. To keep current behavior pass the string \"min\" instead.\n",
      "  presidents_df.groupby('party').agg({'height': [np.mean,np.median,min,max]})\n",
      "C:\\Users\\HP\\AppData\\Local\\Temp\\ipykernel_16040\\2193529212.py:1: FutureWarning: The provided callable <built-in function max> is currently using SeriesGroupBy.max. In a future version of pandas, the provided callable will be used directly. To keep current behavior pass the string \"max\" instead.\n",
      "  presidents_df.groupby('party').agg({'height': [np.mean,np.median,min,max]})\n"
     ]
    },
    {
     "data": {
      "text/html": [
       "<div>\n",
       "<style scoped>\n",
       "    .dataframe tbody tr th:only-of-type {\n",
       "        vertical-align: middle;\n",
       "    }\n",
       "\n",
       "    .dataframe tbody tr th {\n",
       "        vertical-align: top;\n",
       "    }\n",
       "\n",
       "    .dataframe thead tr th {\n",
       "        text-align: left;\n",
       "    }\n",
       "\n",
       "    .dataframe thead tr:last-of-type th {\n",
       "        text-align: right;\n",
       "    }\n",
       "</style>\n",
       "<table border=\"1\" class=\"dataframe\">\n",
       "  <thead>\n",
       "    <tr>\n",
       "      <th></th>\n",
       "      <th colspan=\"4\" halign=\"left\">height</th>\n",
       "    </tr>\n",
       "    <tr>\n",
       "      <th></th>\n",
       "      <th>mean</th>\n",
       "      <th>median</th>\n",
       "      <th>min</th>\n",
       "      <th>max</th>\n",
       "    </tr>\n",
       "    <tr>\n",
       "      <th>party</th>\n",
       "      <th></th>\n",
       "      <th></th>\n",
       "      <th></th>\n",
       "      <th></th>\n",
       "    </tr>\n",
       "  </thead>\n",
       "  <tbody>\n",
       "    <tr>\n",
       "      <th>democratic</th>\n",
       "      <td>181.066667</td>\n",
       "      <td>180.0</td>\n",
       "      <td>168</td>\n",
       "      <td>193</td>\n",
       "    </tr>\n",
       "    <tr>\n",
       "      <th>democratic-republican</th>\n",
       "      <td>176.500000</td>\n",
       "      <td>177.0</td>\n",
       "      <td>163</td>\n",
       "      <td>189</td>\n",
       "    </tr>\n",
       "    <tr>\n",
       "      <th>federalist</th>\n",
       "      <td>170.000000</td>\n",
       "      <td>170.0</td>\n",
       "      <td>170</td>\n",
       "      <td>170</td>\n",
       "    </tr>\n",
       "    <tr>\n",
       "      <th>national union</th>\n",
       "      <td>178.000000</td>\n",
       "      <td>178.0</td>\n",
       "      <td>178</td>\n",
       "      <td>178</td>\n",
       "    </tr>\n",
       "    <tr>\n",
       "      <th>none</th>\n",
       "      <td>189.000000</td>\n",
       "      <td>189.0</td>\n",
       "      <td>189</td>\n",
       "      <td>189</td>\n",
       "    </tr>\n",
       "    <tr>\n",
       "      <th>republican</th>\n",
       "      <td>180.894737</td>\n",
       "      <td>182.0</td>\n",
       "      <td>168</td>\n",
       "      <td>193</td>\n",
       "    </tr>\n",
       "    <tr>\n",
       "      <th>whig</th>\n",
       "      <td>176.000000</td>\n",
       "      <td>174.0</td>\n",
       "      <td>173</td>\n",
       "      <td>183</td>\n",
       "    </tr>\n",
       "  </tbody>\n",
       "</table>\n",
       "</div>"
      ],
      "text/plain": [
       "                           height                 \n",
       "                             mean median  min  max\n",
       "party                                             \n",
       "democratic             181.066667  180.0  168  193\n",
       "democratic-republican  176.500000  177.0  163  189\n",
       "federalist             170.000000  170.0  170  170\n",
       "national union         178.000000  178.0  178  178\n",
       "none                   189.000000  189.0  189  189\n",
       "republican             180.894737  182.0  168  193\n",
       "whig                   176.000000  174.0  173  183"
      ]
     },
     "execution_count": 232,
     "metadata": {},
     "output_type": "execute_result"
    }
   ],
   "source": [
    "presidents_df.groupby('party').agg({'height': [np.mean,np.median,min,max]})"
   ]
  },
  {
   "cell_type": "code",
   "execution_count": 233,
   "metadata": {},
   "outputs": [
    {
     "name": "stderr",
     "output_type": "stream",
     "text": [
      "C:\\Users\\HP\\AppData\\Local\\Temp\\ipykernel_16040\\3503102215.py:1: FutureWarning: The provided callable <function median at 0x000001F0FF815080> is currently using SeriesGroupBy.median. In a future version of pandas, the provided callable will be used directly. To keep current behavior pass the string \"median\" instead.\n",
      "  presidents_df.groupby('party').agg({'height': [np.median, np.mean],\n",
      "C:\\Users\\HP\\AppData\\Local\\Temp\\ipykernel_16040\\3503102215.py:1: FutureWarning: The provided callable <function mean at 0x000001F0FD6EE480> is currently using SeriesGroupBy.mean. In a future version of pandas, the provided callable will be used directly. To keep current behavior pass the string \"mean\" instead.\n",
      "  presidents_df.groupby('party').agg({'height': [np.median, np.mean],\n",
      "C:\\Users\\HP\\AppData\\Local\\Temp\\ipykernel_16040\\3503102215.py:1: FutureWarning: The provided callable <built-in function min> is currently using SeriesGroupBy.min. In a future version of pandas, the provided callable will be used directly. To keep current behavior pass the string \"min\" instead.\n",
      "  presidents_df.groupby('party').agg({'height': [np.median, np.mean],\n",
      "C:\\Users\\HP\\AppData\\Local\\Temp\\ipykernel_16040\\3503102215.py:1: FutureWarning: The provided callable <built-in function max> is currently using SeriesGroupBy.max. In a future version of pandas, the provided callable will be used directly. To keep current behavior pass the string \"max\" instead.\n",
      "  presidents_df.groupby('party').agg({'height': [np.median, np.mean],\n"
     ]
    },
    {
     "data": {
      "text/html": [
       "<div>\n",
       "<style scoped>\n",
       "    .dataframe tbody tr th:only-of-type {\n",
       "        vertical-align: middle;\n",
       "    }\n",
       "\n",
       "    .dataframe tbody tr th {\n",
       "        vertical-align: top;\n",
       "    }\n",
       "\n",
       "    .dataframe thead tr th {\n",
       "        text-align: left;\n",
       "    }\n",
       "\n",
       "    .dataframe thead tr:last-of-type th {\n",
       "        text-align: right;\n",
       "    }\n",
       "</style>\n",
       "<table border=\"1\" class=\"dataframe\">\n",
       "  <thead>\n",
       "    <tr>\n",
       "      <th></th>\n",
       "      <th colspan=\"2\" halign=\"left\">height</th>\n",
       "      <th colspan=\"2\" halign=\"left\">age</th>\n",
       "    </tr>\n",
       "    <tr>\n",
       "      <th></th>\n",
       "      <th>median</th>\n",
       "      <th>mean</th>\n",
       "      <th>min</th>\n",
       "      <th>max</th>\n",
       "    </tr>\n",
       "    <tr>\n",
       "      <th>party</th>\n",
       "      <th></th>\n",
       "      <th></th>\n",
       "      <th></th>\n",
       "      <th></th>\n",
       "    </tr>\n",
       "  </thead>\n",
       "  <tbody>\n",
       "    <tr>\n",
       "      <th>democratic</th>\n",
       "      <td>180.0</td>\n",
       "      <td>181.066667</td>\n",
       "      <td>43</td>\n",
       "      <td>65</td>\n",
       "    </tr>\n",
       "    <tr>\n",
       "      <th>democratic-republican</th>\n",
       "      <td>177.0</td>\n",
       "      <td>176.500000</td>\n",
       "      <td>57</td>\n",
       "      <td>58</td>\n",
       "    </tr>\n",
       "    <tr>\n",
       "      <th>federalist</th>\n",
       "      <td>170.0</td>\n",
       "      <td>170.000000</td>\n",
       "      <td>61</td>\n",
       "      <td>61</td>\n",
       "    </tr>\n",
       "    <tr>\n",
       "      <th>national union</th>\n",
       "      <td>178.0</td>\n",
       "      <td>178.000000</td>\n",
       "      <td>56</td>\n",
       "      <td>56</td>\n",
       "    </tr>\n",
       "    <tr>\n",
       "      <th>none</th>\n",
       "      <td>189.0</td>\n",
       "      <td>189.000000</td>\n",
       "      <td>57</td>\n",
       "      <td>57</td>\n",
       "    </tr>\n",
       "    <tr>\n",
       "      <th>republican</th>\n",
       "      <td>182.0</td>\n",
       "      <td>180.894737</td>\n",
       "      <td>42</td>\n",
       "      <td>70</td>\n",
       "    </tr>\n",
       "    <tr>\n",
       "      <th>whig</th>\n",
       "      <td>174.0</td>\n",
       "      <td>176.000000</td>\n",
       "      <td>50</td>\n",
       "      <td>68</td>\n",
       "    </tr>\n",
       "  </tbody>\n",
       "</table>\n",
       "</div>"
      ],
      "text/plain": [
       "                      height             age    \n",
       "                      median        mean min max\n",
       "party                                           \n",
       "democratic             180.0  181.066667  43  65\n",
       "democratic-republican  177.0  176.500000  57  58\n",
       "federalist             170.0  170.000000  61  61\n",
       "national union         178.0  178.000000  56  56\n",
       "none                   189.0  189.000000  57  57\n",
       "republican             182.0  180.894737  42  70\n",
       "whig                   174.0  176.000000  50  68"
      ]
     },
     "execution_count": 233,
     "metadata": {},
     "output_type": "execute_result"
    }
   ],
   "source": [
    "presidents_df.groupby('party').agg({'height': [np.median, np.mean],\n",
    "                                    'age':[min,max]})"
   ]
  },
  {
   "cell_type": "markdown",
   "metadata": {},
   "source": [
    "using groupby and agg provides us flexibility and therefore power to look into various perspectives of a variable or column condition on categories"
   ]
  },
  {
   "cell_type": "markdown",
   "metadata": {},
   "source": [
    "Matplotlib\n",
    "a picture is worth a thousand words. rings true in data science. Data visualization can reveal patterns that are not obvious and communicate the insights more effectively. in this part, we will take a look at the matplotlib library, one of the most popular data visualization tools, operating on numpy arrays as well as pandas series and DataFrame. "
   ]
  },
  {
   "cell_type": "code",
   "execution_count": 234,
   "metadata": {},
   "outputs": [],
   "source": [
    "import matplotlib as mpl"
   ]
  },
  {
   "cell_type": "markdown",
   "metadata": {},
   "source": [
    "specifically, the module matplotlib.pyplot, a collection of command style functions that make matplotlib work like MATLAB, will be used for the rest of the course"
   ]
  },
  {
   "cell_type": "code",
   "execution_count": 235,
   "metadata": {},
   "outputs": [],
   "source": [
    "import matplotlib.pyplot as plt"
   ]
  },
  {
   "cell_type": "markdown",
   "metadata": {},
   "source": [
    "matplotlib.pyplot is a collection of functions that make plotting in python work like MATLAB. each function makes some change to a figure, e.g creates a figure, creates a plotting area in a figure, plots lines, annotates the plots with labels. e.t.c as we will see in the following lessons"
   ]
  },
  {
   "cell_type": "markdown",
   "metadata": {},
   "source": [
    "Basics\n",
    "for all matplotlib plots, first create a figure and an axes object, to show the plot call 'plt.show(). the figure contains all the objects, including axes, graphics, texts, and labels. the axes is a bounding box with ticks and labels. think of axes as an individual plot"
   ]
  },
  {
   "cell_type": "code",
   "execution_count": 236,
   "metadata": {},
   "outputs": [],
   "source": [
    "import matplotlib.pyplot as plt"
   ]
  },
  {
   "cell_type": "code",
   "execution_count": 237,
   "metadata": {},
   "outputs": [
    {
     "data": {
      "image/png": "[encoded data removed]",
      "text/plain": [
       "<Figure size 640x480 with 1 Axes>"
      ]
     },
     "metadata": {},
     "output_type": "display_data"
    }
   ],
   "source": [
    "fig = plt.figure()\n",
    "ax = plt.axes()\n",
    "plt.show()"
   ]
  },
  {
   "cell_type": "markdown",
   "metadata": {},
   "source": [
    "matplotlib.pyplot provides many customization features"
   ]
  },
  {
   "cell_type": "markdown",
   "metadata": {},
   "source": [
    "line plot\n",
    "let's start with a beautiful wave function, sine function, sin(x), where x ranges from 0 to 10. we need to generate the sequence along the x-axis, an evenly spaced array, via linspace()"
   ]
  },
  {
   "cell_type": "code",
   "execution_count": 238,
   "metadata": {},
   "outputs": [
    {
     "data": {
      "text/plain": [
       "array([ 0.        ,  0.01000984,  0.02001868,  0.03002552,  0.04002934,\n",
       "        0.05002916,  0.06002396,  0.07001275,  0.07999452,  0.08996827,\n",
       "        0.09993302,  0.10988774,  0.11983146,  0.12976317,  0.13968188,\n",
       "        0.14958659,  0.15947632,  0.16935006,  0.17920684,  0.18904566,\n",
       "        0.19886554,  0.20866549,  0.21844453,  0.22820168,  0.23793597,\n",
       "        0.24764642,  0.25733206,  0.26699191,  0.276625  ,  0.28623038,\n",
       "        0.29580708,  0.30535414,  0.3148706 ,  0.32435552,  0.33380793,\n",
       "        0.3432269 ,  0.35261147,  0.36196071,  0.37127369,  0.38054946,\n",
       "        0.3897871 ,  0.39898569,  0.4081443 ,  0.41726201,  0.42633791,\n",
       "        0.4353711 ,  0.44436066,  0.45330569,  0.46220531,  0.47105861,\n",
       "        0.47986471,  0.48862273,  0.49733179,  0.50599102,  0.51459954,\n",
       "        0.52315651,  0.53166105,  0.54011232,  0.54850948,  0.55685167,\n",
       "        0.56513807,  0.57336784,  0.58154016,  0.58965421,  0.59770917,\n",
       "        0.60570425,  0.61363863,  0.62151153,  0.62932216,  0.63706972,\n",
       "        0.64475345,  0.65237258,  0.65992634,  0.66741398,  0.67483474,\n",
       "        0.68218788,  0.68947267,  0.69668838,  0.70383427,  0.71090964,\n",
       "        0.71791378,  0.72484599,  0.73170556,  0.73849182,  0.74520409,\n",
       "        0.75184168,  0.75840394,  0.76489021,  0.77129983,  0.77763218,\n",
       "        0.7838866 ,  0.79006248,  0.7961592 ,  0.80217614,  0.8081127 ,\n",
       "        0.81396829,  0.81974232,  0.82543421,  0.8310434 ,  0.83656931,\n",
       "        0.84201141,  0.84736913,  0.85264195,  0.85782933,  0.86293076,\n",
       "        0.86794572,  0.87287371,  0.87771425,  0.88246684,  0.887131  ,\n",
       "        0.89170627,  0.8961922 ,  0.90058833,  0.90489422,  0.90910944,\n",
       "        0.91323357,  0.91726619,  0.9212069 ,  0.92505531,  0.92881103,\n",
       "        0.93247368,  0.9360429 ,  0.93951832,  0.94289961,  0.94618642,\n",
       "        0.94937842,  0.9524753 ,  0.95547674,  0.95838244,  0.96119211,\n",
       "        0.96390547,  0.96652224,  0.96904217,  0.97146501,  0.9737905 ,\n",
       "        0.97601842,  0.97814855,  0.98018066,  0.98211456,  0.98395005,\n",
       "        0.98568695,  0.98732509,  0.9888643 ,  0.99030442,  0.99164532,\n",
       "        0.99288685,  0.9940289 ,  0.99507134,  0.99601408,  0.99685702,\n",
       "        0.99760007,  0.99824317,  0.99878624,  0.99922924,  0.99957211,\n",
       "        0.99981483,  0.99995736,  0.9999997 ,  0.99994184,  0.99978379,\n",
       "        0.99952556,  0.99916717,  0.99870867,  0.9981501 ,  0.99749152,\n",
       "        0.99673299,  0.99587459,  0.9949164 ,  0.99385852,  0.99270105,\n",
       "        0.99144412,  0.99008785,  0.98863237,  0.98707782,  0.98542438,\n",
       "        0.98367219,  0.98182145,  0.97987232,  0.97782501,  0.97567973,\n",
       "        0.97343668,  0.97109609,  0.9686582 ,  0.96612325,  0.9634915 ,\n",
       "        0.9607632 ,  0.95793864,  0.95501809,  0.95200185,  0.94889022,\n",
       "        0.94568351,  0.94238205,  0.93898615,  0.93549618,  0.93191246,\n",
       "        0.92823537,  0.92446527,  0.92060254,  0.91664757,  0.91260074,\n",
       "        0.90846248,  0.90423319,  0.89991329,  0.89550322,  0.89100343,\n",
       "        0.88641436,  0.88173646,  0.87697022,  0.87211611,  0.86717461,\n",
       "        0.86214622,  0.85703145,  0.8518308 ,  0.84654479,  0.84117397,\n",
       "        0.83571886,  0.83018001,  0.82455797,  0.81885332,  0.81306662,\n",
       "        0.80719845,  0.80124939,  0.79522006,  0.78911104,  0.78292295,\n",
       "        0.77665642,  0.77031206,  0.76389052,  0.75739244,  0.75081847,\n",
       "        0.74416927,  0.7374455 ,  0.73064784,  0.72377697,  0.71683358,\n",
       "        0.70981836,  0.70273201,  0.69557526,  0.68834881,  0.68105338,\n",
       "        0.67368972,  0.66625855,  0.65876062,  0.65119668,  0.6435675 ,\n",
       "        0.63587383,  0.62811645,  0.62029613,  0.61241365,  0.60446981,\n",
       "        0.59646541,  0.58840124,  0.58027811,  0.57209684,  0.56385824,\n",
       "        0.55556315,  0.54721239,  0.5388068 ,  0.53034722,  0.5218345 ,\n",
       "        0.51326949,  0.50465305,  0.49598605,  0.48726935,  0.47850382,\n",
       "        0.46969035,  0.46082982,  0.45192311,  0.44297112,  0.43397474,\n",
       "        0.42493488,  0.41585245,  0.40672834,  0.39756348,  0.38835878,\n",
       "        0.37911517,  0.36983358,  0.36051492,  0.35116015,  0.34177018,\n",
       "        0.33234597,  0.32288847,  0.3133986 ,  0.30387734,  0.29432562,\n",
       "        0.28474442,  0.27513468,  0.26549738,  0.25583347,  0.24614393,\n",
       "        0.23642973,  0.22669183,  0.21693122,  0.20714888,  0.19734578,\n",
       "        0.1875229 ,  0.17768124,  0.16782177,  0.15794548,  0.14805337,\n",
       "        0.13814643,  0.12822564,  0.118292  ,  0.10834651,  0.09839017,\n",
       "        0.08842397,  0.0784489 ,  0.06846598,  0.05847619,  0.04848055,\n",
       "        0.03848005,  0.02847569,  0.01846848,  0.00845942, -0.00155049,\n",
       "       -0.01156024, -0.02156884, -0.03157527, -0.04157854, -0.05157764,\n",
       "       -0.06157158, -0.07155935, -0.08153994, -0.09151237, -0.10147562,\n",
       "       -0.11142871, -0.12137064, -0.1313004 , -0.141217  , -0.15111946,\n",
       "       -0.16100677, -0.17087795, -0.18073201, -0.19056796, -0.20038482,\n",
       "       -0.21018159, -0.21995731, -0.22971099, -0.23944165, -0.24914832,\n",
       "       -0.25883002, -0.26848579, -0.27811466, -0.28771566, -0.29728783,\n",
       "       -0.30683021, -0.31634185, -0.32582179, -0.33526908, -0.34468278,\n",
       "       -0.35406195, -0.36340563, -0.37271291, -0.38198284, -0.39121449,\n",
       "       -0.40040694, -0.40955928, -0.41867057, -0.42773992, -0.4367664 ,\n",
       "       -0.44574912, -0.45468718, -0.46357968, -0.47242573, -0.48122444,\n",
       "       -0.48997494, -0.49867633, -0.50732776, -0.51592836, -0.52447726,\n",
       "       -0.53297361, -0.54141656, -0.54980525, -0.55813886, -0.56641654,\n",
       "       -0.57463746, -0.58280081, -0.59090576, -0.5989515 , -0.60693723,\n",
       "       -0.61486214, -0.62272545, -0.63052635, -0.63826408, -0.64593786,\n",
       "       -0.65354691, -0.66109048, -0.66856781, -0.67597814, -0.68332075,\n",
       "       -0.69059488, -0.69779982, -0.70493484, -0.71199922, -0.71899227,\n",
       "       -0.72591327, -0.73276153, -0.73953637, -0.74623711, -0.75286308,\n",
       "       -0.75941361, -0.76588805, -0.77228575, -0.77860606, -0.78484836,\n",
       "       -0.79101202, -0.79709642, -0.80310095, -0.80902501, -0.814868  ,\n",
       "       -0.82062935, -0.82630847, -0.83190479, -0.83741776, -0.84284682,\n",
       "       -0.84819143, -0.85345104, -0.85862515, -0.86371322, -0.86871474,\n",
       "       -0.87362922, -0.87845616, -0.88319509, -0.88784551, -0.89240698,\n",
       "       -0.89687902, -0.9012612 , -0.90555308, -0.90975421, -0.91386419,\n",
       "       -0.91788261, -0.92180905, -0.92564312, -0.92938445, -0.93303265,\n",
       "       -0.93658737, -0.94004823, -0.94341491, -0.94668706, -0.94986435,\n",
       "       -0.95294646, -0.95593309, -0.95882393, -0.9616187 , -0.96431712,\n",
       "       -0.96691891, -0.96942382, -0.97183159, -0.97414198, -0.97635477,\n",
       "       -0.97846973, -0.98048664, -0.98240531, -0.98422555, -0.98594716,\n",
       "       -0.98756998, -0.98909385, -0.99051862, -0.99184413, -0.99307026,\n",
       "       -0.99419689, -0.99522389, -0.99615118, -0.99697865, -0.99770623,\n",
       "       -0.99833384, -0.99886141, -0.9992889 , -0.99961626, -0.99984346,\n",
       "       -0.99997048, -0.9999973 , -0.99992392, -0.99975034, -0.9994766 ,\n",
       "       -0.9991027 , -0.9986287 , -0.99805464, -0.99738057, -0.99660656,\n",
       "       -0.9957327 , -0.99475906, -0.99368575, -0.99251287, -0.99124054,\n",
       "       -0.98986889, -0.98839806, -0.98682819, -0.98515943, -0.98339197,\n",
       "       -0.98152597, -0.97956163, -0.97749913, -0.97533868, -0.97308051,\n",
       "       -0.97072484, -0.9682719 , -0.96572194, -0.96307521, -0.96033199,\n",
       "       -0.95749254, -0.95455715, -0.95152611, -0.94839974, -0.94517833,\n",
       "       -0.94186221, -0.93845173, -0.93494721, -0.93134901, -0.92765748,\n",
       "       -0.92387301, -0.91999597, -0.91602674, -0.91196573, -0.90781333,\n",
       "       -0.90356998, -0.89923609, -0.8948121 , -0.89029844, -0.88569558,\n",
       "       -0.88100397, -0.87622409, -0.87135641, -0.86640142, -0.86135962,\n",
       "       -0.85623151, -0.8510176 , -0.84571842, -0.84033451, -0.83486639,\n",
       "       -0.82931462, -0.82367975, -0.81796235, -0.81216299, -0.80628225,\n",
       "       -0.80032073, -0.79427901, -0.7881577 , -0.78195742, -0.77567879,\n",
       "       -0.76932244, -0.762889  , -0.75637913, -0.74979346, -0.74313266,\n",
       "       -0.7363974 , -0.72958836, -0.72270621, -0.71575164, -0.70872536,\n",
       "       -0.70162807, -0.69446047, -0.68722329, -0.67991724, -0.67254307,\n",
       "       -0.66510151, -0.65759331, -0.65001922, -0.64238   , -0.63467641,\n",
       "       -0.62690923, -0.61907923, -0.6111872 , -0.60323392, -0.59522021,\n",
       "       -0.58714685, -0.57901466, -0.57082446, -0.56257706, -0.55427329,\n",
       "       -0.54591398, -0.53749997, -0.5290321 , -0.52051123, -0.5119382 ,\n",
       "       -0.50331387, -0.49463911, -0.48591479, -0.47714179, -0.46832097,\n",
       "       -0.45945322, -0.45053944, -0.44158052, -0.43257735, -0.42353083,\n",
       "       -0.41444188, -0.4053114 , -0.39614031, -0.38692953, -0.37767997,\n",
       "       -0.36839258, -0.35906827, -0.34970798, -0.34031265, -0.33088322,\n",
       "       -0.32142064, -0.31192585, -0.3023998 , -0.29284346, -0.28325777,\n",
       "       -0.2736437 , -0.26400222, -0.25433428, -0.24464085, -0.23492291,\n",
       "       -0.22518144, -0.2154174 , -0.20563177, -0.19582554, -0.18599969,\n",
       "       -0.1761552 , -0.16629307, -0.15641427, -0.14651979, -0.13661064,\n",
       "       -0.12668779, -0.11675226, -0.10680502, -0.09684708, -0.08687944,\n",
       "       -0.0769031 , -0.06691904, -0.05692829, -0.04693183, -0.03693066,\n",
       "       -0.0269258 , -0.01691823, -0.00690898,  0.00310097,  0.01311061,\n",
       "        0.02311894,  0.03312495,  0.04312764,  0.05312601,  0.06311905,\n",
       "        0.07310577,  0.08308517,  0.09305624,  0.10301799,  0.11296941,\n",
       "        0.12290952,  0.13283731,  0.14275178,  0.15265196,  0.16253684,\n",
       "        0.17240543,  0.18225675,  0.19208981,  0.20190362,  0.2116972 ,\n",
       "        0.22146956,  0.23121974,  0.24094675,  0.25064961,  0.26032736,\n",
       "        0.26997903,  0.27960364,  0.28920024,  0.29876786,  0.30830554,\n",
       "        0.31781233,  0.32728728,  0.33672943,  0.34613784,  0.35551157,\n",
       "        0.36484968,  0.37415123,  0.38341529,  0.39264093,  0.40182723,\n",
       "        0.41097327,  0.42007813,  0.42914089,  0.43816066,  0.44713652,\n",
       "        0.45606758,  0.46495294,  0.47379172,  0.48258302,  0.49132596,\n",
       "        0.50001968,  0.50866329,  0.51725594,  0.52579676,  0.53428489,\n",
       "        0.54271949,  0.5510997 ,  0.5594247 ,  0.56769364,  0.5759057 ,\n",
       "        0.58406006,  0.59215589,  0.60019239,  0.60816875,  0.61608417,\n",
       "        0.62393786,  0.63172904,  0.63945691,  0.64712071,  0.65471967,\n",
       "        0.66225303,  0.66972002,  0.67711992,  0.68445196,  0.69171543,\n",
       "        0.69890958,  0.70603371,  0.71308709,  0.72006902,  0.7269788 ,\n",
       "        0.73381574,  0.74057914,  0.74726835,  0.75388267,  0.76042146,\n",
       "        0.76688406,  0.77326981,  0.77957808,  0.78580824,  0.79195966,\n",
       "        0.79803173,  0.80402383,  0.80993537,  0.81576576,  0.82151441,\n",
       "        0.82718074,  0.83276419,  0.8382642 ,  0.84368021,  0.84901169,\n",
       "        0.85425809,  0.8594189 ,  0.8644936 ,  0.86948167,  0.87438263,\n",
       "        0.87919597,  0.88392121,  0.88855789,  0.89310553,  0.89756369,\n",
       "        0.90193191,  0.90620976,  0.9103968 ,  0.91449263,  0.91849682,\n",
       "        0.92240898,  0.92622871,  0.92995564,  0.93358938,  0.93712958,\n",
       "        0.94057589,  0.94392794,  0.94718542,  0.95034798,  0.95341533,\n",
       "        0.95638714,  0.95926312,  0.96204298,  0.96472645,  0.96731325,\n",
       "        0.96980313,  0.97219584,  0.97449113,  0.97668877,  0.97878856,\n",
       "        0.98079027,  0.9826937 ,  0.98449867,  0.986205  ,  0.9878125 ,\n",
       "        0.98932103,  0.99073043,  0.99204056,  0.99325128,  0.99436249,\n",
       "        0.99537405,  0.99628589,  0.99709789,  0.99780999,  0.9984221 ,\n",
       "        0.99893418,  0.99934616,  0.99965801,  0.99986969,  0.99998119,\n",
       "        0.99999249,  0.99990359,  0.9997145 ,  0.99942524,  0.99903584,\n",
       "        0.99854633,  0.99795677,  0.99726722,  0.99647774,  0.99558841,\n",
       "        0.99459933,  0.99351059,  0.9923223 ,  0.99103458,  0.98964756,\n",
       "        0.98816137,  0.98657617,  0.98489212,  0.98310938,  0.98122814,\n",
       "        0.97924858,  0.97717089,  0.9749953 ,  0.97272201,  0.97035125,\n",
       "        0.96788327,  0.9653183 ,  0.96265661,  0.95989847,  0.95704414,\n",
       "        0.95409391,  0.95104809,  0.94790697,  0.94467087,  0.94134012,\n",
       "        0.93791504,  0.93439599,  0.93078331,  0.92707737,  0.92327853,\n",
       "        0.91938718,  0.91540371,  0.91132852,  0.90716201,  0.9029046 ,\n",
       "        0.89855673,  0.89411881,  0.88959131,  0.88497468,  0.88026936,\n",
       "        0.87547585,  0.87059461,  0.86562614,  0.86057094,  0.85542951,\n",
       "        0.85020236,  0.84489002,  0.83949303,  0.83401192,  0.82844724,\n",
       "        0.82279955,  0.81706941,  0.81125741,  0.80536412,  0.79939013,\n",
       "        0.79333605,  0.78720247,  0.78099002,  0.77469931,  0.76833097,\n",
       "        0.76188565,  0.75536399,  0.74876664,  0.74209427,  0.73534754,\n",
       "        0.72852712,  0.72163371,  0.71466799,  0.70763067,  0.70052243,\n",
       "        0.69334401,  0.68609611,  0.67877947,  0.67139481,  0.66394288,\n",
       "        0.65642443,  0.6488402 ,  0.64119095,  0.63347746,  0.6257005 ,\n",
       "        0.61786084,  0.60995927,  0.60199658,  0.59397358,  0.58589106,\n",
       "        0.57774983,  0.56955071,  0.56129452,  0.5529821 ,  0.54461426,\n",
       "        0.53619185,  0.52771572,  0.51918671,  0.51060568,  0.50197348,\n",
       "        0.49329099,  0.48455907,  0.4757786 ,  0.46695046,  0.45807552,\n",
       "        0.44915469,  0.44018886,  0.43117891,  0.42212577,  0.41303032,\n",
       "        0.40389349,  0.39471619,  0.38549934,  0.37624387,  0.36695069,\n",
       "        0.35762075,  0.34825497,  0.3388543 ,  0.32941967,  0.31995204,\n",
       "        0.31045234,  0.30092154,  0.29136059,  0.28177045,  0.27215207,\n",
       "        0.26250642,  0.25283447,  0.24313718,  0.23341553,  0.2236705 ,\n",
       "        0.21390305,  0.20411417,  0.19430484,  0.18447604,  0.17462875,\n",
       "        0.16476397,  0.15488267,  0.14498586,  0.13507452,  0.12514965,\n",
       "        0.11521223,  0.10526327,  0.09530377,  0.08533471,  0.07535711,\n",
       "        0.06537195,  0.05538024,  0.04538299,  0.03538119,  0.02537584,\n",
       "        0.01536795,  0.00535852, -0.00465145, -0.01466095, -0.02466899,\n",
       "       -0.03467455, -0.04467663, -0.05467424, -0.06466637, -0.07465203,\n",
       "       -0.0846302 , -0.09459989, -0.1045601 , -0.11450984, -0.1244481 ,\n",
       "       -0.13437389, -0.14428622, -0.15418409, -0.16406652, -0.1739325 ,\n",
       "       -0.18378105, -0.19361119, -0.20342193, -0.21321229, -0.22298128,\n",
       "       -0.23272793, -0.24245127, -0.2521503 , -0.26182408, -0.27147162,\n",
       "       -0.28109195, -0.29068412, -0.30024717, -0.30978013, -0.31928205,\n",
       "       -0.32875198, -0.33818897, -0.34759207, -0.35696034, -0.36629285,\n",
       "       -0.37558865, -0.38484682, -0.39406643, -0.40324656, -0.41238627,\n",
       "       -0.42148467, -0.43054084, -0.43955386, -0.44852284, -0.45744688,\n",
       "       -0.46632509, -0.47515657, -0.48394043, -0.49267581, -0.50136182,\n",
       "       -0.5099976 , -0.51858227, -0.52711499, -0.53559488, -0.54402111])"
      ]
     },
     "execution_count": 238,
     "metadata": {},
     "output_type": "execute_result"
    }
   ],
   "source": [
    "x = np.linspace(0,10,1000)\n",
    "y = np.sin(x)\n",
    "y"
   ]
  },
  {
   "cell_type": "markdown",
   "metadata": {},
   "source": [
    "to plot as before, we first create the figure and axes objects"
   ]
  },
  {
   "cell_type": "code",
   "execution_count": 239,
   "metadata": {},
   "outputs": [
    {
     "data": {
      "image/png": "[encoded data removed]",
      "text/plain": [
       "<Figure size 640x480 with 1 Axes>"
      ]
     },
     "metadata": {},
     "output_type": "display_data"
    }
   ],
   "source": [
    "fig = plt.figure()\n",
    "ax = plt.axes()\n",
    "ax.plot(x,y)\n",
    "plt.show()"
   ]
  },
  {
   "cell_type": "markdown",
   "metadata": {},
   "source": [
    "labels and titles\n",
    "one critical component of every figure is the figure title. the job of the title is to accurately communicate what the figure is about. in addition, axes need titles, or more commonly referred to axis as labels. the axis labels explain what the plotted data values are. we can specifiy the x and y axis labels and a title using plt.xlabel() plt.ylabel() and plt.title()"
   ]
  },
  {
   "cell_type": "markdown",
   "metadata": {},
   "source": []
  },
  {
   "cell_type": "code",
   "execution_count": 240,
   "metadata": {},
   "outputs": [
    {
     "data": {
      "image/png": "[encoded data removed]",
      "text/plain": [
       "<Figure size 640x480 with 1 Axes>"
      ]
     },
     "metadata": {},
     "output_type": "display_data"
    }
   ],
   "source": [
    "x = np.linspace(0,10,1000)\n",
    "y - np.sin(x)\n",
    "\n",
    "plt.plot(x,y)\n",
    "plt.xlabel('x')\n",
    "plt.ylabel('y')\n",
    "plt.title('function sin(x)')\n",
    "plt.show()"
   ]
  },
  {
   "cell_type": "markdown",
   "metadata": {},
   "source": [
    "multiple lines\n",
    "usually there are various datasets of similar nature, and we would like to compare them and observe the differences. we can plot multiple lines on the same figure. say, the sin function capture the tides on the east coast and cos function capture the tides on the west coast at the same time, we can plot them both on the same figure by calling the .plot() function multiple times"
   ]
  },
  {
   "cell_type": "code",
   "execution_count": 241,
   "metadata": {},
   "outputs": [
    {
     "data": {
      "image/png": "[encoded data removed]",
      "text/plain": [
       "<Figure size 640x480 with 1 Axes>"
      ]
     },
     "metadata": {},
     "output_type": "display_data"
    }
   ],
   "source": [
    "x = np.linspace(0,10,1000)\n",
    "plt.plot(x,np.sin(x))\n",
    "plt.plot(x,np.cos(x))\n",
    "plt.show()"
   ]
  },
  {
   "cell_type": "markdown",
   "metadata": {},
   "source": [
    "colors and line styles can be specified to differentiate lines:"
   ]
  },
  {
   "cell_type": "code",
   "execution_count": 242,
   "metadata": {},
   "outputs": [
    {
     "data": {
      "image/png": "[encoded data removed]",
      "text/plain": [
       "<Figure size 640x480 with 1 Axes>"
      ]
     },
     "metadata": {},
     "output_type": "display_data"
    }
   ],
   "source": [
    "x = np.linspace(0,10,1000)\n",
    "plt.plot(x, np.sin(x), color = 'k')\n",
    "plt.plot(x, np.cos(x), color = 'r', linestyle = '--')\n",
    "plt.show()"
   ]
  },
  {
   "cell_type": "markdown",
   "metadata": {},
   "source": [
    "note that we specified basic colors using a single letter, that is, k for black and r for red. more examples include b for blue, g for green, c for cyan, etc. for more details on the use of colors in matplotlib "
   ]
  },
  {
   "cell_type": "markdown",
   "metadata": {
    "notebookRunGroups": {
     "groupValue": ""
    }
   },
   "source": [
    "Legend\n",
    "when there are multiple lines on a single axes, it's often useful to create a plot legend labeling each line. we can use the method plt.legend(), in conjunction with specifying labels in the plt.plot()"
   ]
  },
  {
   "cell_type": "code",
   "execution_count": 243,
   "metadata": {},
   "outputs": [
    {
     "data": {
      "image/png": "[encoded data removed]",
      "text/plain": [
       "<Figure size 640x480 with 1 Axes>"
      ]
     },
     "metadata": {},
     "output_type": "display_data"
    }
   ],
   "source": [
    "x = np.linspace(0,10,1000)\n",
    "plt.plot(x, np.sin(x), 'k:', label = 'sin(x)')\n",
    "plt.plot(x, np.cos(x), 'r--', label = 'cos(x)')\n",
    "plt.legend()\n",
    "plt.show()"
   ]
  },
  {
   "cell_type": "markdown",
   "metadata": {},
   "source": [
    "note here we use 'k:' to indicate the line of sin function to be black (indicated by k) and dotted (indicated by :). line style and color codes can be combined into a single non-keyword argument in the plt.plot() function"
   ]
  },
  {
   "cell_type": "markdown",
   "metadata": {},
   "source": [
    "Scatter Plot\n",
    "another simple plot type is a scatter plot, instead of points being joined by line segments, points are represented individually with a dot, or another shape. pass '0' in the plt.plot(), or use plt.scatter() to show the relationship of heights and ages:\n",
    "\n",
    "plt.scatter(x,y)\n",
    "plt.show()"
   ]
  },
  {
   "cell_type": "code",
   "execution_count": 244,
   "metadata": {},
   "outputs": [
    {
     "data": {
      "image/png": "[encoded data removed]",
      "text/plain": [
       "<Figure size 640x480 with 1 Axes>"
      ]
     },
     "metadata": {},
     "output_type": "display_data"
    }
   ],
   "source": [
    "plt.scatter(presidents_df['height'],\n",
    "            presidents_df['age'])\n",
    "plt.show()"
   ]
  },
  {
   "cell_type": "markdown",
   "metadata": {},
   "source": [
    "so we created a scatter plot demosntrating the correaltion between heights and ages of the presidents. note that matplotlib infers the appropriate ranges for us from the data along both x- and y-axis\n",
    "\n",
    "by default, each data point is a full circle, and there is a good collection of other shapes. for example, we can pass '>' to draw a triangle pointing to the left, in addition we specify the color to blue :"
   ]
  },
  {
   "cell_type": "code",
   "execution_count": 245,
   "metadata": {},
   "outputs": [
    {
     "data": {
      "image/png": "[encoded data removed]",
      "text/plain": [
       "<Figure size 640x480 with 1 Axes>"
      ]
     },
     "metadata": {},
     "output_type": "display_data"
    }
   ],
   "source": [
    "plt.scatter(presidents_df['height'],\n",
    "            presidents_df['age'],\n",
    "            marker='<',\n",
    "            color = 'b')\n",
    "plt.xlabel('height');\n",
    "plt.ylabel('age')\n",
    "plt.title('U.S. presidents')\n",
    "plt.show()"
   ]
  },
  {
   "cell_type": "markdown",
   "metadata": {},
   "source": [
    "scatter plot is a useful tool to display the relationship between two features; whereas a line plot puts more emphasis on the change between points as its slope depicts the rate of change"
   ]
  },
  {
   "cell_type": "markdown",
   "metadata": {},
   "source": [
    "plotting with pandas\n",
    "\n",
    "a great thing about pandas is that it integrates well with matplotlib, so we can plot directly from DataFrames and Series. We specify the kind of plot as 'scatter', 'height' along x-axis, and 'age' along y-axis, and then give it a title:"
   ]
  },
  {
   "cell_type": "code",
   "execution_count": 246,
   "metadata": {},
   "outputs": [
    {
     "data": {
      "image/png": "[encoded data removed]",
      "text/plain": [
       "<Figure size 640x480 with 1 Axes>"
      ]
     },
     "metadata": {},
     "output_type": "display_data"
    }
   ],
   "source": [
    "presidents_df.plot(kind = 'scatter',\n",
    "                   x = 'height',\n",
    "                   y = 'age',\n",
    "                   title='U.S. presidents')\n",
    "plt.show()"
   ]
  },
  {
   "cell_type": "markdown",
   "metadata": {},
   "source": [
    "we then created a scatter plot from the DataFrame, with both axis labels and title supplied\n",
    "\n",
    "as we specified the x-axis and y-axis with column names from the DataFrame, the labels were also annotated on the axes"
   ]
  },
  {
   "cell_type": "markdown",
   "metadata": {},
   "source": [
    "Histogram\n",
    "a histogram is a diagram that consists of rectangles with width equal to the interval and area proportional to the freqency of a variable. for exampe, in the histogram below, there are five bins with equal length(i.e., [163,169),[169,175),[181,187), and [187,193)) and 3 presidents whose height is between 163 cm and 169 cm"
   ]
  },
  {
   "cell_type": "code",
   "execution_count": 247,
   "metadata": {},
   "outputs": [
    {
     "data": {
      "image/png": "[encoded data removed]",
      "text/plain": [
       "<Figure size 640x480 with 1 Axes>"
      ]
     },
     "metadata": {},
     "output_type": "display_data"
    }
   ],
   "source": [
    "presidents_df['height'].plot(kind='hist',\n",
    "                             title='height',\n",
    "                             bins = 5)\n",
    "plt.show()"
   ]
  },
  {
   "cell_type": "markdown",
   "metadata": {},
   "source": [
    "in addition, plt.hist() outputs a 1d array with frequency, and bin end points."
   ]
  },
  {
   "cell_type": "markdown",
   "metadata": {},
   "source": [
    "Boxplot\n",
    "\n",
    "the corresponding boxplot indicates the interquartile range (IQR, between the first quartile and the third), in other words, 50% data fall in this range. the red bar shows the median, and the lower and upper black whiskers are minimum and maximum"
   ]
  },
  {
   "cell_type": "code",
   "execution_count": 248,
   "metadata": {},
   "outputs": [
    {
     "data": {
      "text/plain": [
       "<Axes: >"
      ]
     },
     "execution_count": 248,
     "metadata": {},
     "output_type": "execute_result"
    },
    {
     "data": {
      "image/png": "[encoded data removed]",
      "text/plain": [
       "<Figure size 640x480 with 1 Axes>"
      ]
     },
     "metadata": {},
     "output_type": "display_data"
    }
   ],
   "source": [
    "plt.style.use('classic')\n",
    "presidents_df.boxplot(column='height')"
   ]
  },
  {
   "cell_type": "markdown",
   "metadata": {},
   "source": [
    "the box in the center of the plot represents the middle 50% of the data, known as the interquartile range(IQR). the line in the middle of the box represents the median, which is the value that separates the lower half of the data from the upper half. the whiskers extend from the ends of the box to the lowest and highest data points within 1.5 times the IQR. any data points beyond this range are considered outliers and are plotted as individual points.\n",
    "\n",
    "as the red bar, the median, cuts the box into unequal parts, it means that the height data is skewed\n",
    "the box-and-whisker plot doesn't display each individual statistic, but it clearly shows where the middle of the data lies and whether the data is skewed"
   ]
  },
  {
   "cell_type": "markdown",
   "metadata": {},
   "source": [
    "Bar plot\n",
    "\n",
    "bar plots show the distribution of data over several groups"
   ]
  },
  {
   "cell_type": "code",
   "execution_count": 249,
   "metadata": {},
   "outputs": [
    {
     "data": {
      "text/plain": [
       "party\n",
       "republican               19\n",
       "democratic               15\n",
       "democratic-republican     4\n",
       "whig                      4\n",
       "none                      1\n",
       "federalist                1\n",
       "national union            1\n",
       "Name: count, dtype: int64"
      ]
     },
     "execution_count": 249,
     "metadata": {},
     "output_type": "execute_result"
    }
   ],
   "source": [
    "party_cnt = presidents_df['party'].value_counts()\n",
    "party_cnt"
   ]
  },
  {
   "cell_type": "markdown",
   "metadata": {},
   "source": []
  },
  {
   "cell_type": "code",
   "execution_count": 250,
   "metadata": {},
   "outputs": [
    {
     "data": {
      "image/png": "[encoded data removed]",
      "text/plain": [
       "<Figure size 640x480 with 1 Axes>"
      ]
     },
     "metadata": {},
     "output_type": "display_data"
    }
   ],
   "source": [
    "plt.style.use('ggplot')\n",
    "party_cnt.plot(kind='bar')\n",
    "plt.show()"
   ]
  },
  {
   "cell_type": "markdown",
   "metadata": {},
   "source": [
    "bar plots are commonly confused with a histogram. Histogram presents numerical data whereas bar plot shows categorical data. the histogram is drawn in such a way that there is no gap between the bars, unlike in bar plots"
   ]
  },
  {
   "cell_type": "markdown",
   "metadata": {},
   "source": [
    "lesson 2 : Linear regression\n",
    "what is machine learning?\n",
    "machine learning is a subject of data science, is the scientific study of computational algorithms and statistical models to perform specific tasks through patterns and inference instead of explicit instructions. machine learning can be described a set of tools to build models on data. \n",
    "\n",
    "supervised and unsupervised learning\n",
    "in machine learning, we talk about supervised and unsupervised learning. supervised learning is when we have a known target (also called label) based on past data ( for example, predicting what price of house will sell for) and unsupervised learning is when there isn't a known past answer (for example, determining the topics discussed in restaurant reviews)\n",
    "\n",
    "scikit-learn\n",
    "scikit-learn, one of the best known machine learning libraries in python for machine learning, implements a large number of commonly used algorithms. regardless of the type of algorithm, the syntax follows the same workflow\n",
    "\n",
    "import -> instantiate -> fit -> predict\n",
    "\n",
    "once the basic use and syntax of scikit learn is understood for one model, switching to a new algorithm is straightforward. \n",
    "\n",
    " instantiate is the part where you create the model ( by choosing an algorithm ) and then assign it to a variable. in other words, you create an INSTANCE \n",
    "for example\n",
    "model = linearRegression()\n",
    "\n",
    "Linear Regression\n",
    "it is a simple supervised learning model. Linear regression fits a straight line to data\n",
    "mathematically:\n",
    "y = b + mx\n",
    "\n",
    "where b is the intercept and m is the slope, x is a feature or an input, whereas y is label or an output. our job is to find m and b such that the errors are minimised\n",
    "\n",
    "\n",
    "correlation matrix\n",
    "to understand the relationship among features (columns), a correlation matrix is very useful in the exploratory data analysis. correlation measures linear relationships between variables. we can construct a correlation matrix to show correlation coefficients between variables it is symmetric where each element is a correlation coefficient ranging from -1 and 1. a value near 1 indicates a strong positive correlation between variables. we can create a correlation matrix using the 'corr' function\n",
    "\n",
    "two variables are perfectly correlated when the correlation coefficient is between 0.9-1 and -0.9 - -1\n",
    "\n",
    "it would worth noting that a negative correlation does not imply the two features of the data are unrelated to one another. rather, as the correlation approaches 0, there is less of a relationship between the features. in fact, if the correlation is negative, the closer you get to -1, the more related the features are! the parity ( positive or negative) just indicates the type of relationship the features share.\n",
    "\n",
    " close to +1 -> as one variable increases, so does the other (direct relationship)\n",
    " close to -1 -> as one variable increases, the other decreases (inverse relationship)\n",
    " close to 0 -> you can't expect an increase in one variable to predict the other's behavior well (no/minimal relationship)\n",
    "\n",
    " the values along the diagonal of the correlation matrix are all 1 because each column is identically correlated to itself"
   ]
  },
  {
   "cell_type": "code",
   "execution_count": 251,
   "metadata": {},
   "outputs": [],
   "source": [
    "from sklearn.datasets import load_breast_cancer"
   ]
  },
  {
   "cell_type": "code",
   "execution_count": 252,
   "metadata": {},
   "outputs": [],
   "source": [
    "breast = load_breast_cancer()"
   ]
  },
  {
   "cell_type": "code",
   "execution_count": 253,
   "metadata": {},
   "outputs": [
    {
     "data": {
      "text/plain": [
       "{'data': array([[1.799e+01, 1.038e+01, 1.228e+02, ..., 2.654e-01, 4.601e-01,\n",
       "         1.189e-01],\n",
       "        [2.057e+01, 1.777e+01, 1.329e+02, ..., 1.860e-01, 2.750e-01,\n",
       "         8.902e-02],\n",
       "        [1.969e+01, 2.125e+01, 1.300e+02, ..., 2.430e-01, 3.613e-01,\n",
       "         8.758e-02],\n",
       "        ...,\n",
       "        [1.660e+01, 2.808e+01, 1.083e+02, ..., 1.418e-01, 2.218e-01,\n",
       "         7.820e-02],\n",
       "        [2.060e+01, 2.933e+01, 1.401e+02, ..., 2.650e-01, 4.087e-01,\n",
       "         1.240e-01],\n",
       "        [7.760e+00, 2.454e+01, 4.792e+01, ..., 0.000e+00, 2.871e-01,\n",
       "         7.039e-02]]),\n",
       " 'target': array([0, 0, 0, 0, 0, 0, 0, 0, 0, 0, 0, 0, 0, 0, 0, 0, 0, 0, 0, 1, 1, 1,\n",
       "        0, 0, 0, 0, 0, 0, 0, 0, 0, 0, 0, 0, 0, 0, 0, 1, 0, 0, 0, 0, 0, 0,\n",
       "        0, 0, 1, 0, 1, 1, 1, 1, 1, 0, 0, 1, 0, 0, 1, 1, 1, 1, 0, 1, 0, 0,\n",
       "        1, 1, 1, 1, 0, 1, 0, 0, 1, 0, 1, 0, 0, 1, 1, 1, 0, 0, 1, 0, 0, 0,\n",
       "        1, 1, 1, 0, 1, 1, 0, 0, 1, 1, 1, 0, 0, 1, 1, 1, 1, 0, 1, 1, 0, 1,\n",
       "        1, 1, 1, 1, 1, 1, 1, 0, 0, 0, 1, 0, 0, 1, 1, 1, 0, 0, 1, 0, 1, 0,\n",
       "        0, 1, 0, 0, 1, 1, 0, 1, 1, 0, 1, 1, 1, 1, 0, 1, 1, 1, 1, 1, 1, 1,\n",
       "        1, 1, 0, 1, 1, 1, 1, 0, 0, 1, 0, 1, 1, 0, 0, 1, 1, 0, 0, 1, 1, 1,\n",
       "        1, 0, 1, 1, 0, 0, 0, 1, 0, 1, 0, 1, 1, 1, 0, 1, 1, 0, 0, 1, 0, 0,\n",
       "        0, 0, 1, 0, 0, 0, 1, 0, 1, 0, 1, 1, 0, 1, 0, 0, 0, 0, 1, 1, 0, 0,\n",
       "        1, 1, 1, 0, 1, 1, 1, 1, 1, 0, 0, 1, 1, 0, 1, 1, 0, 0, 1, 0, 1, 1,\n",
       "        1, 1, 0, 1, 1, 1, 1, 1, 0, 1, 0, 0, 0, 0, 0, 0, 0, 0, 0, 0, 0, 0,\n",
       "        0, 0, 1, 1, 1, 1, 1, 1, 0, 1, 0, 1, 1, 0, 1, 1, 0, 1, 0, 0, 1, 1,\n",
       "        1, 1, 1, 1, 1, 1, 1, 1, 1, 1, 1, 0, 1, 1, 0, 1, 0, 1, 1, 1, 1, 1,\n",
       "        1, 1, 1, 1, 1, 1, 1, 1, 1, 0, 1, 1, 1, 0, 1, 0, 1, 1, 1, 1, 0, 0,\n",
       "        0, 1, 1, 1, 1, 0, 1, 0, 1, 0, 1, 1, 1, 0, 1, 1, 1, 1, 1, 1, 1, 0,\n",
       "        0, 0, 1, 1, 1, 1, 1, 1, 1, 1, 1, 1, 1, 0, 0, 1, 0, 0, 0, 1, 0, 0,\n",
       "        1, 1, 1, 1, 1, 0, 1, 1, 1, 1, 1, 0, 1, 1, 1, 0, 1, 1, 0, 0, 1, 1,\n",
       "        1, 1, 1, 1, 0, 1, 1, 1, 1, 1, 1, 1, 0, 1, 1, 1, 1, 1, 0, 1, 1, 0,\n",
       "        1, 1, 1, 1, 1, 1, 1, 1, 1, 1, 1, 1, 0, 1, 0, 0, 1, 0, 1, 1, 1, 1,\n",
       "        1, 0, 1, 1, 0, 1, 0, 1, 1, 0, 1, 0, 1, 1, 1, 1, 1, 1, 1, 1, 0, 0,\n",
       "        1, 1, 1, 1, 1, 1, 0, 1, 1, 1, 1, 1, 1, 1, 1, 1, 1, 0, 1, 1, 1, 1,\n",
       "        1, 1, 1, 0, 1, 0, 1, 1, 0, 1, 1, 1, 1, 1, 0, 0, 1, 0, 1, 0, 1, 1,\n",
       "        1, 1, 1, 0, 1, 1, 0, 1, 0, 1, 0, 0, 1, 1, 1, 0, 1, 1, 1, 1, 1, 1,\n",
       "        1, 1, 1, 1, 1, 0, 1, 0, 0, 1, 1, 1, 1, 1, 1, 1, 1, 1, 1, 1, 1, 1,\n",
       "        1, 1, 1, 1, 1, 1, 1, 1, 1, 1, 1, 1, 0, 0, 0, 0, 0, 0, 1]),\n",
       " 'frame': None,\n",
       " 'target_names': array(['malignant', 'benign'], dtype='<U9'),\n",
       " 'DESCR': '.. _breast_cancer_dataset:\\n\\nBreast cancer wisconsin (diagnostic) dataset\\n--------------------------------------------\\n\\n**Data Set Characteristics:**\\n\\n:Number of Instances: 569\\n\\n:Number of Attributes: 30 numeric, predictive attributes and the class\\n\\n:Attribute Information:\\n    - radius (mean of distances from center to points on the perimeter)\\n    - texture (standard deviation of gray-scale values)\\n    - perimeter\\n    - area\\n    - smoothness (local variation in radius lengths)\\n    - compactness (perimeter^2 / area - 1.0)\\n    - concavity (severity of concave portions of the contour)\\n    - concave points (number of concave portions of the contour)\\n    - symmetry\\n    - fractal dimension (\"coastline approximation\" - 1)\\n\\n    The mean, standard error, and \"worst\" or largest (mean of the three\\n    worst/largest values) of these features were computed for each image,\\n    resulting in 30 features.  For instance, field 0 is Mean Radius, field\\n    10 is Radius SE, field 20 is Worst Radius.\\n\\n    - class:\\n            - WDBC-Malignant\\n            - WDBC-Benign\\n\\n:Summary Statistics:\\n\\n===================================== ====== ======\\n                                        Min    Max\\n===================================== ====== ======\\nradius (mean):                        6.981  28.11\\ntexture (mean):                       9.71   39.28\\nperimeter (mean):                     43.79  188.5\\narea (mean):                          143.5  2501.0\\nsmoothness (mean):                    0.053  0.163\\ncompactness (mean):                   0.019  0.345\\nconcavity (mean):                     0.0    0.427\\nconcave points (mean):                0.0    0.201\\nsymmetry (mean):                      0.106  0.304\\nfractal dimension (mean):             0.05   0.097\\nradius (standard error):              0.112  2.873\\ntexture (standard error):             0.36   4.885\\nperimeter (standard error):           0.757  21.98\\narea (standard error):                6.802  542.2\\nsmoothness (standard error):          0.002  0.031\\ncompactness (standard error):         0.002  0.135\\nconcavity (standard error):           0.0    0.396\\nconcave points (standard error):      0.0    0.053\\nsymmetry (standard error):            0.008  0.079\\nfractal dimension (standard error):   0.001  0.03\\nradius (worst):                       7.93   36.04\\ntexture (worst):                      12.02  49.54\\nperimeter (worst):                    50.41  251.2\\narea (worst):                         185.2  4254.0\\nsmoothness (worst):                   0.071  0.223\\ncompactness (worst):                  0.027  1.058\\nconcavity (worst):                    0.0    1.252\\nconcave points (worst):               0.0    0.291\\nsymmetry (worst):                     0.156  0.664\\nfractal dimension (worst):            0.055  0.208\\n===================================== ====== ======\\n\\n:Missing Attribute Values: None\\n\\n:Class Distribution: 212 - Malignant, 357 - Benign\\n\\n:Creator:  Dr. William H. Wolberg, W. Nick Street, Olvi L. Mangasarian\\n\\n:Donor: Nick Street\\n\\n:Date: November, 1995\\n\\nThis is a copy of UCI ML Breast Cancer Wisconsin (Diagnostic) datasets.\\nhttps://goo.gl/U2Uwz2\\n\\nFeatures are computed from a digitized image of a fine needle\\naspirate (FNA) of a breast mass.  They describe\\ncharacteristics of the cell nuclei present in the image.\\n\\nSeparating plane described above was obtained using\\nMultisurface Method-Tree (MSM-T) [K. P. Bennett, \"Decision Tree\\nConstruction Via Linear Programming.\" Proceedings of the 4th\\nMidwest Artificial Intelligence and Cognitive Science Society,\\npp. 97-101, 1992], a classification method which uses linear\\nprogramming to construct a decision tree.  Relevant features\\nwere selected using an exhaustive search in the space of 1-4\\nfeatures and 1-3 separating planes.\\n\\nThe actual linear program used to obtain the separating plane\\nin the 3-dimensional space is that described in:\\n[K. P. Bennett and O. L. Mangasarian: \"Robust Linear\\nProgramming Discrimination of Two Linearly Inseparable Sets\",\\nOptimization Methods and Software 1, 1992, 23-34].\\n\\nThis database is also available through the UW CS ftp server:\\n\\nftp ftp.cs.wisc.edu\\ncd math-prog/cpo-dataset/machine-learn/WDBC/\\n\\n|details-start|\\n**References**\\n|details-split|\\n\\n- W.N. Street, W.H. Wolberg and O.L. Mangasarian. Nuclear feature extraction\\n  for breast tumor diagnosis. IS&T/SPIE 1993 International Symposium on\\n  Electronic Imaging: Science and Technology, volume 1905, pages 861-870,\\n  San Jose, CA, 1993.\\n- O.L. Mangasarian, W.N. Street and W.H. Wolberg. Breast cancer diagnosis and\\n  prognosis via linear programming. Operations Research, 43(4), pages 570-577,\\n  July-August 1995.\\n- W.H. Wolberg, W.N. Street, and O.L. Mangasarian. Machine learning techniques\\n  to diagnose breast cancer from fine-needle aspirates. Cancer Letters 77 (1994)\\n  163-171.\\n\\n|details-end|\\n',\n",
       " 'feature_names': array(['mean radius', 'mean texture', 'mean perimeter', 'mean area',\n",
       "        'mean smoothness', 'mean compactness', 'mean concavity',\n",
       "        'mean concave points', 'mean symmetry', 'mean fractal dimension',\n",
       "        'radius error', 'texture error', 'perimeter error', 'area error',\n",
       "        'smoothness error', 'compactness error', 'concavity error',\n",
       "        'concave points error', 'symmetry error',\n",
       "        'fractal dimension error', 'worst radius', 'worst texture',\n",
       "        'worst perimeter', 'worst area', 'worst smoothness',\n",
       "        'worst compactness', 'worst concavity', 'worst concave points',\n",
       "        'worst symmetry', 'worst fractal dimension'], dtype='<U23'),\n",
       " 'filename': 'breast_cancer.csv',\n",
       " 'data_module': 'sklearn.datasets.data'}"
      ]
     },
     "execution_count": 253,
     "metadata": {},
     "output_type": "execute_result"
    }
   ],
   "source": [
    "breast"
   ]
  },
  {
   "cell_type": "markdown",
   "metadata": {},
   "source": [
    "Instantiating the model\n",
    "in scikit-learn, every class of model is represented by a class in python. A class of model is not the same as an instance of a model. recall that instance is an individual object of a certain class. thus, we first import the linear regression class, then instantiate the model, that is to create an instance of the class LinearRegression"
   ]
  },
  {
   "cell_type": "code",
   "execution_count": 254,
   "metadata": {},
   "outputs": [],
   "source": [
    "from sklearn.linear_model import LinearRegression"
   ]
  },
  {
   "cell_type": "markdown",
   "metadata": {},
   "source": [
    "model = LinearRegression()"
   ]
  },
  {
   "cell_type": "markdown",
   "metadata": {},
   "source": [
    "Train-test split\n",
    "now we split the data into training and testing sets. why? to assess the performance of the model on newly unseen data. we train the model using a training set, and save the testing set for evaluation\n",
    "\n",
    "a good rule of thumb is to split data 70-30, that is 70% of data is used for training and 30% for testing. we use train_test_split function inside scikit-learn's module model selection to split the data into two random subsets. set random_state so that the results are reproducible\n",
    "\n",
    "X_train, X_test, Y_train, Y_test = train_test_split(X,Y, test_size=0.3, random_state=1)"
   ]
  },
  {
   "cell_type": "code",
   "execution_count": 255,
   "metadata": {},
   "outputs": [],
   "source": [
    "from sklearn.model_selection import train_test_split"
   ]
  },
  {
   "cell_type": "markdown",
   "metadata": {},
   "source": [
    "fitting the model\n",
    "in short, fitting is equal to training. it fits the model to the training data and finds the coefficients specified in the linear regression model, i.e, intercept and slope. after it is trained, the model can be used to make predictions\n",
    "\n",
    "now let us apply the model to data. remember, we save the testing data to report the model performance and only use the training set to build the model. the syntax is\n",
    "\n",
    "model.fit(X_train, Y_train)"
   ]
  },
  {
   "cell_type": "markdown",
   "metadata": {},
   "source": [
    "parameter estimates\n",
    "the linear regression model has been fitted, what it means is that both parameters, the intercept and the slope, have been learned. what are they? in scikit-learn, by convention all model parameters have trailing underscores, for example to access the estimated intercept from the model, rounded to the 2nd decimal for better display\n",
    "\n",
    "model.intercept_.round(2)\n",
    "\n",
    "model.coef_.round(2)"
   ]
  },
  {
   "cell_type": "markdown",
   "metadata": {},
   "source": [
    "prediction\n",
    "once the model is trained, supervised machine learning will evaluate test data based on previous predictions for the unseen data. we can make prediction using predict() method"
   ]
  },
  {
   "cell_type": "markdown",
   "metadata": {},
   "source": [
    "Residuals\n",
    "plt.scatter(X_test, Y_test, label = 'testing data');\n"
   ]
  },
  {
   "cell_type": "markdown",
   "metadata": {},
   "source": [
    "classification\n",
    "discrete values\n",
    "\n",
    "discrete data are only able to have certain values, while continuous data can take on any value\n",
    "\n",
    "examples of classification problems involving discrete data values are:\n",
    "> to predict whether a breast cancer is benign or malignant given a set of features\n",
    "> to calssify an image as containing cats or dogs or horses\n",
    "> to predict whether an email is spam or not from a given email address\n",
    "\n",
    "in each of the examples, the label come in categorical form and represent a finite number of classes\n",
    "\n",
    "NB : discrete data values can be numeric, like the number of students in a class, or it can be categorical, like red, blue or yellow\n",
    "\n",
    "discrete data can only take particular values. continuous data are not restricted to defined separate values, but can occupy any value over a continuous range\n",
    "\n",
    "regression model is for continuous data\n",
    "classification model is for discrete data\n",
    "\n",
    "natural numbers are discrete\n",
    "real numbers are continuous\n",
    "\n",
    "Binary and Multi-class classification\n",
    "\n",
    "there are two types of classification : binary and multi-class. if there are two classes to predict, that is a binary classification problem, for example, a benign or malignant tumor. when there are more than two classes, the task is a multi-classification problem, for example, classifying the species of iris, which can be versicolor, virqinica, or setosa, based on their sepal and petal characteristics\n",
    "\n",
    "common algorithms for classification include logistic regression, k nearest neighbors, decision trees, naive bayes, support vector machines, neural networks, etc. here we will learn k nearest neighbors to classify iris species\n",
    "\n",
    "supervised learning problems are grouped into regression and classification problems. both problems have as a goal the construction of a mapping function from input variables(X) to an output variable(y). the difference is that the output variable is continuous in regression and categorical for classification"
   ]
  },
  {
   "cell_type": "markdown",
   "metadata": {},
   "source": [
    "Iris dataset\n",
    "\n",
    "the famous iris database, first used by Sir R.A Fisher, is perhthe best known dataset to be found in pattern recognition literature. there are 150 iris plants, each with 4 numeric attributes: sepal length in cm, sepal width in cm, petal length in cm, and petal width in cm. the task is to predict each plant as an iris-setosa, an iris-versicolor, or an iris-virginica based on these attributes"
   ]
  },
  {
   "cell_type": "code",
   "execution_count": 256,
   "metadata": {},
   "outputs": [
    {
     "data": {
      "text/html": [
       "<div>\n",
       "<style scoped>\n",
       "    .dataframe tbody tr th:only-of-type {\n",
       "        vertical-align: middle;\n",
       "    }\n",
       "\n",
       "    .dataframe tbody tr th {\n",
       "        vertical-align: top;\n",
       "    }\n",
       "\n",
       "    .dataframe thead th {\n",
       "        text-align: right;\n",
       "    }\n",
       "</style>\n",
       "<table border=\"1\" class=\"dataframe\">\n",
       "  <thead>\n",
       "    <tr style=\"text-align: right;\">\n",
       "      <th></th>\n",
       "      <th>SepalLengthCm</th>\n",
       "      <th>SepalWidthCm</th>\n",
       "      <th>PetalLengthCm</th>\n",
       "      <th>PetalWidthCm</th>\n",
       "      <th>Species</th>\n",
       "    </tr>\n",
       "    <tr>\n",
       "      <th>Id</th>\n",
       "      <th></th>\n",
       "      <th></th>\n",
       "      <th></th>\n",
       "      <th></th>\n",
       "      <th></th>\n",
       "    </tr>\n",
       "  </thead>\n",
       "  <tbody>\n",
       "    <tr>\n",
       "      <th>1</th>\n",
       "      <td>5.1</td>\n",
       "      <td>3.5</td>\n",
       "      <td>1.4</td>\n",
       "      <td>0.2</td>\n",
       "      <td>Iris-setosa</td>\n",
       "    </tr>\n",
       "    <tr>\n",
       "      <th>2</th>\n",
       "      <td>4.9</td>\n",
       "      <td>3.0</td>\n",
       "      <td>1.4</td>\n",
       "      <td>0.2</td>\n",
       "      <td>Iris-setosa</td>\n",
       "    </tr>\n",
       "    <tr>\n",
       "      <th>3</th>\n",
       "      <td>4.7</td>\n",
       "      <td>3.2</td>\n",
       "      <td>1.3</td>\n",
       "      <td>0.2</td>\n",
       "      <td>Iris-setosa</td>\n",
       "    </tr>\n",
       "    <tr>\n",
       "      <th>4</th>\n",
       "      <td>4.6</td>\n",
       "      <td>3.1</td>\n",
       "      <td>1.5</td>\n",
       "      <td>0.2</td>\n",
       "      <td>Iris-setosa</td>\n",
       "    </tr>\n",
       "    <tr>\n",
       "      <th>5</th>\n",
       "      <td>5.0</td>\n",
       "      <td>3.6</td>\n",
       "      <td>1.4</td>\n",
       "      <td>0.2</td>\n",
       "      <td>Iris-setosa</td>\n",
       "    </tr>\n",
       "    <tr>\n",
       "      <th>...</th>\n",
       "      <td>...</td>\n",
       "      <td>...</td>\n",
       "      <td>...</td>\n",
       "      <td>...</td>\n",
       "      <td>...</td>\n",
       "    </tr>\n",
       "    <tr>\n",
       "      <th>146</th>\n",
       "      <td>6.7</td>\n",
       "      <td>3.0</td>\n",
       "      <td>5.2</td>\n",
       "      <td>2.3</td>\n",
       "      <td>Iris-virginica</td>\n",
       "    </tr>\n",
       "    <tr>\n",
       "      <th>147</th>\n",
       "      <td>6.3</td>\n",
       "      <td>2.5</td>\n",
       "      <td>5.0</td>\n",
       "      <td>1.9</td>\n",
       "      <td>Iris-virginica</td>\n",
       "    </tr>\n",
       "    <tr>\n",
       "      <th>148</th>\n",
       "      <td>6.5</td>\n",
       "      <td>3.0</td>\n",
       "      <td>5.2</td>\n",
       "      <td>2.0</td>\n",
       "      <td>Iris-virginica</td>\n",
       "    </tr>\n",
       "    <tr>\n",
       "      <th>149</th>\n",
       "      <td>6.2</td>\n",
       "      <td>3.4</td>\n",
       "      <td>5.4</td>\n",
       "      <td>2.3</td>\n",
       "      <td>Iris-virginica</td>\n",
       "    </tr>\n",
       "    <tr>\n",
       "      <th>150</th>\n",
       "      <td>5.9</td>\n",
       "      <td>3.0</td>\n",
       "      <td>5.1</td>\n",
       "      <td>1.8</td>\n",
       "      <td>Iris-virginica</td>\n",
       "    </tr>\n",
       "  </tbody>\n",
       "</table>\n",
       "<p>150 rows × 5 columns</p>\n",
       "</div>"
      ],
      "text/plain": [
       "     SepalLengthCm  SepalWidthCm  PetalLengthCm  PetalWidthCm         Species\n",
       "Id                                                                           \n",
       "1              5.1           3.5            1.4           0.2     Iris-setosa\n",
       "2              4.9           3.0            1.4           0.2     Iris-setosa\n",
       "3              4.7           3.2            1.3           0.2     Iris-setosa\n",
       "4              4.6           3.1            1.5           0.2     Iris-setosa\n",
       "5              5.0           3.6            1.4           0.2     Iris-setosa\n",
       "..             ...           ...            ...           ...             ...\n",
       "146            6.7           3.0            5.2           2.3  Iris-virginica\n",
       "147            6.3           2.5            5.0           1.9  Iris-virginica\n",
       "148            6.5           3.0            5.2           2.0  Iris-virginica\n",
       "149            6.2           3.4            5.4           2.3  Iris-virginica\n",
       "150            5.9           3.0            5.1           1.8  Iris-virginica\n",
       "\n",
       "[150 rows x 5 columns]"
      ]
     },
     "execution_count": 256,
     "metadata": {},
     "output_type": "execute_result"
    }
   ],
   "source": [
    "iris = pd.read_csv('./Data/Iris.csv', index_col='Id')\n",
    "iris"
   ]
  },
  {
   "cell_type": "markdown",
   "metadata": {},
   "source": []
  },
  {
   "cell_type": "code",
   "execution_count": 257,
   "metadata": {},
   "outputs": [
    {
     "data": {
      "text/plain": [
       "{'data': array([[5.1, 3.5, 1.4, 0.2],\n",
       "        [4.9, 3. , 1.4, 0.2],\n",
       "        [4.7, 3.2, 1.3, 0.2],\n",
       "        [4.6, 3.1, 1.5, 0.2],\n",
       "        [5. , 3.6, 1.4, 0.2],\n",
       "        [5.4, 3.9, 1.7, 0.4],\n",
       "        [4.6, 3.4, 1.4, 0.3],\n",
       "        [5. , 3.4, 1.5, 0.2],\n",
       "        [4.4, 2.9, 1.4, 0.2],\n",
       "        [4.9, 3.1, 1.5, 0.1],\n",
       "        [5.4, 3.7, 1.5, 0.2],\n",
       "        [4.8, 3.4, 1.6, 0.2],\n",
       "        [4.8, 3. , 1.4, 0.1],\n",
       "        [4.3, 3. , 1.1, 0.1],\n",
       "        [5.8, 4. , 1.2, 0.2],\n",
       "        [5.7, 4.4, 1.5, 0.4],\n",
       "        [5.4, 3.9, 1.3, 0.4],\n",
       "        [5.1, 3.5, 1.4, 0.3],\n",
       "        [5.7, 3.8, 1.7, 0.3],\n",
       "        [5.1, 3.8, 1.5, 0.3],\n",
       "        [5.4, 3.4, 1.7, 0.2],\n",
       "        [5.1, 3.7, 1.5, 0.4],\n",
       "        [4.6, 3.6, 1. , 0.2],\n",
       "        [5.1, 3.3, 1.7, 0.5],\n",
       "        [4.8, 3.4, 1.9, 0.2],\n",
       "        [5. , 3. , 1.6, 0.2],\n",
       "        [5. , 3.4, 1.6, 0.4],\n",
       "        [5.2, 3.5, 1.5, 0.2],\n",
       "        [5.2, 3.4, 1.4, 0.2],\n",
       "        [4.7, 3.2, 1.6, 0.2],\n",
       "        [4.8, 3.1, 1.6, 0.2],\n",
       "        [5.4, 3.4, 1.5, 0.4],\n",
       "        [5.2, 4.1, 1.5, 0.1],\n",
       "        [5.5, 4.2, 1.4, 0.2],\n",
       "        [4.9, 3.1, 1.5, 0.2],\n",
       "        [5. , 3.2, 1.2, 0.2],\n",
       "        [5.5, 3.5, 1.3, 0.2],\n",
       "        [4.9, 3.6, 1.4, 0.1],\n",
       "        [4.4, 3. , 1.3, 0.2],\n",
       "        [5.1, 3.4, 1.5, 0.2],\n",
       "        [5. , 3.5, 1.3, 0.3],\n",
       "        [4.5, 2.3, 1.3, 0.3],\n",
       "        [4.4, 3.2, 1.3, 0.2],\n",
       "        [5. , 3.5, 1.6, 0.6],\n",
       "        [5.1, 3.8, 1.9, 0.4],\n",
       "        [4.8, 3. , 1.4, 0.3],\n",
       "        [5.1, 3.8, 1.6, 0.2],\n",
       "        [4.6, 3.2, 1.4, 0.2],\n",
       "        [5.3, 3.7, 1.5, 0.2],\n",
       "        [5. , 3.3, 1.4, 0.2],\n",
       "        [7. , 3.2, 4.7, 1.4],\n",
       "        [6.4, 3.2, 4.5, 1.5],\n",
       "        [6.9, 3.1, 4.9, 1.5],\n",
       "        [5.5, 2.3, 4. , 1.3],\n",
       "        [6.5, 2.8, 4.6, 1.5],\n",
       "        [5.7, 2.8, 4.5, 1.3],\n",
       "        [6.3, 3.3, 4.7, 1.6],\n",
       "        [4.9, 2.4, 3.3, 1. ],\n",
       "        [6.6, 2.9, 4.6, 1.3],\n",
       "        [5.2, 2.7, 3.9, 1.4],\n",
       "        [5. , 2. , 3.5, 1. ],\n",
       "        [5.9, 3. , 4.2, 1.5],\n",
       "        [6. , 2.2, 4. , 1. ],\n",
       "        [6.1, 2.9, 4.7, 1.4],\n",
       "        [5.6, 2.9, 3.6, 1.3],\n",
       "        [6.7, 3.1, 4.4, 1.4],\n",
       "        [5.6, 3. , 4.5, 1.5],\n",
       "        [5.8, 2.7, 4.1, 1. ],\n",
       "        [6.2, 2.2, 4.5, 1.5],\n",
       "        [5.6, 2.5, 3.9, 1.1],\n",
       "        [5.9, 3.2, 4.8, 1.8],\n",
       "        [6.1, 2.8, 4. , 1.3],\n",
       "        [6.3, 2.5, 4.9, 1.5],\n",
       "        [6.1, 2.8, 4.7, 1.2],\n",
       "        [6.4, 2.9, 4.3, 1.3],\n",
       "        [6.6, 3. , 4.4, 1.4],\n",
       "        [6.8, 2.8, 4.8, 1.4],\n",
       "        [6.7, 3. , 5. , 1.7],\n",
       "        [6. , 2.9, 4.5, 1.5],\n",
       "        [5.7, 2.6, 3.5, 1. ],\n",
       "        [5.5, 2.4, 3.8, 1.1],\n",
       "        [5.5, 2.4, 3.7, 1. ],\n",
       "        [5.8, 2.7, 3.9, 1.2],\n",
       "        [6. , 2.7, 5.1, 1.6],\n",
       "        [5.4, 3. , 4.5, 1.5],\n",
       "        [6. , 3.4, 4.5, 1.6],\n",
       "        [6.7, 3.1, 4.7, 1.5],\n",
       "        [6.3, 2.3, 4.4, 1.3],\n",
       "        [5.6, 3. , 4.1, 1.3],\n",
       "        [5.5, 2.5, 4. , 1.3],\n",
       "        [5.5, 2.6, 4.4, 1.2],\n",
       "        [6.1, 3. , 4.6, 1.4],\n",
       "        [5.8, 2.6, 4. , 1.2],\n",
       "        [5. , 2.3, 3.3, 1. ],\n",
       "        [5.6, 2.7, 4.2, 1.3],\n",
       "        [5.7, 3. , 4.2, 1.2],\n",
       "        [5.7, 2.9, 4.2, 1.3],\n",
       "        [6.2, 2.9, 4.3, 1.3],\n",
       "        [5.1, 2.5, 3. , 1.1],\n",
       "        [5.7, 2.8, 4.1, 1.3],\n",
       "        [6.3, 3.3, 6. , 2.5],\n",
       "        [5.8, 2.7, 5.1, 1.9],\n",
       "        [7.1, 3. , 5.9, 2.1],\n",
       "        [6.3, 2.9, 5.6, 1.8],\n",
       "        [6.5, 3. , 5.8, 2.2],\n",
       "        [7.6, 3. , 6.6, 2.1],\n",
       "        [4.9, 2.5, 4.5, 1.7],\n",
       "        [7.3, 2.9, 6.3, 1.8],\n",
       "        [6.7, 2.5, 5.8, 1.8],\n",
       "        [7.2, 3.6, 6.1, 2.5],\n",
       "        [6.5, 3.2, 5.1, 2. ],\n",
       "        [6.4, 2.7, 5.3, 1.9],\n",
       "        [6.8, 3. , 5.5, 2.1],\n",
       "        [5.7, 2.5, 5. , 2. ],\n",
       "        [5.8, 2.8, 5.1, 2.4],\n",
       "        [6.4, 3.2, 5.3, 2.3],\n",
       "        [6.5, 3. , 5.5, 1.8],\n",
       "        [7.7, 3.8, 6.7, 2.2],\n",
       "        [7.7, 2.6, 6.9, 2.3],\n",
       "        [6. , 2.2, 5. , 1.5],\n",
       "        [6.9, 3.2, 5.7, 2.3],\n",
       "        [5.6, 2.8, 4.9, 2. ],\n",
       "        [7.7, 2.8, 6.7, 2. ],\n",
       "        [6.3, 2.7, 4.9, 1.8],\n",
       "        [6.7, 3.3, 5.7, 2.1],\n",
       "        [7.2, 3.2, 6. , 1.8],\n",
       "        [6.2, 2.8, 4.8, 1.8],\n",
       "        [6.1, 3. , 4.9, 1.8],\n",
       "        [6.4, 2.8, 5.6, 2.1],\n",
       "        [7.2, 3. , 5.8, 1.6],\n",
       "        [7.4, 2.8, 6.1, 1.9],\n",
       "        [7.9, 3.8, 6.4, 2. ],\n",
       "        [6.4, 2.8, 5.6, 2.2],\n",
       "        [6.3, 2.8, 5.1, 1.5],\n",
       "        [6.1, 2.6, 5.6, 1.4],\n",
       "        [7.7, 3. , 6.1, 2.3],\n",
       "        [6.3, 3.4, 5.6, 2.4],\n",
       "        [6.4, 3.1, 5.5, 1.8],\n",
       "        [6. , 3. , 4.8, 1.8],\n",
       "        [6.9, 3.1, 5.4, 2.1],\n",
       "        [6.7, 3.1, 5.6, 2.4],\n",
       "        [6.9, 3.1, 5.1, 2.3],\n",
       "        [5.8, 2.7, 5.1, 1.9],\n",
       "        [6.8, 3.2, 5.9, 2.3],\n",
       "        [6.7, 3.3, 5.7, 2.5],\n",
       "        [6.7, 3. , 5.2, 2.3],\n",
       "        [6.3, 2.5, 5. , 1.9],\n",
       "        [6.5, 3. , 5.2, 2. ],\n",
       "        [6.2, 3.4, 5.4, 2.3],\n",
       "        [5.9, 3. , 5.1, 1.8]]),\n",
       " 'target': array([0, 0, 0, 0, 0, 0, 0, 0, 0, 0, 0, 0, 0, 0, 0, 0, 0, 0, 0, 0, 0, 0,\n",
       "        0, 0, 0, 0, 0, 0, 0, 0, 0, 0, 0, 0, 0, 0, 0, 0, 0, 0, 0, 0, 0, 0,\n",
       "        0, 0, 0, 0, 0, 0, 1, 1, 1, 1, 1, 1, 1, 1, 1, 1, 1, 1, 1, 1, 1, 1,\n",
       "        1, 1, 1, 1, 1, 1, 1, 1, 1, 1, 1, 1, 1, 1, 1, 1, 1, 1, 1, 1, 1, 1,\n",
       "        1, 1, 1, 1, 1, 1, 1, 1, 1, 1, 1, 1, 2, 2, 2, 2, 2, 2, 2, 2, 2, 2,\n",
       "        2, 2, 2, 2, 2, 2, 2, 2, 2, 2, 2, 2, 2, 2, 2, 2, 2, 2, 2, 2, 2, 2,\n",
       "        2, 2, 2, 2, 2, 2, 2, 2, 2, 2, 2, 2, 2, 2, 2, 2, 2, 2]),\n",
       " 'frame': None,\n",
       " 'target_names': array(['setosa', 'versicolor', 'virginica'], dtype='<U10'),\n",
       " 'DESCR': '.. _iris_dataset:\\n\\nIris plants dataset\\n--------------------\\n\\n**Data Set Characteristics:**\\n\\n:Number of Instances: 150 (50 in each of three classes)\\n:Number of Attributes: 4 numeric, predictive attributes and the class\\n:Attribute Information:\\n    - sepal length in cm\\n    - sepal width in cm\\n    - petal length in cm\\n    - petal width in cm\\n    - class:\\n            - Iris-Setosa\\n            - Iris-Versicolour\\n            - Iris-Virginica\\n\\n:Summary Statistics:\\n\\n============== ==== ==== ======= ===== ====================\\n                Min  Max   Mean    SD   Class Correlation\\n============== ==== ==== ======= ===== ====================\\nsepal length:   4.3  7.9   5.84   0.83    0.7826\\nsepal width:    2.0  4.4   3.05   0.43   -0.4194\\npetal length:   1.0  6.9   3.76   1.76    0.9490  (high!)\\npetal width:    0.1  2.5   1.20   0.76    0.9565  (high!)\\n============== ==== ==== ======= ===== ====================\\n\\n:Missing Attribute Values: None\\n:Class Distribution: 33.3% for each of 3 classes.\\n:Creator: R.A. Fisher\\n:Donor: Michael Marshall (MARSHALL%PLU@io.arc.nasa.gov)\\n:Date: July, 1988\\n\\nThe famous Iris database, first used by Sir R.A. Fisher. The dataset is taken\\nfrom Fisher\\'s paper. Note that it\\'s the same as in R, but not as in the UCI\\nMachine Learning Repository, which has two wrong data points.\\n\\nThis is perhaps the best known database to be found in the\\npattern recognition literature.  Fisher\\'s paper is a classic in the field and\\nis referenced frequently to this day.  (See Duda & Hart, for example.)  The\\ndata set contains 3 classes of 50 instances each, where each class refers to a\\ntype of iris plant.  One class is linearly separable from the other 2; the\\nlatter are NOT linearly separable from each other.\\n\\n|details-start|\\n**References**\\n|details-split|\\n\\n- Fisher, R.A. \"The use of multiple measurements in taxonomic problems\"\\n  Annual Eugenics, 7, Part II, 179-188 (1936); also in \"Contributions to\\n  Mathematical Statistics\" (John Wiley, NY, 1950).\\n- Duda, R.O., & Hart, P.E. (1973) Pattern Classification and Scene Analysis.\\n  (Q327.D83) John Wiley & Sons.  ISBN 0-471-22361-1.  See page 218.\\n- Dasarathy, B.V. (1980) \"Nosing Around the Neighborhood: A New System\\n  Structure and Classification Rule for Recognition in Partially Exposed\\n  Environments\".  IEEE Transactions on Pattern Analysis and Machine\\n  Intelligence, Vol. PAMI-2, No. 1, 67-71.\\n- Gates, G.W. (1972) \"The Reduced Nearest Neighbor Rule\".  IEEE Transactions\\n  on Information Theory, May 1972, 431-433.\\n- See also: 1988 MLC Proceedings, 54-64.  Cheeseman et al\"s AUTOCLASS II\\n  conceptual clustering system finds 3 classes in the data.\\n- Many, many more ...\\n\\n|details-end|\\n',\n",
       " 'feature_names': ['sepal length (cm)',\n",
       "  'sepal width (cm)',\n",
       "  'petal length (cm)',\n",
       "  'petal width (cm)'],\n",
       " 'filename': 'iris.csv',\n",
       " 'data_module': 'sklearn.datasets.data'}"
      ]
     },
     "execution_count": 257,
     "metadata": {},
     "output_type": "execute_result"
    }
   ],
   "source": [
    "from sklearn.datasets import load_iris\n",
    "iris_sk = load_iris()\n",
    "iris_sk"
   ]
  },
  {
   "cell_type": "code",
   "execution_count": 258,
   "metadata": {},
   "outputs": [
    {
     "data": {
      "text/html": [
       "<div>\n",
       "<style scoped>\n",
       "    .dataframe tbody tr th:only-of-type {\n",
       "        vertical-align: middle;\n",
       "    }\n",
       "\n",
       "    .dataframe tbody tr th {\n",
       "        vertical-align: top;\n",
       "    }\n",
       "\n",
       "    .dataframe thead th {\n",
       "        text-align: right;\n",
       "    }\n",
       "</style>\n",
       "<table border=\"1\" class=\"dataframe\">\n",
       "  <thead>\n",
       "    <tr style=\"text-align: right;\">\n",
       "      <th></th>\n",
       "      <th>sepal length (cm)</th>\n",
       "      <th>sepal width (cm)</th>\n",
       "      <th>petal length (cm)</th>\n",
       "      <th>petal width (cm)</th>\n",
       "      <th>species</th>\n",
       "    </tr>\n",
       "  </thead>\n",
       "  <tbody>\n",
       "    <tr>\n",
       "      <th>0</th>\n",
       "      <td>5.1</td>\n",
       "      <td>3.5</td>\n",
       "      <td>1.4</td>\n",
       "      <td>0.2</td>\n",
       "      <td>0</td>\n",
       "    </tr>\n",
       "    <tr>\n",
       "      <th>1</th>\n",
       "      <td>4.9</td>\n",
       "      <td>3.0</td>\n",
       "      <td>1.4</td>\n",
       "      <td>0.2</td>\n",
       "      <td>0</td>\n",
       "    </tr>\n",
       "    <tr>\n",
       "      <th>2</th>\n",
       "      <td>4.7</td>\n",
       "      <td>3.2</td>\n",
       "      <td>1.3</td>\n",
       "      <td>0.2</td>\n",
       "      <td>0</td>\n",
       "    </tr>\n",
       "    <tr>\n",
       "      <th>3</th>\n",
       "      <td>4.6</td>\n",
       "      <td>3.1</td>\n",
       "      <td>1.5</td>\n",
       "      <td>0.2</td>\n",
       "      <td>0</td>\n",
       "    </tr>\n",
       "    <tr>\n",
       "      <th>4</th>\n",
       "      <td>5.0</td>\n",
       "      <td>3.6</td>\n",
       "      <td>1.4</td>\n",
       "      <td>0.2</td>\n",
       "      <td>0</td>\n",
       "    </tr>\n",
       "  </tbody>\n",
       "</table>\n",
       "</div>"
      ],
      "text/plain": [
       "   sepal length (cm)  sepal width (cm)  petal length (cm)  petal width (cm)  \\\n",
       "0                5.1               3.5                1.4               0.2   \n",
       "1                4.9               3.0                1.4               0.2   \n",
       "2                4.7               3.2                1.3               0.2   \n",
       "3                4.6               3.1                1.5               0.2   \n",
       "4                5.0               3.6                1.4               0.2   \n",
       "\n",
       "   species  \n",
       "0        0  \n",
       "1        0  \n",
       "2        0  \n",
       "3        0  \n",
       "4        0  "
      ]
     },
     "execution_count": 258,
     "metadata": {},
     "output_type": "execute_result"
    }
   ],
   "source": [
    "df = pd.DataFrame(iris_sk.data, columns=iris_sk.feature_names)\n",
    "df['species'] = iris_sk.target\n",
    "df.head()"
   ]
  },
  {
   "cell_type": "code",
   "execution_count": 259,
   "metadata": {},
   "outputs": [
    {
     "data": {
      "text/plain": [
       "(150, 5)"
      ]
     },
     "execution_count": 259,
     "metadata": {},
     "output_type": "execute_result"
    }
   ],
   "source": [
    "iris.shape"
   ]
  },
  {
   "cell_type": "code",
   "execution_count": 260,
   "metadata": {},
   "outputs": [
    {
     "data": {
      "text/html": [
       "<div>\n",
       "<style scoped>\n",
       "    .dataframe tbody tr th:only-of-type {\n",
       "        vertical-align: middle;\n",
       "    }\n",
       "\n",
       "    .dataframe tbody tr th {\n",
       "        vertical-align: top;\n",
       "    }\n",
       "\n",
       "    .dataframe thead th {\n",
       "        text-align: right;\n",
       "    }\n",
       "</style>\n",
       "<table border=\"1\" class=\"dataframe\">\n",
       "  <thead>\n",
       "    <tr style=\"text-align: right;\">\n",
       "      <th></th>\n",
       "      <th>SepalLengthCm</th>\n",
       "      <th>SepalWidthCm</th>\n",
       "      <th>PetalLengthCm</th>\n",
       "      <th>PetalWidthCm</th>\n",
       "      <th>Species</th>\n",
       "    </tr>\n",
       "    <tr>\n",
       "      <th>Id</th>\n",
       "      <th></th>\n",
       "      <th></th>\n",
       "      <th></th>\n",
       "      <th></th>\n",
       "      <th></th>\n",
       "    </tr>\n",
       "  </thead>\n",
       "  <tbody>\n",
       "    <tr>\n",
       "      <th>1</th>\n",
       "      <td>5.1</td>\n",
       "      <td>3.5</td>\n",
       "      <td>1.4</td>\n",
       "      <td>0.2</td>\n",
       "      <td>Iris-setosa</td>\n",
       "    </tr>\n",
       "    <tr>\n",
       "      <th>2</th>\n",
       "      <td>4.9</td>\n",
       "      <td>3.0</td>\n",
       "      <td>1.4</td>\n",
       "      <td>0.2</td>\n",
       "      <td>Iris-setosa</td>\n",
       "    </tr>\n",
       "    <tr>\n",
       "      <th>3</th>\n",
       "      <td>4.7</td>\n",
       "      <td>3.2</td>\n",
       "      <td>1.3</td>\n",
       "      <td>0.2</td>\n",
       "      <td>Iris-setosa</td>\n",
       "    </tr>\n",
       "    <tr>\n",
       "      <th>4</th>\n",
       "      <td>4.6</td>\n",
       "      <td>3.1</td>\n",
       "      <td>1.5</td>\n",
       "      <td>0.2</td>\n",
       "      <td>Iris-setosa</td>\n",
       "    </tr>\n",
       "    <tr>\n",
       "      <th>5</th>\n",
       "      <td>5.0</td>\n",
       "      <td>3.6</td>\n",
       "      <td>1.4</td>\n",
       "      <td>0.2</td>\n",
       "      <td>Iris-setosa</td>\n",
       "    </tr>\n",
       "  </tbody>\n",
       "</table>\n",
       "</div>"
      ],
      "text/plain": [
       "    SepalLengthCm  SepalWidthCm  PetalLengthCm  PetalWidthCm      Species\n",
       "Id                                                                       \n",
       "1             5.1           3.5            1.4           0.2  Iris-setosa\n",
       "2             4.9           3.0            1.4           0.2  Iris-setosa\n",
       "3             4.7           3.2            1.3           0.2  Iris-setosa\n",
       "4             4.6           3.1            1.5           0.2  Iris-setosa\n",
       "5             5.0           3.6            1.4           0.2  Iris-setosa"
      ]
     },
     "execution_count": 260,
     "metadata": {},
     "output_type": "execute_result"
    }
   ],
   "source": [
    "iris.head()"
   ]
  },
  {
   "cell_type": "markdown",
   "metadata": {},
   "source": [
    "summary statistics"
   ]
  },
  {
   "cell_type": "code",
   "execution_count": 261,
   "metadata": {},
   "outputs": [
    {
     "data": {
      "text/html": [
       "<div>\n",
       "<style scoped>\n",
       "    .dataframe tbody tr th:only-of-type {\n",
       "        vertical-align: middle;\n",
       "    }\n",
       "\n",
       "    .dataframe tbody tr th {\n",
       "        vertical-align: top;\n",
       "    }\n",
       "\n",
       "    .dataframe thead th {\n",
       "        text-align: right;\n",
       "    }\n",
       "</style>\n",
       "<table border=\"1\" class=\"dataframe\">\n",
       "  <thead>\n",
       "    <tr style=\"text-align: right;\">\n",
       "      <th></th>\n",
       "      <th>SepalLengthCm</th>\n",
       "      <th>SepalWidthCm</th>\n",
       "      <th>PetalLengthCm</th>\n",
       "      <th>PetalWidthCm</th>\n",
       "    </tr>\n",
       "  </thead>\n",
       "  <tbody>\n",
       "    <tr>\n",
       "      <th>count</th>\n",
       "      <td>150.000000</td>\n",
       "      <td>150.000000</td>\n",
       "      <td>150.000000</td>\n",
       "      <td>150.000000</td>\n",
       "    </tr>\n",
       "    <tr>\n",
       "      <th>mean</th>\n",
       "      <td>5.843333</td>\n",
       "      <td>3.054000</td>\n",
       "      <td>3.758667</td>\n",
       "      <td>1.198667</td>\n",
       "    </tr>\n",
       "    <tr>\n",
       "      <th>std</th>\n",
       "      <td>0.828066</td>\n",
       "      <td>0.433594</td>\n",
       "      <td>1.764420</td>\n",
       "      <td>0.763161</td>\n",
       "    </tr>\n",
       "    <tr>\n",
       "      <th>min</th>\n",
       "      <td>4.300000</td>\n",
       "      <td>2.000000</td>\n",
       "      <td>1.000000</td>\n",
       "      <td>0.100000</td>\n",
       "    </tr>\n",
       "    <tr>\n",
       "      <th>25%</th>\n",
       "      <td>5.100000</td>\n",
       "      <td>2.800000</td>\n",
       "      <td>1.600000</td>\n",
       "      <td>0.300000</td>\n",
       "    </tr>\n",
       "    <tr>\n",
       "      <th>50%</th>\n",
       "      <td>5.800000</td>\n",
       "      <td>3.000000</td>\n",
       "      <td>4.350000</td>\n",
       "      <td>1.300000</td>\n",
       "    </tr>\n",
       "    <tr>\n",
       "      <th>75%</th>\n",
       "      <td>6.400000</td>\n",
       "      <td>3.300000</td>\n",
       "      <td>5.100000</td>\n",
       "      <td>1.800000</td>\n",
       "    </tr>\n",
       "    <tr>\n",
       "      <th>max</th>\n",
       "      <td>7.900000</td>\n",
       "      <td>4.400000</td>\n",
       "      <td>6.900000</td>\n",
       "      <td>2.500000</td>\n",
       "    </tr>\n",
       "  </tbody>\n",
       "</table>\n",
       "</div>"
      ],
      "text/plain": [
       "       SepalLengthCm  SepalWidthCm  PetalLengthCm  PetalWidthCm\n",
       "count     150.000000    150.000000     150.000000    150.000000\n",
       "mean        5.843333      3.054000       3.758667      1.198667\n",
       "std         0.828066      0.433594       1.764420      0.763161\n",
       "min         4.300000      2.000000       1.000000      0.100000\n",
       "25%         5.100000      2.800000       1.600000      0.300000\n",
       "50%         5.800000      3.000000       4.350000      1.300000\n",
       "75%         6.400000      3.300000       5.100000      1.800000\n",
       "max         7.900000      4.400000       6.900000      2.500000"
      ]
     },
     "execution_count": 261,
     "metadata": {},
     "output_type": "execute_result"
    }
   ],
   "source": [
    "iris.describe()"
   ]
  },
  {
   "cell_type": "markdown",
   "metadata": {},
   "source": [
    "all four features are numeric, each with the different ranges. there are no missin values in any of the columns. therefore, this is a clean dataset"
   ]
  },
  {
   "cell_type": "markdown",
   "metadata": {},
   "source": [
    "class distribution\n",
    "\n",
    "the data set contains 3 classes of 50 instances each. we can check this by "
   ]
  },
  {
   "cell_type": "code",
   "execution_count": 262,
   "metadata": {},
   "outputs": [
    {
     "data": {
      "text/plain": [
       "Species\n",
       "Iris-setosa        50\n",
       "Iris-versicolor    50\n",
       "Iris-virginica     50\n",
       "dtype: int64"
      ]
     },
     "execution_count": 262,
     "metadata": {},
     "output_type": "execute_result"
    }
   ],
   "source": [
    "iris.groupby('Species').size()"
   ]
  },
  {
   "cell_type": "code",
   "execution_count": 263,
   "metadata": {},
   "outputs": [
    {
     "data": {
      "text/plain": [
       "Species\n",
       "Iris-setosa        50\n",
       "Iris-versicolor    50\n",
       "Iris-virginica     50\n",
       "Name: count, dtype: int64"
      ]
     },
     "execution_count": 263,
     "metadata": {},
     "output_type": "execute_result"
    }
   ],
   "source": [
    "iris['Species'].value_counts()"
   ]
  },
  {
   "cell_type": "markdown",
   "metadata": {},
   "source": [
    "the method value_counts() is a great utitlity for quickly understanding the distribution of the data. when used on the categorical data, it counts the number of unique values in the column of interest\n",
    "\n",
    "iris is a balanced dataset as the data points for each class are evenly distributed\n",
    "\n",
    "an example of an imbalanced dataset is fraud. generally only a small percentage of the total number of transactions is actual fraud, about 1 in 1000. and when the dataset is imbalanced, a slightly different analysis will be used. therefore, it is important to understand whether the data is balanced or imbalanced\n",
    "\n",
    "NB : an imbalanced dataset is one where the classes within the data arae not equally represented"
   ]
  },
  {
   "cell_type": "markdown",
   "metadata": {},
   "source": [
    "Univariate plot\n",
    "to better understand each attribute, start with univariate plot, that is, plots of each individual variable"
   ]
  },
  {
   "cell_type": "code",
   "execution_count": 264,
   "metadata": {},
   "outputs": [
    {
     "data": {
      "image/png": "[encoded data removed]",
      "text/plain": [
       "<Figure size 640x480 with 4 Axes>"
      ]
     },
     "metadata": {},
     "output_type": "display_data"
    }
   ],
   "source": [
    "iris.hist()\n",
    "plt.show()"
   ]
  },
  {
   "cell_type": "markdown",
   "metadata": {},
   "source": [
    "this gives us a much clearer idea of the distributio of the input variable, showing that both sepal length adn sepal width have a normal (gaussian distribution) that is, the distribution has a beautiful symmetric bell shape. However, the length of petals is not normal. its plot shows two modes, one peak happening near 0 and the other around 5. "
   ]
  },
  {
   "cell_type": "code",
   "execution_count": 265,
   "metadata": {},
   "outputs": [
    {
     "data": {
      "image/png": "[encoded data removed]",
      "text/plain": [
       "<Figure size 640x480 with 6 Axes>"
      ]
     },
     "metadata": {},
     "output_type": "display_data"
    }
   ],
   "source": [
    "df.hist()\n",
    "plt.show()"
   ]
  },
  {
   "cell_type": "markdown",
   "metadata": {},
   "source": [
    "histograms are a type of bar chart that displays the counts or relative frequencies of values falling in different class intervals or ranges. there are more univariate summary plots including density plots and box plots"
   ]
  },
  {
   "cell_type": "markdown",
   "metadata": {},
   "source": [
    "Multivariate plot\n",
    "to see the interactions between attributes we use scatter plots. However, it's difficult to see if there's any grouping without indication of the true species of the flower that a datapoint represents. Therefore, we define a color code for each species to differentiate species visually"
   ]
  },
  {
   "cell_type": "code",
   "execution_count": 266,
   "metadata": {},
   "outputs": [
    {
     "data": {
      "image/png": "[encoded data removed]",
      "text/plain": [
       "<Figure size 640x480 with 1 Axes>"
      ]
     },
     "metadata": {},
     "output_type": "display_data"
    }
   ],
   "source": [
    "# build a dict mapping species to an integer code\n",
    "inv_name_dict = {\n",
    "    'Iris-setosa' : 0,\n",
    "    'Iris-versicolor' : 1,\n",
    "    'Iris-virginica' : 2\n",
    "}\n",
    "\n",
    "\n",
    "# build integer color code\n",
    "colors = [inv_name_dict[item] for item in iris['Species']]\n",
    "\n",
    "# scatter plot\n",
    "scatter = plt.scatter(iris['SepalLengthCm'],\n",
    "                      iris['SepalWidthCm'], c = colors)\n",
    "plt.xlabel('sepal length (cm)')\n",
    "plt.ylabel('sepal width (cm)')\n",
    "\n",
    "# add legend\n",
    "plt.legend(handles = scatter.legend_elements()[0],\n",
    "           labels = inv_name_dict.keys())\n",
    "plt.show()"
   ]
  },
  {
   "cell_type": "markdown",
   "metadata": {},
   "source": [
    "using sepal_length and sepal_width features, we can distinguish iris-setosa from others; separating iris-versicolor from iris-virginica is harder because of the overlap as seen by the green and yellow datapoints"
   ]
  },
  {
   "cell_type": "code",
   "execution_count": 267,
   "metadata": {},
   "outputs": [
    {
     "ename": "AttributeError",
     "evalue": "module 'matplotlib.pyplot' has no attribute 'ylable'",
     "output_type": "error",
     "traceback": [
      "\u001b[1;31m---------------------------------------------------------------------------\u001b[0m",
      "\u001b[1;31mAttributeError\u001b[0m                            Traceback (most recent call last)",
      "Cell \u001b[1;32mIn[267], line 4\u001b[0m\n\u001b[0;32m      1\u001b[0m scatter \u001b[38;5;241m=\u001b[39m  plt\u001b[38;5;241m.\u001b[39mscatter(iris[\u001b[38;5;124m'\u001b[39m\u001b[38;5;124mPetalLengthCm\u001b[39m\u001b[38;5;124m'\u001b[39m],\n\u001b[0;32m      2\u001b[0m                        iris[\u001b[38;5;124m'\u001b[39m\u001b[38;5;124mPetalWidthCm\u001b[39m\u001b[38;5;124m'\u001b[39m], c \u001b[38;5;241m=\u001b[39m colors)\n\u001b[0;32m      3\u001b[0m plt\u001b[38;5;241m.\u001b[39mxlabel(\u001b[38;5;124m'\u001b[39m\u001b[38;5;124mpetal length (cm)\u001b[39m\u001b[38;5;124m'\u001b[39m)\n\u001b[1;32m----> 4\u001b[0m \u001b[43mplt\u001b[49m\u001b[38;5;241;43m.\u001b[39;49m\u001b[43mylable\u001b[49m(\u001b[38;5;124m'\u001b[39m\u001b[38;5;124mpetal width (cm)\u001b[39m\u001b[38;5;124m'\u001b[39m)\n\u001b[0;32m      6\u001b[0m \u001b[38;5;66;03m# add legend\u001b[39;00m\n\u001b[0;32m      7\u001b[0m plt\u001b[38;5;241m.\u001b[39mlegend(handles \u001b[38;5;241m=\u001b[39m scatter\u001b[38;5;241m.\u001b[39mlegend_elements()[\u001b[38;5;241m0\u001b[39m],\n\u001b[0;32m      8\u001b[0m            labels \u001b[38;5;241m=\u001b[39m inv_name_dict\u001b[38;5;241m.\u001b[39mkeys())\n",
      "\u001b[1;31mAttributeError\u001b[0m: module 'matplotlib.pyplot' has no attribute 'ylable'"
     ]
    },
    {
     "data": {
      "image/png": "[encoded data removed]",
      "text/plain": [
       "<Figure size 640x480 with 1 Axes>"
      ]
     },
     "metadata": {},
     "output_type": "display_data"
    }
   ],
   "source": [
    "scatter =  plt.scatter(iris['PetalLengthCm'],\n",
    "                       iris['PetalWidthCm'], c = colors)\n",
    "plt.xlabel('petal length (cm)')\n",
    "plt.ylable('petal width (cm)')\n",
    "\n",
    "# add legend\n",
    "plt.legend(handles = scatter.legend_elements()[0],\n",
    "           labels = inv_name_dict.keys())\n",
    "plt.show()"
   ]
  },
  {
   "cell_type": "markdown",
   "metadata": {},
   "source": [
    "interestingly, the length and width of the petal are highly correlated, and these two features are very useful to identify various iris species. it is notable that the boundary between iris-versicolor and iris-virginica remains a bit fuzzy, indicating the difficulties for some classifiers. it is worth keeping in mind when training to decide which features we should see"
   ]
  },
  {
   "cell_type": "markdown",
   "metadata": {},
   "source": [
    "K nearest neighbors\n",
    "\n",
    "K nearest neighbors is a supervised machine learning model that takes a data point, looks at its 'k' closest labeled data points, and assigns the label by majority vote\n",
    "\n",
    "here we see that changing k could affect output of the model. in knn, k is a hyperparameter. a hyperparameter in machine learning is a parameter whose value is set before the learning process begins. we will learn how to tune the hyperparameter later\n",
    "\n",
    "in scikit learn, the k nearest neighbors algorithm is implemented in sklearn.neighbors module:"
   ]
  },
  {
   "cell_type": "code",
   "execution_count": null,
   "metadata": {},
   "outputs": [],
   "source": [
    "from sklearn.neighbors import KNeighborsClassifier"
   ]
  },
  {
   "cell_type": "markdown",
   "metadata": {},
   "source": [
    "k nearest neighbors can also be used for regression problems. the difference lies in prediction. instead of a majority vote, knn for regression makes a prediction using the mean labels of teh k closest data points"
   ]
  },
  {
   "cell_type": "markdown",
   "metadata": {},
   "source": [
    "Data preparation\n",
    "\n",
    "earlier we identified that the length and width of the petals are the most useful features to separate the species; we then define the features and labels as follows:"
   ]
  },
  {
   "cell_type": "code",
   "execution_count": null,
   "metadata": {},
   "outputs": [],
   "source": [
    "X = iris[['PetalLengthCm', 'PetalWidthCm']]\n",
    "y = iris['Species']"
   ]
  },
  {
   "cell_type": "markdown",
   "metadata": {},
   "source": [
    "recall that to assess the performance of the model, we do so on data that is unseen by the model construction. as a result, we set aside some portion of the data as a test set to mimic the unknown data the model will be presented with in the future. as done in the previous module, we use train_test_split in sklearn.model_selection"
   ]
  },
  {
   "cell_type": "code",
   "execution_count": null,
   "metadata": {},
   "outputs": [],
   "source": [
    "from sklearn.model_selection import train_test_split\n",
    "X_train, X_test, y_train, y_test = train_test_split(X,y, test_size=0.30, random_state=1, stratify=y)"
   ]
  },
  {
   "cell_type": "markdown",
   "metadata": {},
   "source": [
    "nb : now let us assume stratify is not mentioned, the random data that was splitted can select all the data having iris-setosa and iris versicolor as labels as the 70% training set and only leave the data having iris-virginica as label as the 30% testing test. what stratify does is that it enables the same percentage of each label both the training set and testing set. for example, stratify will enable 70% data of iris-setosa label in the training set and 30% of data with same label in the testing set"
   ]
  },
  {
   "cell_type": "markdown",
   "metadata": {},
   "source": [
    "Modeling\n",
    "\n",
    "now we are ready to build and train the model knn. first we import the class"
   ]
  },
  {
   "cell_type": "code",
   "execution_count": null,
   "metadata": {},
   "outputs": [],
   "source": [
    "from sklearn.neighbors import KNeighborsClassifier"
   ]
  },
  {
   "cell_type": "markdown",
   "metadata": {},
   "source": [
    "now create an instance knn from the class KNeighborsClassifier"
   ]
  },
  {
   "cell_type": "code",
   "execution_count": null,
   "metadata": {},
   "outputs": [],
   "source": [
    "knn = KNeighborsClassifier(n_neighbors=5)"
   ]
  },
  {
   "cell_type": "markdown",
   "metadata": {},
   "source": [
    "note that the only parameter we need to set in this problem is n_neighbors, or k as in knn. we set k to be 5 by random choice\n",
    "use the data X_train and y_train to train the model"
   ]
  },
  {
   "cell_type": "code",
   "execution_count": null,
   "metadata": {},
   "outputs": [
    {
     "data": {
      "text/html": [
       "<style>#sk-container-id-1 {\n",
       "  /* Definition of color scheme common for light and dark mode */\n",
       "  --sklearn-color-text: black;\n",
       "  --sklearn-color-line: gray;\n",
       "  /* Definition of color scheme for unfitted estimators */\n",
       "  --sklearn-color-unfitted-level-0: #fff5e6;\n",
       "  --sklearn-color-unfitted-level-1: #f6e4d2;\n",
       "  --sklearn-color-unfitted-level-2: #ffe0b3;\n",
       "  --sklearn-color-unfitted-level-3: chocolate;\n",
       "  /* Definition of color scheme for fitted estimators */\n",
       "  --sklearn-color-fitted-level-0: #f0f8ff;\n",
       "  --sklearn-color-fitted-level-1: #d4ebff;\n",
       "  --sklearn-color-fitted-level-2: #b3dbfd;\n",
       "  --sklearn-color-fitted-level-3: cornflowerblue;\n",
       "\n",
       "  /* Specific color for light theme */\n",
       "  --sklearn-color-text-on-default-background: var(--sg-text-color, var(--theme-code-foreground, var(--jp-content-font-color1, black)));\n",
       "  --sklearn-color-background: var(--sg-background-color, var(--theme-background, var(--jp-layout-color0, white)));\n",
       "  --sklearn-color-border-box: var(--sg-text-color, var(--theme-code-foreground, var(--jp-content-font-color1, black)));\n",
       "  --sklearn-color-icon: #696969;\n",
       "\n",
       "  @media (prefers-color-scheme: dark) {\n",
       "    /* Redefinition of color scheme for dark theme */\n",
       "    --sklearn-color-text-on-default-background: var(--sg-text-color, var(--theme-code-foreground, var(--jp-content-font-color1, white)));\n",
       "    --sklearn-color-background: var(--sg-background-color, var(--theme-background, var(--jp-layout-color0, #111)));\n",
       "    --sklearn-color-border-box: var(--sg-text-color, var(--theme-code-foreground, var(--jp-content-font-color1, white)));\n",
       "    --sklearn-color-icon: #878787;\n",
       "  }\n",
       "}\n",
       "\n",
       "#sk-container-id-1 {\n",
       "  color: var(--sklearn-color-text);\n",
       "}\n",
       "\n",
       "#sk-container-id-1 pre {\n",
       "  padding: 0;\n",
       "}\n",
       "\n",
       "#sk-container-id-1 input.sk-hidden--visually {\n",
       "  border: 0;\n",
       "  clip: rect(1px 1px 1px 1px);\n",
       "  clip: rect(1px, 1px, 1px, 1px);\n",
       "  height: 1px;\n",
       "  margin: -1px;\n",
       "  overflow: hidden;\n",
       "  padding: 0;\n",
       "  position: absolute;\n",
       "  width: 1px;\n",
       "}\n",
       "\n",
       "#sk-container-id-1 div.sk-dashed-wrapped {\n",
       "  border: 1px dashed var(--sklearn-color-line);\n",
       "  margin: 0 0.4em 0.5em 0.4em;\n",
       "  box-sizing: border-box;\n",
       "  padding-bottom: 0.4em;\n",
       "  background-color: var(--sklearn-color-background);\n",
       "}\n",
       "\n",
       "#sk-container-id-1 div.sk-container {\n",
       "  /* jupyter's `normalize.less` sets `[hidden] { display: none; }`\n",
       "     but bootstrap.min.css set `[hidden] { display: none !important; }`\n",
       "     so we also need the `!important` here to be able to override the\n",
       "     default hidden behavior on the sphinx rendered scikit-learn.org.\n",
       "     See: https://github.com/scikit-learn/scikit-learn/issues/21755 */\n",
       "  display: inline-block !important;\n",
       "  position: relative;\n",
       "}\n",
       "\n",
       "#sk-container-id-1 div.sk-text-repr-fallback {\n",
       "  display: none;\n",
       "}\n",
       "\n",
       "div.sk-parallel-item,\n",
       "div.sk-serial,\n",
       "div.sk-item {\n",
       "  /* draw centered vertical line to link estimators */\n",
       "  background-image: linear-gradient(var(--sklearn-color-text-on-default-background), var(--sklearn-color-text-on-default-background));\n",
       "  background-size: 2px 100%;\n",
       "  background-repeat: no-repeat;\n",
       "  background-position: center center;\n",
       "}\n",
       "\n",
       "/* Parallel-specific style estimator block */\n",
       "\n",
       "#sk-container-id-1 div.sk-parallel-item::after {\n",
       "  content: \"\";\n",
       "  width: 100%;\n",
       "  border-bottom: 2px solid var(--sklearn-color-text-on-default-background);\n",
       "  flex-grow: 1;\n",
       "}\n",
       "\n",
       "#sk-container-id-1 div.sk-parallel {\n",
       "  display: flex;\n",
       "  align-items: stretch;\n",
       "  justify-content: center;\n",
       "  background-color: var(--sklearn-color-background);\n",
       "  position: relative;\n",
       "}\n",
       "\n",
       "#sk-container-id-1 div.sk-parallel-item {\n",
       "  display: flex;\n",
       "  flex-direction: column;\n",
       "}\n",
       "\n",
       "#sk-container-id-1 div.sk-parallel-item:first-child::after {\n",
       "  align-self: flex-end;\n",
       "  width: 50%;\n",
       "}\n",
       "\n",
       "#sk-container-id-1 div.sk-parallel-item:last-child::after {\n",
       "  align-self: flex-start;\n",
       "  width: 50%;\n",
       "}\n",
       "\n",
       "#sk-container-id-1 div.sk-parallel-item:only-child::after {\n",
       "  width: 0;\n",
       "}\n",
       "\n",
       "/* Serial-specific style estimator block */\n",
       "\n",
       "#sk-container-id-1 div.sk-serial {\n",
       "  display: flex;\n",
       "  flex-direction: column;\n",
       "  align-items: center;\n",
       "  background-color: var(--sklearn-color-background);\n",
       "  padding-right: 1em;\n",
       "  padding-left: 1em;\n",
       "}\n",
       "\n",
       "\n",
       "/* Toggleable style: style used for estimator/Pipeline/ColumnTransformer box that is\n",
       "clickable and can be expanded/collapsed.\n",
       "- Pipeline and ColumnTransformer use this feature and define the default style\n",
       "- Estimators will overwrite some part of the style using the `sk-estimator` class\n",
       "*/\n",
       "\n",
       "/* Pipeline and ColumnTransformer style (default) */\n",
       "\n",
       "#sk-container-id-1 div.sk-toggleable {\n",
       "  /* Default theme specific background. It is overwritten whether we have a\n",
       "  specific estimator or a Pipeline/ColumnTransformer */\n",
       "  background-color: var(--sklearn-color-background);\n",
       "}\n",
       "\n",
       "/* Toggleable label */\n",
       "#sk-container-id-1 label.sk-toggleable__label {\n",
       "  cursor: pointer;\n",
       "  display: block;\n",
       "  width: 100%;\n",
       "  margin-bottom: 0;\n",
       "  padding: 0.5em;\n",
       "  box-sizing: border-box;\n",
       "  text-align: center;\n",
       "}\n",
       "\n",
       "#sk-container-id-1 label.sk-toggleable__label-arrow:before {\n",
       "  /* Arrow on the left of the label */\n",
       "  content: \"▸\";\n",
       "  float: left;\n",
       "  margin-right: 0.25em;\n",
       "  color: var(--sklearn-color-icon);\n",
       "}\n",
       "\n",
       "#sk-container-id-1 label.sk-toggleable__label-arrow:hover:before {\n",
       "  color: var(--sklearn-color-text);\n",
       "}\n",
       "\n",
       "/* Toggleable content - dropdown */\n",
       "\n",
       "#sk-container-id-1 div.sk-toggleable__content {\n",
       "  max-height: 0;\n",
       "  max-width: 0;\n",
       "  overflow: hidden;\n",
       "  text-align: left;\n",
       "  /* unfitted */\n",
       "  background-color: var(--sklearn-color-unfitted-level-0);\n",
       "}\n",
       "\n",
       "#sk-container-id-1 div.sk-toggleable__content.fitted {\n",
       "  /* fitted */\n",
       "  background-color: var(--sklearn-color-fitted-level-0);\n",
       "}\n",
       "\n",
       "#sk-container-id-1 div.sk-toggleable__content pre {\n",
       "  margin: 0.2em;\n",
       "  border-radius: 0.25em;\n",
       "  color: var(--sklearn-color-text);\n",
       "  /* unfitted */\n",
       "  background-color: var(--sklearn-color-unfitted-level-0);\n",
       "}\n",
       "\n",
       "#sk-container-id-1 div.sk-toggleable__content.fitted pre {\n",
       "  /* unfitted */\n",
       "  background-color: var(--sklearn-color-fitted-level-0);\n",
       "}\n",
       "\n",
       "#sk-container-id-1 input.sk-toggleable__control:checked~div.sk-toggleable__content {\n",
       "  /* Expand drop-down */\n",
       "  max-height: 200px;\n",
       "  max-width: 100%;\n",
       "  overflow: auto;\n",
       "}\n",
       "\n",
       "#sk-container-id-1 input.sk-toggleable__control:checked~label.sk-toggleable__label-arrow:before {\n",
       "  content: \"▾\";\n",
       "}\n",
       "\n",
       "/* Pipeline/ColumnTransformer-specific style */\n",
       "\n",
       "#sk-container-id-1 div.sk-label input.sk-toggleable__control:checked~label.sk-toggleable__label {\n",
       "  color: var(--sklearn-color-text);\n",
       "  background-color: var(--sklearn-color-unfitted-level-2);\n",
       "}\n",
       "\n",
       "#sk-container-id-1 div.sk-label.fitted input.sk-toggleable__control:checked~label.sk-toggleable__label {\n",
       "  background-color: var(--sklearn-color-fitted-level-2);\n",
       "}\n",
       "\n",
       "/* Estimator-specific style */\n",
       "\n",
       "/* Colorize estimator box */\n",
       "#sk-container-id-1 div.sk-estimator input.sk-toggleable__control:checked~label.sk-toggleable__label {\n",
       "  /* unfitted */\n",
       "  background-color: var(--sklearn-color-unfitted-level-2);\n",
       "}\n",
       "\n",
       "#sk-container-id-1 div.sk-estimator.fitted input.sk-toggleable__control:checked~label.sk-toggleable__label {\n",
       "  /* fitted */\n",
       "  background-color: var(--sklearn-color-fitted-level-2);\n",
       "}\n",
       "\n",
       "#sk-container-id-1 div.sk-label label.sk-toggleable__label,\n",
       "#sk-container-id-1 div.sk-label label {\n",
       "  /* The background is the default theme color */\n",
       "  color: var(--sklearn-color-text-on-default-background);\n",
       "}\n",
       "\n",
       "/* On hover, darken the color of the background */\n",
       "#sk-container-id-1 div.sk-label:hover label.sk-toggleable__label {\n",
       "  color: var(--sklearn-color-text);\n",
       "  background-color: var(--sklearn-color-unfitted-level-2);\n",
       "}\n",
       "\n",
       "/* Label box, darken color on hover, fitted */\n",
       "#sk-container-id-1 div.sk-label.fitted:hover label.sk-toggleable__label.fitted {\n",
       "  color: var(--sklearn-color-text);\n",
       "  background-color: var(--sklearn-color-fitted-level-2);\n",
       "}\n",
       "\n",
       "/* Estimator label */\n",
       "\n",
       "#sk-container-id-1 div.sk-label label {\n",
       "  font-family: monospace;\n",
       "  font-weight: bold;\n",
       "  display: inline-block;\n",
       "  line-height: 1.2em;\n",
       "}\n",
       "\n",
       "#sk-container-id-1 div.sk-label-container {\n",
       "  text-align: center;\n",
       "}\n",
       "\n",
       "/* Estimator-specific */\n",
       "#sk-container-id-1 div.sk-estimator {\n",
       "  font-family: monospace;\n",
       "  border: 1px dotted var(--sklearn-color-border-box);\n",
       "  border-radius: 0.25em;\n",
       "  box-sizing: border-box;\n",
       "  margin-bottom: 0.5em;\n",
       "  /* unfitted */\n",
       "  background-color: var(--sklearn-color-unfitted-level-0);\n",
       "}\n",
       "\n",
       "#sk-container-id-1 div.sk-estimator.fitted {\n",
       "  /* fitted */\n",
       "  background-color: var(--sklearn-color-fitted-level-0);\n",
       "}\n",
       "\n",
       "/* on hover */\n",
       "#sk-container-id-1 div.sk-estimator:hover {\n",
       "  /* unfitted */\n",
       "  background-color: var(--sklearn-color-unfitted-level-2);\n",
       "}\n",
       "\n",
       "#sk-container-id-1 div.sk-estimator.fitted:hover {\n",
       "  /* fitted */\n",
       "  background-color: var(--sklearn-color-fitted-level-2);\n",
       "}\n",
       "\n",
       "/* Specification for estimator info (e.g. \"i\" and \"?\") */\n",
       "\n",
       "/* Common style for \"i\" and \"?\" */\n",
       "\n",
       ".sk-estimator-doc-link,\n",
       "a:link.sk-estimator-doc-link,\n",
       "a:visited.sk-estimator-doc-link {\n",
       "  float: right;\n",
       "  font-size: smaller;\n",
       "  line-height: 1em;\n",
       "  font-family: monospace;\n",
       "  background-color: var(--sklearn-color-background);\n",
       "  border-radius: 1em;\n",
       "  height: 1em;\n",
       "  width: 1em;\n",
       "  text-decoration: none !important;\n",
       "  margin-left: 1ex;\n",
       "  /* unfitted */\n",
       "  border: var(--sklearn-color-unfitted-level-1) 1pt solid;\n",
       "  color: var(--sklearn-color-unfitted-level-1);\n",
       "}\n",
       "\n",
       ".sk-estimator-doc-link.fitted,\n",
       "a:link.sk-estimator-doc-link.fitted,\n",
       "a:visited.sk-estimator-doc-link.fitted {\n",
       "  /* fitted */\n",
       "  border: var(--sklearn-color-fitted-level-1) 1pt solid;\n",
       "  color: var(--sklearn-color-fitted-level-1);\n",
       "}\n",
       "\n",
       "/* On hover */\n",
       "div.sk-estimator:hover .sk-estimator-doc-link:hover,\n",
       ".sk-estimator-doc-link:hover,\n",
       "div.sk-label-container:hover .sk-estimator-doc-link:hover,\n",
       ".sk-estimator-doc-link:hover {\n",
       "  /* unfitted */\n",
       "  background-color: var(--sklearn-color-unfitted-level-3);\n",
       "  color: var(--sklearn-color-background);\n",
       "  text-decoration: none;\n",
       "}\n",
       "\n",
       "div.sk-estimator.fitted:hover .sk-estimator-doc-link.fitted:hover,\n",
       ".sk-estimator-doc-link.fitted:hover,\n",
       "div.sk-label-container:hover .sk-estimator-doc-link.fitted:hover,\n",
       ".sk-estimator-doc-link.fitted:hover {\n",
       "  /* fitted */\n",
       "  background-color: var(--sklearn-color-fitted-level-3);\n",
       "  color: var(--sklearn-color-background);\n",
       "  text-decoration: none;\n",
       "}\n",
       "\n",
       "/* Span, style for the box shown on hovering the info icon */\n",
       ".sk-estimator-doc-link span {\n",
       "  display: none;\n",
       "  z-index: 9999;\n",
       "  position: relative;\n",
       "  font-weight: normal;\n",
       "  right: .2ex;\n",
       "  padding: .5ex;\n",
       "  margin: .5ex;\n",
       "  width: min-content;\n",
       "  min-width: 20ex;\n",
       "  max-width: 50ex;\n",
       "  color: var(--sklearn-color-text);\n",
       "  box-shadow: 2pt 2pt 4pt #999;\n",
       "  /* unfitted */\n",
       "  background: var(--sklearn-color-unfitted-level-0);\n",
       "  border: .5pt solid var(--sklearn-color-unfitted-level-3);\n",
       "}\n",
       "\n",
       ".sk-estimator-doc-link.fitted span {\n",
       "  /* fitted */\n",
       "  background: var(--sklearn-color-fitted-level-0);\n",
       "  border: var(--sklearn-color-fitted-level-3);\n",
       "}\n",
       "\n",
       ".sk-estimator-doc-link:hover span {\n",
       "  display: block;\n",
       "}\n",
       "\n",
       "/* \"?\"-specific style due to the `<a>` HTML tag */\n",
       "\n",
       "#sk-container-id-1 a.estimator_doc_link {\n",
       "  float: right;\n",
       "  font-size: 1rem;\n",
       "  line-height: 1em;\n",
       "  font-family: monospace;\n",
       "  background-color: var(--sklearn-color-background);\n",
       "  border-radius: 1rem;\n",
       "  height: 1rem;\n",
       "  width: 1rem;\n",
       "  text-decoration: none;\n",
       "  /* unfitted */\n",
       "  color: var(--sklearn-color-unfitted-level-1);\n",
       "  border: var(--sklearn-color-unfitted-level-1) 1pt solid;\n",
       "}\n",
       "\n",
       "#sk-container-id-1 a.estimator_doc_link.fitted {\n",
       "  /* fitted */\n",
       "  border: var(--sklearn-color-fitted-level-1) 1pt solid;\n",
       "  color: var(--sklearn-color-fitted-level-1);\n",
       "}\n",
       "\n",
       "/* On hover */\n",
       "#sk-container-id-1 a.estimator_doc_link:hover {\n",
       "  /* unfitted */\n",
       "  background-color: var(--sklearn-color-unfitted-level-3);\n",
       "  color: var(--sklearn-color-background);\n",
       "  text-decoration: none;\n",
       "}\n",
       "\n",
       "#sk-container-id-1 a.estimator_doc_link.fitted:hover {\n",
       "  /* fitted */\n",
       "  background-color: var(--sklearn-color-fitted-level-3);\n",
       "}\n",
       "</style><div id=\"sk-container-id-1\" class=\"sk-top-container\"><div class=\"sk-text-repr-fallback\"><pre>KNeighborsClassifier()</pre><b>In a Jupyter environment, please rerun this cell to show the HTML representation or trust the notebook. <br />On GitHub, the HTML representation is unable to render, please try loading this page with nbviewer.org.</b></div><div class=\"sk-container\" hidden><div class=\"sk-item\"><div class=\"sk-estimator fitted sk-toggleable\"><input class=\"sk-toggleable__control sk-hidden--visually\" id=\"sk-estimator-id-1\" type=\"checkbox\" checked><label for=\"sk-estimator-id-1\" class=\"sk-toggleable__label fitted sk-toggleable__label-arrow fitted\">&nbsp;&nbsp;KNeighborsClassifier<a class=\"sk-estimator-doc-link fitted\" rel=\"noreferrer\" target=\"_blank\" href=\"https://scikit-learn.org/1.4/modules/generated/sklearn.neighbors.KNeighborsClassifier.html\">?<span>Documentation for KNeighborsClassifier</span></a><span class=\"sk-estimator-doc-link fitted\">i<span>Fitted</span></span></label><div class=\"sk-toggleable__content fitted\"><pre>KNeighborsClassifier()</pre></div> </div></div></div></div>"
      ],
      "text/plain": [
       "KNeighborsClassifier()"
      ]
     },
     "execution_count": 181,
     "metadata": {},
     "output_type": "execute_result"
    }
   ],
   "source": [
    "knn.fit(X_train, y_train)"
   ]
  },
  {
   "cell_type": "markdown",
   "metadata": {},
   "source": [
    "it outputs the trained model. we use most the default values for the parameters. e.g metric = 'minkowski' and p = 2 together that the distance is euclidean distance"
   ]
  },
  {
   "cell_type": "markdown",
   "metadata": {},
   "source": [
    "Label prediction\n",
    "\n",
    "to make a prediction in scikit learn, we can call the method predict() we are trying to predict the species of iris using given features in feature matrix X.\n",
    "let's make the predictions on the test data set and save the output in pred for later review"
   ]
  },
  {
   "cell_type": "code",
   "execution_count": null,
   "metadata": {},
   "outputs": [],
   "source": [
    "pred = knn.predict(X_test)"
   ]
  },
  {
   "cell_type": "markdown",
   "metadata": {},
   "source": [
    "let's review the first five predictions:"
   ]
  },
  {
   "cell_type": "code",
   "execution_count": null,
   "metadata": {},
   "outputs": [
    {
     "data": {
      "text/plain": [
       "array(['Iris-virginica', 'Iris-setosa', 'Iris-setosa', 'Iris-versicolor',\n",
       "       'Iris-versicolor'], dtype=object)"
      ]
     },
     "execution_count": 183,
     "metadata": {},
     "output_type": "execute_result"
    }
   ],
   "source": [
    "pred[:5]"
   ]
  },
  {
   "cell_type": "markdown",
   "metadata": {},
   "source": [
    "probability prediction\n",
    "\n",
    "of all classification algorithms implemented in scikit learn, there is an additional method 'predict_prob'. instead of splitting the label, it outputs the probability for the target in array form. let's take a look at what the predicted probabilities are the 11th and 12th flowers"
   ]
  },
  {
   "cell_type": "code",
   "execution_count": null,
   "metadata": {},
   "outputs": [
    {
     "data": {
      "text/plain": [
       "array([[1. , 0. , 0. ],\n",
       "       [0. , 0.2, 0.8]])"
      ]
     },
     "execution_count": 184,
     "metadata": {},
     "output_type": "execute_result"
    }
   ],
   "source": [
    "y_pred_prob = knn.predict_proba(X_test)\n",
    "y_pred_prob[10:12]"
   ]
  },
  {
   "cell_type": "markdown",
   "metadata": {},
   "source": [
    "for example, the probability of the 11th flower being predicted an iris-setosa is 1, an iris-versicolor and an iris-virginica are both 0. for the next flower, there is a 20% chance that it would be classified as iris-versicolor but 80% chance to be iris-virginica. what it tells us is that of the five nearest neighbours of the 12th flower in the testing set, 1 is an iris-versicolor, the rest 4 are iris-virginica. to see corresponding predictions:"
   ]
  },
  {
   "cell_type": "code",
   "execution_count": 271,
   "metadata": {},
   "outputs": [
    {
     "data": {
      "text/plain": [
       "array(['Iris-setosa', 'Iris-virginica'], dtype=object)"
      ]
     },
     "execution_count": 271,
     "metadata": {},
     "output_type": "execute_result"
    }
   ],
   "source": [
    "pred[10:12]"
   ]
  },
  {
   "cell_type": "code",
   "execution_count": null,
   "metadata": {},
   "outputs": [],
   "source": []
  }
 ],
 "metadata": {
  "kernelspec": {
   "display_name": "Python 3",
   "language": "python",
   "name": "python3"
  },
  "language_info": {
   "codemirror_mode": {
    "name": "ipython",
    "version": 3
   },
   "file_extension": ".py",
   "mimetype": "text/x-python",
   "name": "python",
   "nbconvert_exporter": "python",
   "pygments_lexer": "ipython3",
   "version": "3.12.3"
  }
 },
 "nbformat": 4,
 "nbformat_minor": 2
}
