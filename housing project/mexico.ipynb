{
 "cells": [
  {
   "cell_type": "markdown",
   "metadata": {},
   "source": [
    "# Introduction to tabular data\n",
    "\n",
    "In data science, tabular data refers to information organized in a structured format that resembles a table with rows and columns. It's one of the most fundamental and common data representations used in various applications. Here's a breakdown of key characteristics:\n",
    "\n",
    "* **Rows and Columns:** Tabular data is essentially a grid-like structure where each row represents a single data point or record, and each column represents a specific attribute or variable associated with that data point.\n",
    "* **Consistent Data Types:** Ideally, each column should contain data of a consistent type (e.g., numbers for loan amounts, text for names, dates for application dates). This consistency allows for efficient analysis and manipulation using data science tools.\n",
    "* **Headers:** Often, the first row in a table contains headers that define the meaning or description of each column. This improves readability and understanding of the data.\n",
    "\n",
    "Here are some real-world examples of tabular data:\n",
    "\n",
    "* **Loan application data:** Each row represents a loan applicant, with columns for attributes like name, loan amount, credit score, and property type.\n",
    "* **Sales data:** Each row represents a sales transaction, with columns for product details (e.g., ID, name, price), customer information, and sales quantity.\n",
    "* **Scientific data:** Each row represents a measurement or observation, with columns for different properties or variables being measured (e.g., temperature, pressure, time).\n",
    "\n",
    "**Advantages of Tabular Data:**\n",
    "\n",
    "* **Readability and Interpretability:** The structured format makes it easy for humans to understand the data by visually scanning rows and columns.\n",
    "* **Flexibility:** Tabular data can accommodate various data types and can be easily extended to include new attributes or data points.\n",
    "* **Interoperability:** Many data analysis tools and libraries are designed to work seamlessly with tabular data, making it a widely supported format.\n",
    "\n",
    "**Common ways to store and work with tabular data:**\n",
    "\n",
    "* **Spreadsheets (Excel, Google Sheets):** Popular tools for creating, editing, and manipulating tabular data.\n",
    "* **CSV (Comma-Separated Values):** A plain text file format where data is separated by commas, suitable for storing and sharing tabular data.\n",
    "* **Databases:** Relational databases store large amounts of structured data in tables with defined relationships between them.\n",
    "* **Pandas DataFrames (Python):** A powerful Python library specifically designed for working with tabular data, offering extensive data manipulation and analysis capabilities.\n",
    "\n",
    "Overall, tabular data plays a crucial role in data science by providing a well-organized and versatile foundation for various data analysis tasks.\n",
    "\n",
    "\n",
    "* each row corresponds to a single house in our dataset. we'll call each of these houses an observation\n",
    "* each column corresponds to a characteristic of each house. we'll call these features\n",
    "* each cell contains only one value"
   ]
  },
  {
   "cell_type": "markdown",
   "metadata": {},
   "source": [
    "# working with lists\n",
    "\n",
    "Python comes with several data structures that we can use to organize tabular data. Let's start by putting a single observation in a list."
   ]
  },
  {
   "cell_type": "code",
   "execution_count": 2,
   "metadata": {},
   "outputs": [
    {
     "data": {
      "text/plain": [
       "([115910.26, 128, 4], list)"
      ]
     },
     "execution_count": 2,
     "metadata": {},
     "output_type": "execute_result"
    }
   ],
   "source": [
    "# Declare variable 'house_0_list'\n",
    "\n",
    "house_0_list = [115910.26, 128, 4]\n",
    "house_0_list, type(house_0_list)"
   ]
  },
  {
   "cell_type": "code",
   "execution_count": 3,
   "metadata": {},
   "outputs": [
    {
     "name": "stdout",
     "output_type": "stream",
     "text": [
      "house_0_price_m2 type: <class 'int'>\n"
     ]
    },
    {
     "data": {
      "text/plain": [
       "4"
      ]
     },
     "execution_count": 3,
     "metadata": {},
     "output_type": "execute_result"
    }
   ],
   "source": [
    "# Declare variable `house_0_price_m2`\n",
    "house_0_price_m2 = house_0_list[2]\n",
    "\n",
    "# Print object type of `house_0_price_m2`\n",
    "print(\"house_0_price_m2 type:\", type(house_0_price_m2))\n",
    "\n",
    "# Get output of `house_0_price_m2`\n",
    "house_0_price_m2"
   ]
  },
  {
   "cell_type": "markdown",
   "metadata": {},
   "source": [
    "We've explored working with data for a single house. Now, let's tackle organizing the entire dataset. One approach involves creating individual lists for each data point, and then combining those lists into a larger list. This structure is called a nested list."
   ]
  },
  {
   "cell_type": "code",
   "execution_count": 4,
   "metadata": {},
   "outputs": [],
   "source": [
    "# Declare variable `houses_nested_list`\n",
    "houses_nested_list = [\n",
    "    [115910.26, 128.0, 4.0],\n",
    "    [48718.17, 210.0, 3.0],\n",
    "    [28977.56, 58.0, 2.0],\n",
    "    [36932.27, 79.0, 3.0],\n",
    "    [83903.51, 111.0, 3.0],\n",
    "]\n"
   ]
  },
  {
   "cell_type": "markdown",
   "metadata": {},
   "source": [
    "# learn how to use for loop\n",
    "* what's a for loop?\n",
    "* write a for loop in python"
   ]
  },
  {
   "cell_type": "code",
   "execution_count": 8,
   "metadata": {},
   "outputs": [
    {
     "name": "stdout",
     "output_type": "stream",
     "text": [
      "[115910.26, 128.0, 4.0, 905.54890625]\n",
      "[48718.17, 210.0, 3.0, 231.9912857142857]\n",
      "[28977.56, 58.0, 2.0, 499.61310344827587]\n",
      "[36932.27, 79.0, 3.0, 467.4970886075949]\n",
      "[83903.51, 111.0, 3.0, 755.8874774774774]\n"
     ]
    }
   ],
   "source": [
    "# create for loop to iterate through 'houses_nested_list'\n",
    "\n",
    "for house in houses_nested_list:\n",
    "    price_m2 = house[0]/house[1]\n",
    "    house.append(price_m2)\n",
    "    print(house)"
   ]
  },
  {
   "cell_type": "markdown",
   "metadata": {},
   "source": [
    "# Working with dictionaries\n",
    "\n",
    "While lists are useful for storing data, they can only hold bare values. This makes it difficult to understand what each value represents. Imagine seeing a list like [115910.26, 128.0, 4] - it's unclear which number is the price, area, or something else. Dictionaries offer a solution! They allow us to associate each value with a label (key), making the data much clearer. Look at how this house information transforms into a dictionary for better understanding."
   ]
  },
  {
   "cell_type": "code",
   "execution_count": 9,
   "metadata": {},
   "outputs": [
    {
     "name": "stdout",
     "output_type": "stream",
     "text": [
      "house_0_dict type: <class 'dict'>\n"
     ]
    },
    {
     "data": {
      "text/plain": [
       "{'price_approx_usd': 115910.26, 'surface_covered_in_m2': 128, 'rooms': 4}"
      ]
     },
     "execution_count": 9,
     "metadata": {},
     "output_type": "execute_result"
    }
   ],
   "source": [
    "# Declare variable `house_0_dict`\n",
    "house_0_dict = {\n",
    "    \"price_approx_usd\": 115910.26,\n",
    "    \"surface_covered_in_m2\": 128,\n",
    "    \"rooms\": 4,\n",
    "}\n",
    "\n",
    "# Print `house_0_dict` type\n",
    "print(\"house_0_dict type:\", type(house_0_dict))\n",
    "\n",
    "# Get output of `house_0_dict`\n",
    "house_0_dict"
   ]
  },
  {
   "cell_type": "code",
   "execution_count": 10,
   "metadata": {},
   "outputs": [
    {
     "data": {
      "text/plain": [
       "{'price_approx_usd': 115910.26,\n",
       " 'surface_covered_in_m2': 128,\n",
       " 'rooms': 4,\n",
       " 'price_per_m2': 905.54890625}"
      ]
     },
     "execution_count": 10,
     "metadata": {},
     "output_type": "execute_result"
    }
   ],
   "source": [
    "# Add \"price_per_m2\" key-value pair to `house_0_dict`\n",
    "house_0_dict[\"price_per_m2\"] = house_0_dict['price_approx_usd']/house_0_dict['surface_covered_in_m2']\n",
    "\n",
    "# Get output of `house_0_dict`\n",
    "house_0_dict"
   ]
  },
  {
   "cell_type": "code",
   "execution_count": 11,
   "metadata": {},
   "outputs": [
    {
     "name": "stdout",
     "output_type": "stream",
     "text": [
      "houses_rowwise type: <class 'list'>\n",
      "houses_rowwise length: 5\n"
     ]
    },
    {
     "data": {
      "text/plain": [
       "[{'price_approx_usd': 115910.26, 'surface_covered_in_m2': 128, 'rooms': 4},\n",
       " {'price_approx_usd': 48718.17, 'surface_covered_in_m2': 210, 'rooms': 3},\n",
       " {'price_approx_usd': 28977.56, 'surface_covered_in_m2': 58, 'rooms': 2},\n",
       " {'price_approx_usd': 36932.27, 'surface_covered_in_m2': 79, 'rooms': 3},\n",
       " {'price_approx_usd': 83903.51, 'surface_covered_in_m2': 111, 'rooms': 3}]"
      ]
     },
     "execution_count": 11,
     "metadata": {},
     "output_type": "execute_result"
    }
   ],
   "source": [
    "# Declare variable `houses_rowwise`\n",
    "houses_rowwise = [\n",
    "    {\n",
    "        \"price_approx_usd\": 115910.26,\n",
    "        \"surface_covered_in_m2\": 128,\n",
    "        \"rooms\": 4,\n",
    "    },\n",
    "    {\n",
    "        \"price_approx_usd\": 48718.17,\n",
    "        \"surface_covered_in_m2\": 210,\n",
    "        \"rooms\": 3,\n",
    "    },\n",
    "    {\n",
    "        \"price_approx_usd\": 28977.56,\n",
    "        \"surface_covered_in_m2\": 58,\n",
    "        \"rooms\": 2,\n",
    "    },\n",
    "    {\n",
    "        \"price_approx_usd\": 36932.27,\n",
    "        \"surface_covered_in_m2\": 79,\n",
    "        \"rooms\": 3,\n",
    "    },\n",
    "    {\n",
    "        \"price_approx_usd\": 83903.51,\n",
    "        \"surface_covered_in_m2\": 111,\n",
    "        \"rooms\": 3,\n",
    "    },\n",
    "]\n",
    "\n",
    "# Print `houses_rowwise` object type\n",
    "print(\"houses_rowwise type:\", type(houses_rowwise))\n",
    "\n",
    "# Print `houses_rowwise` length\n",
    "print(\"houses_rowwise length:\", len(houses_rowwise))\n",
    "\n",
    "# Get output of `houses_rowwise`\n",
    "houses_rowwise"
   ]
  },
  {
   "cell_type": "code",
   "execution_count": 12,
   "metadata": {},
   "outputs": [
    {
     "name": "stdout",
     "output_type": "stream",
     "text": [
      "houses_rowwise type: <class 'list'>\n",
      "houses_rowwise length: 5\n"
     ]
    },
    {
     "data": {
      "text/plain": [
       "[{'price_approx_usd': 115910.26,\n",
       "  'surface_covered_in_m2': 128,\n",
       "  'rooms': 4,\n",
       "  'price_per_m2': 905.54890625},\n",
       " {'price_approx_usd': 48718.17,\n",
       "  'surface_covered_in_m2': 210,\n",
       "  'rooms': 3,\n",
       "  'price_per_m2': 231.9912857142857},\n",
       " {'price_approx_usd': 28977.56,\n",
       "  'surface_covered_in_m2': 58,\n",
       "  'rooms': 2,\n",
       "  'price_per_m2': 499.61310344827587},\n",
       " {'price_approx_usd': 36932.27,\n",
       "  'surface_covered_in_m2': 79,\n",
       "  'rooms': 3,\n",
       "  'price_per_m2': 467.4970886075949},\n",
       " {'price_approx_usd': 83903.51,\n",
       "  'surface_covered_in_m2': 111,\n",
       "  'rooms': 3,\n",
       "  'price_per_m2': 755.8874774774774}]"
      ]
     },
     "execution_count": 12,
     "metadata": {},
     "output_type": "execute_result"
    }
   ],
   "source": [
    "# Create for loop to iterate through `houses_rowwise`\n",
    "for house in houses_rowwise:\n",
    "\n",
    "    # For each observation, add \"price_per_m2\" key-value pair\n",
    "    house[\"price_per_m2\"] = house['price_approx_usd']/house['surface_covered_in_m2']\n",
    "\n",
    "# Print `houses_rowwise` object type\n",
    "print(\"houses_rowwise type:\", type(houses_rowwise))\n",
    "\n",
    "# Print `houses_rowwise` length\n",
    "print(\"houses_rowwise length:\", len(houses_rowwise))\n",
    "\n",
    "# Get output of `houses_rowwise`\n",
    "houses_rowwise"
   ]
  },
  {
   "cell_type": "code",
   "execution_count": 13,
   "metadata": {},
   "outputs": [
    {
     "name": "stdout",
     "output_type": "stream",
     "text": [
      "mean_house_price type: <class 'float'>\n"
     ]
    },
    {
     "data": {
      "text/plain": [
       "62888.35399999999"
      ]
     },
     "execution_count": 13,
     "metadata": {},
     "output_type": "execute_result"
    }
   ],
   "source": [
    "# Declare `house_prices` as empty list\n",
    "house_prices = []\n",
    "\n",
    "# Iterate through `houses_rowwise`\n",
    "for house in houses_rowwise:\n",
    "    # For each house, append \"price_approx_usd\" to `house_prices`\n",
    "    house_prices.append(house['price_approx_usd'])\n",
    "\n",
    "# Calculate `mean_house_price` using `house_prices`\n",
    "mean_house_price = sum(house_prices) / len(house_prices)\n",
    "\n",
    "# Print `mean_house_price` object type\n",
    "print(\"mean_house_price type:\", type(mean_house_price))\n",
    "\n",
    "# Get output of `mean_house_price`\n",
    "mean_house_price"
   ]
  },
  {
   "cell_type": "markdown",
   "metadata": {},
   "source": [
    "To streamline these calculations, let's reorganize our data. Instead of focusing on individual observations, we'll structure it by features. We'll still use dictionaries and lists, but in a slightly different way."
   ]
  },
  {
   "cell_type": "code",
   "execution_count": 15,
   "metadata": {},
   "outputs": [
    {
     "name": "stdout",
     "output_type": "stream",
     "text": [
      "houses_columnwise type: <class 'dict'>\n"
     ]
    },
    {
     "data": {
      "text/plain": [
       "{'price_approx_usd': [115910.26, 48718.17, 28977.56, 36932.27, 83903.51],\n",
       " 'surface_covered_in_m2': [128.0, 210.0, 58.0, 79.0, 111.0],\n",
       " 'rooms': [4.0, 3.0, 2.0, 3.0, 3.0]}"
      ]
     },
     "execution_count": 15,
     "metadata": {},
     "output_type": "execute_result"
    }
   ],
   "source": [
    "# Declare variable `houses_columnwise`\n",
    "houses_columnwise = {\n",
    "    \"price_approx_usd\": [115910.26, 48718.17, 28977.56, 36932.27, 83903.51],\n",
    "    \"surface_covered_in_m2\": [128.0, 210.0, 58.0, 79.0, 111.0],\n",
    "    \"rooms\": [4.0, 3.0, 2.0, 3.0, 3.0],\n",
    "}\n",
    "\n",
    "# Print `houses_columnwise` object type\n",
    "print(\"houses_columnwise type:\", type(houses_columnwise))\n",
    "\n",
    "# Get output of `houses_columnwise`\n",
    "houses_columnwise"
   ]
  },
  {
   "cell_type": "code",
   "execution_count": 16,
   "metadata": {},
   "outputs": [
    {
     "name": "stdout",
     "output_type": "stream",
     "text": [
      "mean_house_price type: <class 'float'>\n"
     ]
    },
    {
     "data": {
      "text/plain": [
       "62888.35399999999"
      ]
     },
     "execution_count": 16,
     "metadata": {},
     "output_type": "execute_result"
    }
   ],
   "source": [
    "# Calculate `mean_house_price` using `houses_columnwise`\n",
    "mean_house_price = sum(houses_columnwise[\"price_approx_usd\"])/len(houses_columnwise['price_approx_usd'])\n",
    "\n",
    "# Print `mean_house_price` object type\n",
    "print(\"mean_house_price type:\", type(mean_house_price))\n",
    "\n",
    "# Get output of `mean_house_price`\n",
    "mean_house_price"
   ]
  },
  {
   "cell_type": "code",
   "execution_count": 17,
   "metadata": {},
   "outputs": [
    {
     "name": "stdout",
     "output_type": "stream",
     "text": [
      "houses_columnwise type: <class 'dict'>\n"
     ]
    },
    {
     "data": {
      "text/plain": [
       "{'price_approx_usd': [115910.26, 48718.17, 28977.56, 36932.27, 83903.51],\n",
       " 'surface_covered_in_m2': [128.0, 210.0, 58.0, 79.0, 111.0],\n",
       " 'rooms': [4.0, 3.0, 2.0, 3.0, 3.0],\n",
       " 'price_per_m2': [905.54890625,\n",
       "  231.9912857142857,\n",
       "  499.61310344827587,\n",
       "  467.4970886075949,\n",
       "  755.8874774774774]}"
      ]
     },
     "execution_count": 17,
     "metadata": {},
     "output_type": "execute_result"
    }
   ],
   "source": [
    "# Add \"price_per_m2\" key-value pair for `houses_columnwise`\n",
    "\n",
    "price = houses_columnwise['price_approx_usd']\n",
    "area = houses_columnwise['surface_covered_in_m2']\n",
    "\n",
    "price_per_m2 = []\n",
    "for p,a in zip(price,area):\n",
    "    price_m2 = p / a\n",
    "    price_per_m2.append(price_m2)\n",
    "houses_columnwise[\"price_per_m2\"] = price_per_m2\n",
    "\n",
    "# Print `houses_columnwise` object type\n",
    "print(\"houses_columnwise type:\", type(houses_columnwise))\n",
    "\n",
    "# Get output of `houses_columnwise`\n",
    "houses_columnwise"
   ]
  },
  {
   "cell_type": "code",
   "execution_count": null,
   "metadata": {},
   "outputs": [],
   "source": []
  }
 ],
 "metadata": {
  "kernelspec": {
   "display_name": "Python 3",
   "language": "python",
   "name": "python3"
  },
  "language_info": {
   "codemirror_mode": {
    "name": "ipython",
    "version": 3
   },
   "file_extension": ".py",
   "mimetype": "text/x-python",
   "name": "python",
   "nbconvert_exporter": "python",
   "pygments_lexer": "ipython3",
   "version": "3.12.4"
  }
 },
 "nbformat": 4,
 "nbformat_minor": 2
}
