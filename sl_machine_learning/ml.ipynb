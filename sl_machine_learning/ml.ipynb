{
 "cells": [
  {
   "cell_type": "markdown",
   "metadata": {},
   "source": [
    "# Where does classification fit in the world of machine learning?\n",
    "\n",
    "machine learning on a high level is made up of supervised and unsupervised learning\n",
    "\n",
    "supervised learning means that we will have labelled historical data that we will use to inform our model. we call the label or thing we're trying to predict. the target. so in supervised learning, there is a known target for the historical data, and for unsupervised learning there is no known target\n",
    "\n",
    "within supervised learning, there is classification and regression. classification problems are where the target is a categorical value ( often True or False, but can be multiple categories). Regression problems are where the target is a numerical value\n",
    "\n",
    "for example, predicting housing prices is a regression problem. it's supervised, since we have historical data of the sales of houses in the past. it's regression, because the housing price is a numerical value. predicting if someone will default on their loan is a classification problem. again, it's supervised, since we have the historical data of whether past loanees defaulted, and it's a classification problem because we are typing if the loan is in one of two categories\n",
    "\n",
    "# classification terminology\n",
    "\n",
    "Target : column one is trying to predict\n",
    "\n",
    "Features : columns with data we use to make our prediction"
   ]
  },
  {
   "cell_type": "markdown",
   "metadata": {},
   "source": []
  },
  {
   "cell_type": "code",
   "execution_count": null,
   "metadata": {},
   "outputs": [],
   "source": []
  }
 ],
 "metadata": {
  "language_info": {
   "name": "python"
  }
 },
 "nbformat": 4,
 "nbformat_minor": 2
}
